{
 "cells": [
  {
   "cell_type": "code",
   "execution_count": 52,
   "metadata": {},
   "outputs": [],
   "source": [
    "# Import packages \n",
    "import numpy as np\n",
    "import pandas as pd\n",
    "import sys\n",
    "import math"
   ]
  },
  {
   "cell_type": "markdown",
   "metadata": {},
   "source": [
    "# Demographics of Clients at UMD"
   ]
  },
  {
   "cell_type": "code",
   "execution_count": 53,
   "metadata": {},
   "outputs": [
    {
     "data": {
      "text/html": [
       "<div>\n",
       "<style scoped>\n",
       "    .dataframe tbody tr th:only-of-type {\n",
       "        vertical-align: middle;\n",
       "    }\n",
       "\n",
       "    .dataframe tbody tr th {\n",
       "        vertical-align: top;\n",
       "    }\n",
       "\n",
       "    .dataframe thead th {\n",
       "        text-align: right;\n",
       "    }\n",
       "</style>\n",
       "<table border=\"1\" class=\"dataframe\">\n",
       "  <thead>\n",
       "    <tr style=\"text-align: right;\">\n",
       "      <th></th>\n",
       "      <th>EE Provider ID</th>\n",
       "      <th>EE UID</th>\n",
       "      <th>Client Unique ID</th>\n",
       "      <th>Client ID</th>\n",
       "      <th>Client Age at Entry</th>\n",
       "      <th>Client Age at Exit</th>\n",
       "      <th>Client Gender</th>\n",
       "      <th>Client Primary Race</th>\n",
       "      <th>Client Ethnicity</th>\n",
       "      <th>Client Veteran Status</th>\n",
       "    </tr>\n",
       "  </thead>\n",
       "  <tbody>\n",
       "    <tr>\n",
       "      <th>0</th>\n",
       "      <td>Urban Ministries of Durham - Durham County - S...</td>\n",
       "      <td>687901</td>\n",
       "      <td>pbkf09291954p610b236</td>\n",
       "      <td>397941</td>\n",
       "      <td>60.0</td>\n",
       "      <td>61.0</td>\n",
       "      <td>Female</td>\n",
       "      <td>White (HUD)</td>\n",
       "      <td>Non-Hispanic/Non-Latino (HUD)</td>\n",
       "      <td>No (HUD)</td>\n",
       "    </tr>\n",
       "    <tr>\n",
       "      <th>1</th>\n",
       "      <td>Urban Ministries of Durham - Durham County - S...</td>\n",
       "      <td>687902</td>\n",
       "      <td>kdaf01071967k400d635</td>\n",
       "      <td>130335</td>\n",
       "      <td>48.0</td>\n",
       "      <td>48.0</td>\n",
       "      <td>Female</td>\n",
       "      <td>Black or African American (HUD)</td>\n",
       "      <td>Non-Hispanic/Non-Latino (HUD)</td>\n",
       "      <td>No (HUD)</td>\n",
       "    </tr>\n",
       "    <tr>\n",
       "      <th>2</th>\n",
       "      <td>Urban Ministries of Durham - Durham County - S...</td>\n",
       "      <td>687903</td>\n",
       "      <td>smrf06211973s620m640</td>\n",
       "      <td>188933</td>\n",
       "      <td>42.0</td>\n",
       "      <td>42.0</td>\n",
       "      <td>Female</td>\n",
       "      <td>Black or African American (HUD)</td>\n",
       "      <td>Non-Hispanic/Non-Latino (HUD)</td>\n",
       "      <td>No (HUD)</td>\n",
       "    </tr>\n",
       "    <tr>\n",
       "      <th>3</th>\n",
       "      <td>Urban Ministries of Durham - Durham County - S...</td>\n",
       "      <td>687904</td>\n",
       "      <td>abrm07251958a416b600</td>\n",
       "      <td>168290</td>\n",
       "      <td>57.0</td>\n",
       "      <td>57.0</td>\n",
       "      <td>Male</td>\n",
       "      <td>White (HUD)</td>\n",
       "      <td>Hispanic/Latino (HUD)</td>\n",
       "      <td>No (HUD)</td>\n",
       "    </tr>\n",
       "    <tr>\n",
       "      <th>4</th>\n",
       "      <td>Urban Ministries of Durham - Durham County - S...</td>\n",
       "      <td>687905</td>\n",
       "      <td>wbom01251964w450b620</td>\n",
       "      <td>123122</td>\n",
       "      <td>51.0</td>\n",
       "      <td>51.0</td>\n",
       "      <td>Male</td>\n",
       "      <td>White (HUD)</td>\n",
       "      <td>Non-Hispanic/Non-Latino (HUD)</td>\n",
       "      <td>No (HUD)</td>\n",
       "    </tr>\n",
       "  </tbody>\n",
       "</table>\n",
       "</div>"
      ],
      "text/plain": [
       "                                      EE Provider ID  EE UID  \\\n",
       "0  Urban Ministries of Durham - Durham County - S...  687901   \n",
       "1  Urban Ministries of Durham - Durham County - S...  687902   \n",
       "2  Urban Ministries of Durham - Durham County - S...  687903   \n",
       "3  Urban Ministries of Durham - Durham County - S...  687904   \n",
       "4  Urban Ministries of Durham - Durham County - S...  687905   \n",
       "\n",
       "       Client Unique ID  Client ID  Client Age at Entry  Client Age at Exit  \\\n",
       "0  pbkf09291954p610b236     397941                 60.0                61.0   \n",
       "1  kdaf01071967k400d635     130335                 48.0                48.0   \n",
       "2  smrf06211973s620m640     188933                 42.0                42.0   \n",
       "3  abrm07251958a416b600     168290                 57.0                57.0   \n",
       "4  wbom01251964w450b620     123122                 51.0                51.0   \n",
       "\n",
       "  Client Gender              Client Primary Race  \\\n",
       "0        Female                      White (HUD)   \n",
       "1        Female  Black or African American (HUD)   \n",
       "2        Female  Black or African American (HUD)   \n",
       "3          Male                      White (HUD)   \n",
       "4          Male                      White (HUD)   \n",
       "\n",
       "                Client Ethnicity Client Veteran Status  \n",
       "0  Non-Hispanic/Non-Latino (HUD)              No (HUD)  \n",
       "1  Non-Hispanic/Non-Latino (HUD)              No (HUD)  \n",
       "2  Non-Hispanic/Non-Latino (HUD)              No (HUD)  \n",
       "3          Hispanic/Latino (HUD)              No (HUD)  \n",
       "4  Non-Hispanic/Non-Latino (HUD)              No (HUD)  "
      ]
     },
     "execution_count": 53,
     "metadata": {},
     "output_type": "execute_result"
    }
   ],
   "source": [
    "client = pd.read_csv(\"/Users/jieun/github_updated/bios611-projects-fall-2019-jennprk/project_3/data/CLIENT_191102.tsv\", sep=\"\\t\")\n",
    "client.head()"
   ]
  },
  {
   "cell_type": "code",
   "execution_count": 54,
   "metadata": {},
   "outputs": [
    {
     "name": "stdout",
     "output_type": "stream",
     "text": [
      "EE Provider ID\n",
      "EE UID\n",
      "Client Unique ID\n",
      "Client ID\n",
      "Client Age at Entry\n",
      "Client Age at Exit\n",
      "Client Gender\n",
      "Client Primary Race\n",
      "Client Ethnicity\n",
      "Client Veteran Status\n"
     ]
    }
   ],
   "source": [
    "# Check the original column names and change to neater version\n",
    "for col in client.columns: \n",
    "    print(col) \n",
    "    \n",
    "client.columns = ['provider','EUID','CUID', 'ClientID','AgeEntry','AgeExit','Gender','Race','Ethnicity','Veteran']"
   ]
  },
  {
   "cell_type": "code",
   "execution_count": 55,
   "metadata": {},
   "outputs": [],
   "source": [
    "# Filter the variables of interest\n",
    "client2 = client[['ClientID','AgeEntry','AgeExit','Gender','Race','Ethnicity','Veteran']]"
   ]
  },
  {
   "cell_type": "code",
   "execution_count": 56,
   "metadata": {},
   "outputs": [
    {
     "name": "stdout",
     "output_type": "stream",
     "text": [
      "   ClientID  AgeEntry  AgeExit  Gender  Race  Ethnicity  Veteran\n",
      "0         0         3        3       3     3          3       10\n"
     ]
    }
   ],
   "source": [
    "# Checking Missingness\n",
    "## Generate the number of missing values in the demographic variables\n",
    "nullvals =  [\"\" for x in range(len(client2.columns))]\n",
    "nullvals = pd.DataFrame(nullvals).T\n",
    "nullvals.columns = client2.columns\n",
    "\n",
    "for col in client2.columns:\n",
    "    nullval = client2[col].isnull()\n",
    "    nullvals[col] = sum(nullval)\n",
    "    \n",
    "print(nullvals)"
   ]
  },
  {
   "cell_type": "code",
   "execution_count": 57,
   "metadata": {},
   "outputs": [],
   "source": [
    "client2 = client2.dropna()"
   ]
  },
  {
   "cell_type": "code",
   "execution_count": 58,
   "metadata": {},
   "outputs": [],
   "source": [
    "# function for unique values\n",
    "def unique(list1): \n",
    "      \n",
    "    # insert the list to the set \n",
    "    list_set = set(list1) \n",
    "    # convert the set to the list \n",
    "    unique_list = (list(list_set)) \n",
    "    for x in unique_list: \n",
    "        print(x)"
   ]
  },
  {
   "cell_type": "code",
   "execution_count": 59,
   "metadata": {},
   "outputs": [
    {
     "name": "stdout",
     "output_type": "stream",
     "text": [
      "Trans Female (MTF or Male to Female)\n",
      "Female\n",
      "Male\n",
      "\n",
      "American Indian or Alaska Native (HUD)\n",
      "Client doesn't know (HUD)\n",
      "Asian (HUD)\n",
      "Client refused (HUD)\n",
      "White (HUD)\n",
      "Black or African American (HUD)\n",
      "Data not collected (HUD)\n",
      "Native Hawaiian or Other Pacific Islander (HUD)\n",
      "\n",
      "Client doesn't know (HUD)\n",
      "Client refused (HUD)\n",
      "Data not collected (HUD)\n",
      "Hispanic/Latino (HUD)\n",
      "Non-Hispanic/Non-Latino (HUD)\n",
      "\n",
      "Yes (HUD)\n",
      "No (HUD)\n",
      "Data not collected (HUD)\n"
     ]
    }
   ],
   "source": [
    "# unique values of categorical variables\n",
    "cat = ['Gender', 'Race', 'Ethnicity', 'Veteran']\n",
    "\n",
    "unique(client2[cat[0]])\n",
    "print()\n",
    "unique(client2[cat[1]])\n",
    "print()\n",
    "unique(client2[cat[2]])\n",
    "print()\n",
    "unique(client2[cat[3]])\n",
    "\n",
    "#for col in cat:\n",
    "#    ls = list(unique(client2[col]))\n",
    "#    unqlist.append(ls)"
   ]
  },
  {
   "cell_type": "markdown",
   "metadata": {},
   "source": [
    "### 1. Age Demographics (Entry)"
   ]
  },
  {
   "cell_type": "code",
   "execution_count": 60,
   "metadata": {},
   "outputs": [
    {
     "data": {
      "text/plain": [
       "44.2"
      ]
     },
     "execution_count": 60,
     "metadata": {},
     "output_type": "execute_result"
    }
   ],
   "source": [
    "round(client2.AgeEntry.mean(),1) # average entry age"
   ]
  },
  {
   "cell_type": "code",
   "execution_count": 61,
   "metadata": {},
   "outputs": [
    {
     "data": {
      "text/plain": [
       "18.0"
      ]
     },
     "execution_count": 61,
     "metadata": {},
     "output_type": "execute_result"
    }
   ],
   "source": [
    "client2.AgeEntry.min() # minimum entry age"
   ]
  },
  {
   "cell_type": "code",
   "execution_count": 62,
   "metadata": {},
   "outputs": [
    {
     "data": {
      "text/plain": [
       "46.0"
      ]
     },
     "execution_count": 62,
     "metadata": {},
     "output_type": "execute_result"
    }
   ],
   "source": [
    "client2.AgeEntry.median() # median entry age"
   ]
  },
  {
   "cell_type": "code",
   "execution_count": 63,
   "metadata": {},
   "outputs": [
    {
     "data": {
      "text/plain": [
       "81.0"
      ]
     },
     "execution_count": 63,
     "metadata": {},
     "output_type": "execute_result"
    }
   ],
   "source": [
    "client2.AgeEntry.max() # maximum entry age"
   ]
  },
  {
   "cell_type": "code",
   "execution_count": 64,
   "metadata": {},
   "outputs": [
    {
     "data": {
      "text/plain": [
       "12.8"
      ]
     },
     "execution_count": 64,
     "metadata": {},
     "output_type": "execute_result"
    }
   ],
   "source": [
    "round(client2.AgeEntry.std(),1) # standard deviation of entry age"
   ]
  },
  {
   "cell_type": "markdown",
   "metadata": {},
   "source": [
    "### 2. Age Demographics (Exit)"
   ]
  },
  {
   "cell_type": "code",
   "execution_count": 65,
   "metadata": {},
   "outputs": [
    {
     "data": {
      "text/plain": [
       "44.4"
      ]
     },
     "execution_count": 65,
     "metadata": {},
     "output_type": "execute_result"
    }
   ],
   "source": [
    "round(client2.AgeExit.mean(),1) # average entry age"
   ]
  },
  {
   "cell_type": "code",
   "execution_count": 66,
   "metadata": {},
   "outputs": [
    {
     "data": {
      "text/plain": [
       "18.0"
      ]
     },
     "execution_count": 66,
     "metadata": {},
     "output_type": "execute_result"
    }
   ],
   "source": [
    "client2.AgeExit.min() # minimum exit age"
   ]
  },
  {
   "cell_type": "code",
   "execution_count": 67,
   "metadata": {},
   "outputs": [
    {
     "data": {
      "text/plain": [
       "81.0"
      ]
     },
     "execution_count": 67,
     "metadata": {},
     "output_type": "execute_result"
    }
   ],
   "source": [
    "client2.AgeExit.max() # minimum exit age"
   ]
  },
  {
   "cell_type": "code",
   "execution_count": 68,
   "metadata": {},
   "outputs": [
    {
     "data": {
      "text/plain": [
       "12.8"
      ]
     },
     "execution_count": 68,
     "metadata": {},
     "output_type": "execute_result"
    }
   ],
   "source": [
    "round(client2.AgeExit.std(),1) # standard deviation of exit age"
   ]
  },
  {
   "cell_type": "markdown",
   "metadata": {},
   "source": [
    "### 3. Gender Demographics"
   ]
  },
  {
   "cell_type": "code",
   "execution_count": 69,
   "metadata": {},
   "outputs": [
    {
     "data": {
      "text/plain": [
       "Male                                    3981\n",
       "Female                                  1288\n",
       "Trans Female (MTF or Male to Female)      17\n",
       "Name: Gender, dtype: int64"
      ]
     },
     "execution_count": 69,
     "metadata": {},
     "output_type": "execute_result"
    }
   ],
   "source": [
    "client2['Gender'].value_counts()"
   ]
  },
  {
   "cell_type": "markdown",
   "metadata": {},
   "source": [
    "### 4. Race Demographics"
   ]
  },
  {
   "cell_type": "code",
   "execution_count": 70,
   "metadata": {
    "scrolled": true
   },
   "outputs": [
    {
     "data": {
      "text/plain": [
       "Black or African American (HUD)                    3856\n",
       "White (HUD)                                        1311\n",
       "American Indian or Alaska Native (HUD)               90\n",
       "Native Hawaiian or Other Pacific Islander (HUD)      11\n",
       "Data not collected (HUD)                              6\n",
       "Client refused (HUD)                                  5\n",
       "Client doesn't know (HUD)                             4\n",
       "Asian (HUD)                                           3\n",
       "Name: Race, dtype: int64"
      ]
     },
     "execution_count": 70,
     "metadata": {},
     "output_type": "execute_result"
    }
   ],
   "source": [
    "client2['Race'].value_counts()"
   ]
  },
  {
   "cell_type": "markdown",
   "metadata": {},
   "source": [
    "### 5. Ethnicity Demographics"
   ]
  },
  {
   "cell_type": "code",
   "execution_count": 71,
   "metadata": {},
   "outputs": [
    {
     "data": {
      "text/plain": [
       "Non-Hispanic/Non-Latino (HUD)    5065\n",
       "Hispanic/Latino (HUD)             191\n",
       "Data not collected (HUD)           13\n",
       "Client doesn't know (HUD)           9\n",
       "Client refused (HUD)                8\n",
       "Name: Ethnicity, dtype: int64"
      ]
     },
     "execution_count": 71,
     "metadata": {},
     "output_type": "execute_result"
    }
   ],
   "source": [
    "client2['Ethnicity'].value_counts()"
   ]
  },
  {
   "cell_type": "markdown",
   "metadata": {},
   "source": [
    "### 6. Veteran Demographics"
   ]
  },
  {
   "cell_type": "code",
   "execution_count": 72,
   "metadata": {},
   "outputs": [
    {
     "data": {
      "text/plain": [
       "No (HUD)                    4721\n",
       "Yes (HUD)                    558\n",
       "Data not collected (HUD)       7\n",
       "Name: Veteran, dtype: int64"
      ]
     },
     "execution_count": 72,
     "metadata": {},
     "output_type": "execute_result"
    }
   ],
   "source": [
    "client2[\"Veteran\"].value_counts()"
   ]
  },
  {
   "cell_type": "markdown",
   "metadata": {},
   "source": [
    "# Income Dataset"
   ]
  },
  {
   "cell_type": "code",
   "execution_count": 73,
   "metadata": {},
   "outputs": [],
   "source": [
    "incomeEntry = pd.read_csv(\"/Users/jieun/github_updated/bios611-projects-fall-2019-jennprk/project_3/data/INCOME_ENTRY_191102.tsv\", sep='\\t')"
   ]
  },
  {
   "cell_type": "code",
   "execution_count": 74,
   "metadata": {},
   "outputs": [
    {
     "name": "stdout",
     "output_type": "stream",
     "text": [
      "EE Provider ID\n",
      "EE UID\n",
      "Client Unique ID\n",
      "Client ID\n",
      "Receiving Income (Entry)\n",
      "Income Source (Entry)\n",
      "Monthly Amount (Entry)\n",
      "Income Start Date (Entry)\n",
      "Income End Date (Entry)\n",
      "Recordset ID (140-recordset_id)\n",
      "Provider (140-provider)\n",
      "Date Added (140-date_added)\n"
     ]
    }
   ],
   "source": [
    "# Check the original column names and change to neater version\n",
    "for col in incomeEntry.columns: \n",
    "    print(col) \n",
    "    \n",
    "incomeEntry.columns = ['provider','EUID','CUID', 'ClientID','IncomeEntry','IncomeSourceEntry','MonthlyIncomeEntry','IncomeStartDateEntry','IncomeEndDateEntry','recordsetID','ProviderID','dateadded']"
   ]
  },
  {
   "cell_type": "code",
   "execution_count": 116,
   "metadata": {},
   "outputs": [
    {
     "data": {
      "text/html": [
       "<div>\n",
       "<style scoped>\n",
       "    .dataframe tbody tr th:only-of-type {\n",
       "        vertical-align: middle;\n",
       "    }\n",
       "\n",
       "    .dataframe tbody tr th {\n",
       "        vertical-align: top;\n",
       "    }\n",
       "\n",
       "    .dataframe thead th {\n",
       "        text-align: right;\n",
       "    }\n",
       "</style>\n",
       "<table border=\"1\" class=\"dataframe\">\n",
       "  <thead>\n",
       "    <tr style=\"text-align: right;\">\n",
       "      <th></th>\n",
       "      <th>ClientID</th>\n",
       "      <th>IncomeEntry</th>\n",
       "      <th>IncomeSourceEntry</th>\n",
       "      <th>MonthlyIncomeEntry</th>\n",
       "      <th>IncomeStartDateEntry</th>\n",
       "      <th>IncomeEndDateEntry</th>\n",
       "    </tr>\n",
       "  </thead>\n",
       "  <tbody>\n",
       "    <tr>\n",
       "      <th>0</th>\n",
       "      <td>397941</td>\n",
       "      <td>No</td>\n",
       "      <td>Alimony or Other Spousal Support (HUD)</td>\n",
       "      <td>NaN</td>\n",
       "      <td>4/20/2015</td>\n",
       "      <td>NaN</td>\n",
       "    </tr>\n",
       "    <tr>\n",
       "      <th>1</th>\n",
       "      <td>397941</td>\n",
       "      <td>No</td>\n",
       "      <td>Child Support (HUD)</td>\n",
       "      <td>NaN</td>\n",
       "      <td>4/20/2015</td>\n",
       "      <td>NaN</td>\n",
       "    </tr>\n",
       "    <tr>\n",
       "      <th>2</th>\n",
       "      <td>397941</td>\n",
       "      <td>No</td>\n",
       "      <td>Earned Income (HUD)</td>\n",
       "      <td>NaN</td>\n",
       "      <td>4/20/2015</td>\n",
       "      <td>NaN</td>\n",
       "    </tr>\n",
       "    <tr>\n",
       "      <th>3</th>\n",
       "      <td>397941</td>\n",
       "      <td>No</td>\n",
       "      <td>General Assistance (HUD)</td>\n",
       "      <td>NaN</td>\n",
       "      <td>4/20/2015</td>\n",
       "      <td>NaN</td>\n",
       "    </tr>\n",
       "    <tr>\n",
       "      <th>4</th>\n",
       "      <td>397941</td>\n",
       "      <td>No</td>\n",
       "      <td>Other (HUD)</td>\n",
       "      <td>NaN</td>\n",
       "      <td>4/20/2015</td>\n",
       "      <td>NaN</td>\n",
       "    </tr>\n",
       "  </tbody>\n",
       "</table>\n",
       "</div>"
      ],
      "text/plain": [
       "   ClientID IncomeEntry                       IncomeSourceEntry  \\\n",
       "0    397941          No  Alimony or Other Spousal Support (HUD)   \n",
       "1    397941          No                     Child Support (HUD)   \n",
       "2    397941          No                     Earned Income (HUD)   \n",
       "3    397941          No                General Assistance (HUD)   \n",
       "4    397941          No                             Other (HUD)   \n",
       "\n",
       "   MonthlyIncomeEntry IncomeStartDateEntry IncomeEndDateEntry  \n",
       "0                 NaN            4/20/2015                NaN  \n",
       "1                 NaN            4/20/2015                NaN  \n",
       "2                 NaN            4/20/2015                NaN  \n",
       "3                 NaN            4/20/2015                NaN  \n",
       "4                 NaN            4/20/2015                NaN  "
      ]
     },
     "execution_count": 116,
     "metadata": {},
     "output_type": "execute_result"
    }
   ],
   "source": [
    "# Filter the variables of interest\n",
    "incomeEntry2 = incomeEntry[['ClientID','IncomeEntry','IncomeSourceEntry','MonthlyIncomeEntry','IncomeStartDateEntry', 'IncomeEndDateEntry']]\n",
    "incomeEntry2.head()"
   ]
  },
  {
   "cell_type": "code",
   "execution_count": 171,
   "metadata": {},
   "outputs": [],
   "source": [
    "# Filter out the rows with incomes\n",
    "temp = pd.DataFrame(columns=incomeEntry2.columns)\n",
    "clientID = set(incomeEntry2.ClientID)\n",
    "clientID = [*clientID, ] \n",
    "\n",
    "for id in clientID:\n",
    "    subdat = incomeEntry2[incomeEntry2.ClientID==id]\n",
    "    subdat = pd.DataFrame(subdat)\n",
    "    select_indices = list(np.where(subdat[\"IncomeEntry\"] == \"Yes\")[0])\n",
    "    if len(select_indices)>0:\n",
    "        temp = temp.append(subdat.iloc[select_indices])\n",
    "        \n",
    "temp = temp.reset_index()\n",
    "incomeEntry2 = temp"
   ]
  },
  {
   "cell_type": "code",
   "execution_count": 132,
   "metadata": {},
   "outputs": [],
   "source": [
    "# Income Exit\n",
    "incomeExit = pd.read_csv(\"/Users/jieun/github_updated/bios611-projects-fall-2019-jennprk/project_3/data/INCOME_EXIT_191102.tsv\", sep='\\t')"
   ]
  },
  {
   "cell_type": "code",
   "execution_count": 133,
   "metadata": {},
   "outputs": [
    {
     "name": "stdout",
     "output_type": "stream",
     "text": [
      "EE Provider ID\n",
      "EE UID\n",
      "Client Unique ID\n",
      "Client ID\n",
      "ReceivingIncome (Exit)\n",
      "Source of Income (Exit)\n",
      "Monthly Amount (Exit)\n",
      "Income Start Date (Exit)\n",
      "Income End Date (Exit)\n",
      "Recordset ID (140-recordset_id)\n",
      "Provider (140-provider)\n",
      "Date Added (140-date_added)\n"
     ]
    }
   ],
   "source": [
    "# Check the original column names and change to neater version\n",
    "for col in incomeExit.columns: \n",
    "    print(col) \n",
    "    \n",
    "incomeExit.columns = ['provider','EUID','CUID', 'ClientID','IncomeExit','IncomeSourceExit','MonthlyIncomeExit','IncomeStartDateExit','IncomeEndDateExit','recordsetID','ProviderID','dateadded']"
   ]
  },
  {
   "cell_type": "code",
   "execution_count": 134,
   "metadata": {},
   "outputs": [],
   "source": [
    "# Filter the variables of interest\n",
    "incomeExit2 = incomeExit[['ClientID','IncomeExit','IncomeSourceExit','MonthlyIncomeExit','IncomeStartDateExit', 'IncomeEndDateExit']]"
   ]
  },
  {
   "cell_type": "code",
   "execution_count": 175,
   "metadata": {},
   "outputs": [],
   "source": [
    "# Filter out the rows with incomes\n",
    "temp = pd.DataFrame(columns=incomeExit2.columns)\n",
    "clientID = set(incomeExit2.ClientID)\n",
    "clientID = [*clientID, ] \n",
    "\n",
    "for id in clientID:\n",
    "    subdat = incomeExit2[incomeExit2.ClientID==id]\n",
    "    subdat = pd.DataFrame(subdat)\n",
    "    select_indices = list(np.where(subdat[\"IncomeExit\"] == \"Yes\")[0])\n",
    "    if len(select_indices)>0:\n",
    "        temp = temp.append(subdat.iloc[select_indices])\n",
    "        \n",
    "temp = temp.reset_index()\n",
    "incomeExit2 = temp"
   ]
  },
  {
   "cell_type": "markdown",
   "metadata": {},
   "source": [
    "# Health Insurance Data"
   ]
  },
  {
   "cell_type": "code",
   "execution_count": 135,
   "metadata": {},
   "outputs": [],
   "source": [
    "# Health Insurnace Entry data\n",
    "HIEntry = pd.read_csv(\"/Users/jieun/github_updated/bios611-projects-fall-2019-jennprk/project_3/data/HEALTH_INS_ENTRY_191102.tsv\", sep='\\t')"
   ]
  },
  {
   "cell_type": "code",
   "execution_count": 136,
   "metadata": {},
   "outputs": [
    {
     "name": "stdout",
     "output_type": "stream",
     "text": [
      "EE Provider ID\n",
      "EE UID\n",
      "Client Unique ID\n",
      "Client ID\n",
      "Covered (Entry)\n",
      "Health Insurance Type (Entry)\n",
      "Health Insurance Start Date (Entry)\n",
      "Health Insurance End Date (Entry)\n",
      "Provider (4307-provider)\n",
      "Recordset ID (4307-recordset_id)\n",
      "Date Added (4307-date_added)\n"
     ]
    }
   ],
   "source": [
    "# Check the original column names and change to neater version\n",
    "for col in HIEntry.columns: \n",
    "    print(col) \n",
    "    \n",
    "HIEntry.columns = ['provider','EUID','CUID', 'ClientID','HIcoveredEntry','HItypeEntry','HIstartDateEntry','HIendDateEntry','provider', 'recordsetid', 'dateadded']"
   ]
  },
  {
   "cell_type": "code",
   "execution_count": 176,
   "metadata": {},
   "outputs": [
    {
     "data": {
      "text/html": [
       "<div>\n",
       "<style scoped>\n",
       "    .dataframe tbody tr th:only-of-type {\n",
       "        vertical-align: middle;\n",
       "    }\n",
       "\n",
       "    .dataframe tbody tr th {\n",
       "        vertical-align: top;\n",
       "    }\n",
       "\n",
       "    .dataframe thead th {\n",
       "        text-align: right;\n",
       "    }\n",
       "</style>\n",
       "<table border=\"1\" class=\"dataframe\">\n",
       "  <thead>\n",
       "    <tr style=\"text-align: right;\">\n",
       "      <th></th>\n",
       "      <th>ClientID</th>\n",
       "      <th>HIcoveredEntry</th>\n",
       "      <th>HItypeEntry</th>\n",
       "      <th>HIstartDateEntry</th>\n",
       "      <th>HIendDateEntry</th>\n",
       "    </tr>\n",
       "  </thead>\n",
       "  <tbody>\n",
       "    <tr>\n",
       "      <th>0</th>\n",
       "      <td>397941</td>\n",
       "      <td>No</td>\n",
       "      <td>Employer - Provided Health Insurance</td>\n",
       "      <td>4/20/2015</td>\n",
       "      <td>NaN</td>\n",
       "    </tr>\n",
       "    <tr>\n",
       "      <th>1</th>\n",
       "      <td>397941</td>\n",
       "      <td>No</td>\n",
       "      <td>Health Insurance obtained through COBRA</td>\n",
       "      <td>4/20/2015</td>\n",
       "      <td>NaN</td>\n",
       "    </tr>\n",
       "    <tr>\n",
       "      <th>2</th>\n",
       "      <td>397941</td>\n",
       "      <td>No</td>\n",
       "      <td>Indian Health Services Program</td>\n",
       "      <td>6/9/2015</td>\n",
       "      <td>NaN</td>\n",
       "    </tr>\n",
       "    <tr>\n",
       "      <th>3</th>\n",
       "      <td>397941</td>\n",
       "      <td>No</td>\n",
       "      <td>MEDICAID</td>\n",
       "      <td>4/20/2014</td>\n",
       "      <td>NaN</td>\n",
       "    </tr>\n",
       "    <tr>\n",
       "      <th>4</th>\n",
       "      <td>397941</td>\n",
       "      <td>No</td>\n",
       "      <td>MEDICARE</td>\n",
       "      <td>4/20/2015</td>\n",
       "      <td>NaN</td>\n",
       "    </tr>\n",
       "    <tr>\n",
       "      <th>5</th>\n",
       "      <td>397941</td>\n",
       "      <td>No</td>\n",
       "      <td>Other</td>\n",
       "      <td>6/9/2015</td>\n",
       "      <td>NaN</td>\n",
       "    </tr>\n",
       "    <tr>\n",
       "      <th>6</th>\n",
       "      <td>397941</td>\n",
       "      <td>No</td>\n",
       "      <td>Private Pay Health Insurance</td>\n",
       "      <td>4/20/2015</td>\n",
       "      <td>NaN</td>\n",
       "    </tr>\n",
       "    <tr>\n",
       "      <th>7</th>\n",
       "      <td>397941</td>\n",
       "      <td>No</td>\n",
       "      <td>State Children's Health Insurance Program</td>\n",
       "      <td>4/20/2015</td>\n",
       "      <td>NaN</td>\n",
       "    </tr>\n",
       "    <tr>\n",
       "      <th>8</th>\n",
       "      <td>397941</td>\n",
       "      <td>No</td>\n",
       "      <td>State Health Insurance for Adults</td>\n",
       "      <td>4/20/2015</td>\n",
       "      <td>NaN</td>\n",
       "    </tr>\n",
       "    <tr>\n",
       "      <th>9</th>\n",
       "      <td>397941</td>\n",
       "      <td>No</td>\n",
       "      <td>Veteran's Administration (VA) Medical Services</td>\n",
       "      <td>4/20/2015</td>\n",
       "      <td>NaN</td>\n",
       "    </tr>\n",
       "    <tr>\n",
       "      <th>10</th>\n",
       "      <td>130335</td>\n",
       "      <td>No</td>\n",
       "      <td>Employer - Provided Health Insurance</td>\n",
       "      <td>6/13/2015</td>\n",
       "      <td>NaN</td>\n",
       "    </tr>\n",
       "    <tr>\n",
       "      <th>11</th>\n",
       "      <td>130335</td>\n",
       "      <td>No</td>\n",
       "      <td>Employer - Provided Health Insurance</td>\n",
       "      <td>7/10/2015</td>\n",
       "      <td>NaN</td>\n",
       "    </tr>\n",
       "    <tr>\n",
       "      <th>12</th>\n",
       "      <td>130335</td>\n",
       "      <td>No</td>\n",
       "      <td>Health Insurance obtained through COBRA</td>\n",
       "      <td>6/13/2015</td>\n",
       "      <td>NaN</td>\n",
       "    </tr>\n",
       "    <tr>\n",
       "      <th>13</th>\n",
       "      <td>130335</td>\n",
       "      <td>No</td>\n",
       "      <td>Health Insurance obtained through COBRA</td>\n",
       "      <td>7/10/2015</td>\n",
       "      <td>NaN</td>\n",
       "    </tr>\n",
       "    <tr>\n",
       "      <th>14</th>\n",
       "      <td>130335</td>\n",
       "      <td>No</td>\n",
       "      <td>MEDICARE</td>\n",
       "      <td>6/13/2015</td>\n",
       "      <td>NaN</td>\n",
       "    </tr>\n",
       "    <tr>\n",
       "      <th>15</th>\n",
       "      <td>130335</td>\n",
       "      <td>No</td>\n",
       "      <td>MEDICARE</td>\n",
       "      <td>7/10/2015</td>\n",
       "      <td>NaN</td>\n",
       "    </tr>\n",
       "    <tr>\n",
       "      <th>16</th>\n",
       "      <td>130335</td>\n",
       "      <td>No</td>\n",
       "      <td>Private Pay Health Insurance</td>\n",
       "      <td>6/13/2015</td>\n",
       "      <td>NaN</td>\n",
       "    </tr>\n",
       "    <tr>\n",
       "      <th>17</th>\n",
       "      <td>130335</td>\n",
       "      <td>No</td>\n",
       "      <td>Private Pay Health Insurance</td>\n",
       "      <td>7/10/2015</td>\n",
       "      <td>NaN</td>\n",
       "    </tr>\n",
       "    <tr>\n",
       "      <th>18</th>\n",
       "      <td>130335</td>\n",
       "      <td>No</td>\n",
       "      <td>State Children's Health Insurance Program</td>\n",
       "      <td>6/13/2015</td>\n",
       "      <td>NaN</td>\n",
       "    </tr>\n",
       "    <tr>\n",
       "      <th>19</th>\n",
       "      <td>130335</td>\n",
       "      <td>No</td>\n",
       "      <td>State Children's Health Insurance Program</td>\n",
       "      <td>7/10/2015</td>\n",
       "      <td>NaN</td>\n",
       "    </tr>\n",
       "    <tr>\n",
       "      <th>20</th>\n",
       "      <td>130335</td>\n",
       "      <td>No</td>\n",
       "      <td>State Health Insurance for Adults</td>\n",
       "      <td>6/13/2015</td>\n",
       "      <td>NaN</td>\n",
       "    </tr>\n",
       "    <tr>\n",
       "      <th>21</th>\n",
       "      <td>130335</td>\n",
       "      <td>No</td>\n",
       "      <td>State Health Insurance for Adults</td>\n",
       "      <td>7/10/2015</td>\n",
       "      <td>NaN</td>\n",
       "    </tr>\n",
       "    <tr>\n",
       "      <th>22</th>\n",
       "      <td>130335</td>\n",
       "      <td>No</td>\n",
       "      <td>Veteran's Administration (VA) Medical Services</td>\n",
       "      <td>6/13/2015</td>\n",
       "      <td>NaN</td>\n",
       "    </tr>\n",
       "    <tr>\n",
       "      <th>23</th>\n",
       "      <td>130335</td>\n",
       "      <td>No</td>\n",
       "      <td>Veteran's Administration (VA) Medical Services</td>\n",
       "      <td>7/10/2015</td>\n",
       "      <td>NaN</td>\n",
       "    </tr>\n",
       "    <tr>\n",
       "      <th>24</th>\n",
       "      <td>130335</td>\n",
       "      <td>Yes</td>\n",
       "      <td>MEDICAID</td>\n",
       "      <td>6/13/2015</td>\n",
       "      <td>NaN</td>\n",
       "    </tr>\n",
       "    <tr>\n",
       "      <th>25</th>\n",
       "      <td>188933</td>\n",
       "      <td>No</td>\n",
       "      <td>Employer - Provided Health Insurance</td>\n",
       "      <td>3/28/2014</td>\n",
       "      <td>NaN</td>\n",
       "    </tr>\n",
       "    <tr>\n",
       "      <th>26</th>\n",
       "      <td>188933</td>\n",
       "      <td>No</td>\n",
       "      <td>Employer - Provided Health Insurance</td>\n",
       "      <td>8/15/2015</td>\n",
       "      <td>NaN</td>\n",
       "    </tr>\n",
       "    <tr>\n",
       "      <th>27</th>\n",
       "      <td>188933</td>\n",
       "      <td>No</td>\n",
       "      <td>Health Insurance obtained through COBRA</td>\n",
       "      <td>3/28/2014</td>\n",
       "      <td>NaN</td>\n",
       "    </tr>\n",
       "    <tr>\n",
       "      <th>28</th>\n",
       "      <td>188933</td>\n",
       "      <td>No</td>\n",
       "      <td>Health Insurance obtained through COBRA</td>\n",
       "      <td>8/15/2015</td>\n",
       "      <td>NaN</td>\n",
       "    </tr>\n",
       "    <tr>\n",
       "      <th>29</th>\n",
       "      <td>188933</td>\n",
       "      <td>No</td>\n",
       "      <td>MEDICAID</td>\n",
       "      <td>3/28/2014</td>\n",
       "      <td>NaN</td>\n",
       "    </tr>\n",
       "    <tr>\n",
       "      <th>...</th>\n",
       "      <td>...</td>\n",
       "      <td>...</td>\n",
       "      <td>...</td>\n",
       "      <td>...</td>\n",
       "      <td>...</td>\n",
       "    </tr>\n",
       "    <tr>\n",
       "      <th>45152</th>\n",
       "      <td>370291</td>\n",
       "      <td>No</td>\n",
       "      <td>MEDICARE</td>\n",
       "      <td>4/4/2015</td>\n",
       "      <td>NaN</td>\n",
       "    </tr>\n",
       "    <tr>\n",
       "      <th>45153</th>\n",
       "      <td>370291</td>\n",
       "      <td>No</td>\n",
       "      <td>Private Pay Health Insurance</td>\n",
       "      <td>4/4/2015</td>\n",
       "      <td>NaN</td>\n",
       "    </tr>\n",
       "    <tr>\n",
       "      <th>45154</th>\n",
       "      <td>370291</td>\n",
       "      <td>No</td>\n",
       "      <td>State Children's Health Insurance Program</td>\n",
       "      <td>4/4/2015</td>\n",
       "      <td>NaN</td>\n",
       "    </tr>\n",
       "    <tr>\n",
       "      <th>45155</th>\n",
       "      <td>370291</td>\n",
       "      <td>No</td>\n",
       "      <td>State Health Insurance for Adults</td>\n",
       "      <td>4/4/2015</td>\n",
       "      <td>NaN</td>\n",
       "    </tr>\n",
       "    <tr>\n",
       "      <th>45156</th>\n",
       "      <td>370291</td>\n",
       "      <td>Yes</td>\n",
       "      <td>Veteran's Administration (VA) Medical Services</td>\n",
       "      <td>4/4/2015</td>\n",
       "      <td>NaN</td>\n",
       "    </tr>\n",
       "    <tr>\n",
       "      <th>45157</th>\n",
       "      <td>175198</td>\n",
       "      <td>No</td>\n",
       "      <td>Employer - Provided Health Insurance</td>\n",
       "      <td>9/22/2014</td>\n",
       "      <td>NaN</td>\n",
       "    </tr>\n",
       "    <tr>\n",
       "      <th>45158</th>\n",
       "      <td>175198</td>\n",
       "      <td>No</td>\n",
       "      <td>Health Insurance obtained through COBRA</td>\n",
       "      <td>9/22/2014</td>\n",
       "      <td>NaN</td>\n",
       "    </tr>\n",
       "    <tr>\n",
       "      <th>45159</th>\n",
       "      <td>175198</td>\n",
       "      <td>No</td>\n",
       "      <td>MEDICAID</td>\n",
       "      <td>9/22/2014</td>\n",
       "      <td>NaN</td>\n",
       "    </tr>\n",
       "    <tr>\n",
       "      <th>45160</th>\n",
       "      <td>175198</td>\n",
       "      <td>No</td>\n",
       "      <td>MEDICARE</td>\n",
       "      <td>9/22/2014</td>\n",
       "      <td>NaN</td>\n",
       "    </tr>\n",
       "    <tr>\n",
       "      <th>45161</th>\n",
       "      <td>175198</td>\n",
       "      <td>No</td>\n",
       "      <td>Private Pay Health Insurance</td>\n",
       "      <td>9/22/2014</td>\n",
       "      <td>NaN</td>\n",
       "    </tr>\n",
       "    <tr>\n",
       "      <th>45162</th>\n",
       "      <td>175198</td>\n",
       "      <td>No</td>\n",
       "      <td>State Children's Health Insurance Program</td>\n",
       "      <td>9/22/2014</td>\n",
       "      <td>NaN</td>\n",
       "    </tr>\n",
       "    <tr>\n",
       "      <th>45163</th>\n",
       "      <td>175198</td>\n",
       "      <td>No</td>\n",
       "      <td>State Health Insurance for Adults</td>\n",
       "      <td>9/22/2014</td>\n",
       "      <td>NaN</td>\n",
       "    </tr>\n",
       "    <tr>\n",
       "      <th>45164</th>\n",
       "      <td>175198</td>\n",
       "      <td>Yes</td>\n",
       "      <td>Veteran's Administration (VA) Medical Services</td>\n",
       "      <td>9/22/2014</td>\n",
       "      <td>NaN</td>\n",
       "    </tr>\n",
       "    <tr>\n",
       "      <th>45165</th>\n",
       "      <td>175198</td>\n",
       "      <td>Yes</td>\n",
       "      <td>Veteran's Administration (VA) Medical Services</td>\n",
       "      <td>5/11/2015</td>\n",
       "      <td>NaN</td>\n",
       "    </tr>\n",
       "    <tr>\n",
       "      <th>45166</th>\n",
       "      <td>401978</td>\n",
       "      <td>No</td>\n",
       "      <td>Employer - Provided Health Insurance</td>\n",
       "      <td>6/16/2015</td>\n",
       "      <td>NaN</td>\n",
       "    </tr>\n",
       "    <tr>\n",
       "      <th>45167</th>\n",
       "      <td>401978</td>\n",
       "      <td>No</td>\n",
       "      <td>Health Insurance obtained through COBRA</td>\n",
       "      <td>6/16/2015</td>\n",
       "      <td>NaN</td>\n",
       "    </tr>\n",
       "    <tr>\n",
       "      <th>45168</th>\n",
       "      <td>401978</td>\n",
       "      <td>No</td>\n",
       "      <td>MEDICAID</td>\n",
       "      <td>6/16/2015</td>\n",
       "      <td>NaN</td>\n",
       "    </tr>\n",
       "    <tr>\n",
       "      <th>45169</th>\n",
       "      <td>401978</td>\n",
       "      <td>No</td>\n",
       "      <td>MEDICARE</td>\n",
       "      <td>6/16/2015</td>\n",
       "      <td>NaN</td>\n",
       "    </tr>\n",
       "    <tr>\n",
       "      <th>45170</th>\n",
       "      <td>401978</td>\n",
       "      <td>No</td>\n",
       "      <td>Private Pay Health Insurance</td>\n",
       "      <td>6/16/2015</td>\n",
       "      <td>NaN</td>\n",
       "    </tr>\n",
       "    <tr>\n",
       "      <th>45171</th>\n",
       "      <td>401978</td>\n",
       "      <td>No</td>\n",
       "      <td>State Children's Health Insurance Program</td>\n",
       "      <td>6/16/2015</td>\n",
       "      <td>NaN</td>\n",
       "    </tr>\n",
       "    <tr>\n",
       "      <th>45172</th>\n",
       "      <td>401978</td>\n",
       "      <td>Yes</td>\n",
       "      <td>State Health Insurance for Adults</td>\n",
       "      <td>6/16/1983</td>\n",
       "      <td>NaN</td>\n",
       "    </tr>\n",
       "    <tr>\n",
       "      <th>45173</th>\n",
       "      <td>401978</td>\n",
       "      <td>Yes</td>\n",
       "      <td>Veteran's Administration (VA) Medical Services</td>\n",
       "      <td>6/16/1983</td>\n",
       "      <td>NaN</td>\n",
       "    </tr>\n",
       "    <tr>\n",
       "      <th>45174</th>\n",
       "      <td>401495</td>\n",
       "      <td>No</td>\n",
       "      <td>Employer - Provided Health Insurance</td>\n",
       "      <td>6/3/2015</td>\n",
       "      <td>NaN</td>\n",
       "    </tr>\n",
       "    <tr>\n",
       "      <th>45175</th>\n",
       "      <td>401495</td>\n",
       "      <td>No</td>\n",
       "      <td>Health Insurance obtained through COBRA</td>\n",
       "      <td>6/3/2015</td>\n",
       "      <td>NaN</td>\n",
       "    </tr>\n",
       "    <tr>\n",
       "      <th>45176</th>\n",
       "      <td>401495</td>\n",
       "      <td>No</td>\n",
       "      <td>MEDICAID</td>\n",
       "      <td>6/3/2015</td>\n",
       "      <td>NaN</td>\n",
       "    </tr>\n",
       "    <tr>\n",
       "      <th>45177</th>\n",
       "      <td>401495</td>\n",
       "      <td>No</td>\n",
       "      <td>MEDICARE</td>\n",
       "      <td>6/3/2015</td>\n",
       "      <td>NaN</td>\n",
       "    </tr>\n",
       "    <tr>\n",
       "      <th>45178</th>\n",
       "      <td>401495</td>\n",
       "      <td>No</td>\n",
       "      <td>State Children's Health Insurance Program</td>\n",
       "      <td>6/3/2015</td>\n",
       "      <td>NaN</td>\n",
       "    </tr>\n",
       "    <tr>\n",
       "      <th>45179</th>\n",
       "      <td>401495</td>\n",
       "      <td>No</td>\n",
       "      <td>State Health Insurance for Adults</td>\n",
       "      <td>6/3/2015</td>\n",
       "      <td>NaN</td>\n",
       "    </tr>\n",
       "    <tr>\n",
       "      <th>45180</th>\n",
       "      <td>401495</td>\n",
       "      <td>No</td>\n",
       "      <td>Veteran's Administration (VA) Medical Services</td>\n",
       "      <td>6/3/2015</td>\n",
       "      <td>NaN</td>\n",
       "    </tr>\n",
       "    <tr>\n",
       "      <th>45181</th>\n",
       "      <td>401495</td>\n",
       "      <td>Yes</td>\n",
       "      <td>Private Pay Health Insurance</td>\n",
       "      <td>6/3/2015</td>\n",
       "      <td>NaN</td>\n",
       "    </tr>\n",
       "  </tbody>\n",
       "</table>\n",
       "<p>45182 rows × 5 columns</p>\n",
       "</div>"
      ],
      "text/plain": [
       "       ClientID HIcoveredEntry  \\\n",
       "0        397941             No   \n",
       "1        397941             No   \n",
       "2        397941             No   \n",
       "3        397941             No   \n",
       "4        397941             No   \n",
       "5        397941             No   \n",
       "6        397941             No   \n",
       "7        397941             No   \n",
       "8        397941             No   \n",
       "9        397941             No   \n",
       "10       130335             No   \n",
       "11       130335             No   \n",
       "12       130335             No   \n",
       "13       130335             No   \n",
       "14       130335             No   \n",
       "15       130335             No   \n",
       "16       130335             No   \n",
       "17       130335             No   \n",
       "18       130335             No   \n",
       "19       130335             No   \n",
       "20       130335             No   \n",
       "21       130335             No   \n",
       "22       130335             No   \n",
       "23       130335             No   \n",
       "24       130335            Yes   \n",
       "25       188933             No   \n",
       "26       188933             No   \n",
       "27       188933             No   \n",
       "28       188933             No   \n",
       "29       188933             No   \n",
       "...         ...            ...   \n",
       "45152    370291             No   \n",
       "45153    370291             No   \n",
       "45154    370291             No   \n",
       "45155    370291             No   \n",
       "45156    370291            Yes   \n",
       "45157    175198             No   \n",
       "45158    175198             No   \n",
       "45159    175198             No   \n",
       "45160    175198             No   \n",
       "45161    175198             No   \n",
       "45162    175198             No   \n",
       "45163    175198             No   \n",
       "45164    175198            Yes   \n",
       "45165    175198            Yes   \n",
       "45166    401978             No   \n",
       "45167    401978             No   \n",
       "45168    401978             No   \n",
       "45169    401978             No   \n",
       "45170    401978             No   \n",
       "45171    401978             No   \n",
       "45172    401978            Yes   \n",
       "45173    401978            Yes   \n",
       "45174    401495             No   \n",
       "45175    401495             No   \n",
       "45176    401495             No   \n",
       "45177    401495             No   \n",
       "45178    401495             No   \n",
       "45179    401495             No   \n",
       "45180    401495             No   \n",
       "45181    401495            Yes   \n",
       "\n",
       "                                          HItypeEntry HIstartDateEntry  \\\n",
       "0                Employer - Provided Health Insurance        4/20/2015   \n",
       "1             Health Insurance obtained through COBRA        4/20/2015   \n",
       "2                      Indian Health Services Program         6/9/2015   \n",
       "3                                            MEDICAID        4/20/2014   \n",
       "4                                            MEDICARE        4/20/2015   \n",
       "5                                               Other         6/9/2015   \n",
       "6                        Private Pay Health Insurance        4/20/2015   \n",
       "7           State Children's Health Insurance Program        4/20/2015   \n",
       "8                   State Health Insurance for Adults        4/20/2015   \n",
       "9      Veteran's Administration (VA) Medical Services        4/20/2015   \n",
       "10               Employer - Provided Health Insurance        6/13/2015   \n",
       "11               Employer - Provided Health Insurance        7/10/2015   \n",
       "12            Health Insurance obtained through COBRA        6/13/2015   \n",
       "13            Health Insurance obtained through COBRA        7/10/2015   \n",
       "14                                           MEDICARE        6/13/2015   \n",
       "15                                           MEDICARE        7/10/2015   \n",
       "16                       Private Pay Health Insurance        6/13/2015   \n",
       "17                       Private Pay Health Insurance        7/10/2015   \n",
       "18          State Children's Health Insurance Program        6/13/2015   \n",
       "19          State Children's Health Insurance Program        7/10/2015   \n",
       "20                  State Health Insurance for Adults        6/13/2015   \n",
       "21                  State Health Insurance for Adults        7/10/2015   \n",
       "22     Veteran's Administration (VA) Medical Services        6/13/2015   \n",
       "23     Veteran's Administration (VA) Medical Services        7/10/2015   \n",
       "24                                           MEDICAID        6/13/2015   \n",
       "25               Employer - Provided Health Insurance        3/28/2014   \n",
       "26               Employer - Provided Health Insurance        8/15/2015   \n",
       "27            Health Insurance obtained through COBRA        3/28/2014   \n",
       "28            Health Insurance obtained through COBRA        8/15/2015   \n",
       "29                                           MEDICAID        3/28/2014   \n",
       "...                                               ...              ...   \n",
       "45152                                        MEDICARE         4/4/2015   \n",
       "45153                    Private Pay Health Insurance         4/4/2015   \n",
       "45154       State Children's Health Insurance Program         4/4/2015   \n",
       "45155               State Health Insurance for Adults         4/4/2015   \n",
       "45156  Veteran's Administration (VA) Medical Services         4/4/2015   \n",
       "45157            Employer - Provided Health Insurance        9/22/2014   \n",
       "45158         Health Insurance obtained through COBRA        9/22/2014   \n",
       "45159                                        MEDICAID        9/22/2014   \n",
       "45160                                        MEDICARE        9/22/2014   \n",
       "45161                    Private Pay Health Insurance        9/22/2014   \n",
       "45162       State Children's Health Insurance Program        9/22/2014   \n",
       "45163               State Health Insurance for Adults        9/22/2014   \n",
       "45164  Veteran's Administration (VA) Medical Services        9/22/2014   \n",
       "45165  Veteran's Administration (VA) Medical Services        5/11/2015   \n",
       "45166            Employer - Provided Health Insurance        6/16/2015   \n",
       "45167         Health Insurance obtained through COBRA        6/16/2015   \n",
       "45168                                        MEDICAID        6/16/2015   \n",
       "45169                                        MEDICARE        6/16/2015   \n",
       "45170                    Private Pay Health Insurance        6/16/2015   \n",
       "45171       State Children's Health Insurance Program        6/16/2015   \n",
       "45172               State Health Insurance for Adults        6/16/1983   \n",
       "45173  Veteran's Administration (VA) Medical Services        6/16/1983   \n",
       "45174            Employer - Provided Health Insurance         6/3/2015   \n",
       "45175         Health Insurance obtained through COBRA         6/3/2015   \n",
       "45176                                        MEDICAID         6/3/2015   \n",
       "45177                                        MEDICARE         6/3/2015   \n",
       "45178       State Children's Health Insurance Program         6/3/2015   \n",
       "45179               State Health Insurance for Adults         6/3/2015   \n",
       "45180  Veteran's Administration (VA) Medical Services         6/3/2015   \n",
       "45181                    Private Pay Health Insurance         6/3/2015   \n",
       "\n",
       "      HIendDateEntry  \n",
       "0                NaN  \n",
       "1                NaN  \n",
       "2                NaN  \n",
       "3                NaN  \n",
       "4                NaN  \n",
       "5                NaN  \n",
       "6                NaN  \n",
       "7                NaN  \n",
       "8                NaN  \n",
       "9                NaN  \n",
       "10               NaN  \n",
       "11               NaN  \n",
       "12               NaN  \n",
       "13               NaN  \n",
       "14               NaN  \n",
       "15               NaN  \n",
       "16               NaN  \n",
       "17               NaN  \n",
       "18               NaN  \n",
       "19               NaN  \n",
       "20               NaN  \n",
       "21               NaN  \n",
       "22               NaN  \n",
       "23               NaN  \n",
       "24               NaN  \n",
       "25               NaN  \n",
       "26               NaN  \n",
       "27               NaN  \n",
       "28               NaN  \n",
       "29               NaN  \n",
       "...              ...  \n",
       "45152            NaN  \n",
       "45153            NaN  \n",
       "45154            NaN  \n",
       "45155            NaN  \n",
       "45156            NaN  \n",
       "45157            NaN  \n",
       "45158            NaN  \n",
       "45159            NaN  \n",
       "45160            NaN  \n",
       "45161            NaN  \n",
       "45162            NaN  \n",
       "45163            NaN  \n",
       "45164            NaN  \n",
       "45165            NaN  \n",
       "45166            NaN  \n",
       "45167            NaN  \n",
       "45168            NaN  \n",
       "45169            NaN  \n",
       "45170            NaN  \n",
       "45171            NaN  \n",
       "45172            NaN  \n",
       "45173            NaN  \n",
       "45174            NaN  \n",
       "45175            NaN  \n",
       "45176            NaN  \n",
       "45177            NaN  \n",
       "45178            NaN  \n",
       "45179            NaN  \n",
       "45180            NaN  \n",
       "45181            NaN  \n",
       "\n",
       "[45182 rows x 5 columns]"
      ]
     },
     "execution_count": 176,
     "metadata": {},
     "output_type": "execute_result"
    }
   ],
   "source": [
    "# Filter the variables of interest\n",
    "HIEntry2 = HIEntry[['ClientID','HIcoveredEntry','HItypeEntry','HIstartDateEntry','HIendDateEntry']]"
   ]
  },
  {
   "cell_type": "code",
   "execution_count": 177,
   "metadata": {},
   "outputs": [],
   "source": [
    "# Filter out the rows with health insurance\n",
    "temp = pd.DataFrame(columns=HIEntry2.columns)\n",
    "clientID = set(HIEntry2.ClientID)\n",
    "clientID = [*clientID, ] \n",
    "\n",
    "for id in clientID:\n",
    "    subdat = HIEntry2[HIEntry2.ClientID==id]\n",
    "    subdat = pd.DataFrame(subdat)\n",
    "    select_indices = list(np.where(subdat[\"HIcoveredEntry\"] == \"Yes\")[0])\n",
    "    if len(select_indices)>0:\n",
    "        temp = temp.append(subdat.iloc[select_indices])\n",
    "        \n",
    "temp = temp.reset_index()\n",
    "HIEntry2 = temp"
   ]
  },
  {
   "cell_type": "code",
   "execution_count": 138,
   "metadata": {},
   "outputs": [],
   "source": [
    "#Health Insurance Exit data\n",
    "HIExit = pd.read_csv(\"/Users/jieun/github_updated/bios611-projects-fall-2019-jennprk/project_3/data/HEALTH_INS_EXIT_191102.tsv\", sep='\\t')"
   ]
  },
  {
   "cell_type": "code",
   "execution_count": 139,
   "metadata": {},
   "outputs": [
    {
     "name": "stdout",
     "output_type": "stream",
     "text": [
      "EE Provider ID\n",
      "EE UID\n",
      "Client Unique ID\n",
      "Client ID\n",
      "Covered (Exit)\n",
      "Health Insurance Type (Exit)\n",
      "Health Insurance Start Date (Exit)\n",
      "Health Insurance End Date (Exit)\n",
      "Recordset ID (4307-recordset_id)\n",
      "Provider (4307-provider)\n",
      "Date Added (4307-date_added)\n"
     ]
    }
   ],
   "source": [
    "# Check the original column names and change to neater version\n",
    "for col in HIExit.columns: \n",
    "    print(col) \n",
    "    \n",
    "HIExit.columns = ['provider','EUID','CUID', 'ClientID','HIcoveredExit','HItypeExit','HIstartDateExit','HIendDateExit', 'recordsetid', 'provider','dateadded']"
   ]
  },
  {
   "cell_type": "code",
   "execution_count": 140,
   "metadata": {},
   "outputs": [],
   "source": [
    "# Filter the variables of interest\n",
    "HIExit2 = HIExit[['ClientID','HIcoveredExit','HItypeExit','HIstartDateExit','HIendDateExit']]"
   ]
  },
  {
   "cell_type": "code",
   "execution_count": 178,
   "metadata": {},
   "outputs": [],
   "source": [
    "# Filter out the rows with health insurance\n",
    "temp = pd.DataFrame(columns=HIExit2.columns)\n",
    "clientID = set(HIExit2.ClientID)\n",
    "clientID = [*clientID, ] \n",
    "\n",
    "for id in clientID:\n",
    "    subdat = HIExit2[HIExit2.ClientID==id]\n",
    "    subdat = pd.DataFrame(subdat)\n",
    "    select_indices = list(np.where(subdat[\"HIcoveredExit\"] == \"Yes\")[0])\n",
    "    if len(select_indices)>0:\n",
    "        temp = temp.append(subdat.iloc[select_indices])\n",
    "        \n",
    "temp = temp.reset_index()\n",
    "HIExit2 = temp"
   ]
  },
  {
   "cell_type": "markdown",
   "metadata": {},
   "source": [
    "# Disability Data"
   ]
  },
  {
   "cell_type": "code",
   "execution_count": 141,
   "metadata": {},
   "outputs": [],
   "source": [
    "# Disability Entry data\n",
    "DisEntry = pd.read_csv(\"/Users/jieun/github_updated/bios611-projects-fall-2019-jennprk/project_3/data/DISABILITY_ENTRY_191102.tsv\", sep='\\t')"
   ]
  },
  {
   "cell_type": "code",
   "execution_count": 142,
   "metadata": {},
   "outputs": [
    {
     "name": "stdout",
     "output_type": "stream",
     "text": [
      "EE Provider ID\n",
      "EE UID\n",
      "Client Unique ID\n",
      "Client ID\n",
      "Disability Determination (Entry)\n",
      "Disability Type (Entry)\n",
      "Disability Start Date (Entry)\n",
      "Disability End Date (Entry)\n",
      "Provider (417-provider)\n",
      "Recordset ID (417-recordset_id)\n",
      "Date Added (417-date_added)\n"
     ]
    }
   ],
   "source": [
    "# Check the original column names and change to neater version\n",
    "for col in DisEntry.columns: \n",
    "    print(col) \n",
    "    \n",
    "DisEntry.columns = ['provider','EUID','CUID', 'ClientID','DisabilityEntry', 'DisabilityTypeEntry', 'DisabilityStartDateEntry','DisabilityEndDateEntry', 'provider','recordsetid','dateadded']"
   ]
  },
  {
   "cell_type": "code",
   "execution_count": 181,
   "metadata": {},
   "outputs": [
    {
     "data": {
      "text/html": [
       "<div>\n",
       "<style scoped>\n",
       "    .dataframe tbody tr th:only-of-type {\n",
       "        vertical-align: middle;\n",
       "    }\n",
       "\n",
       "    .dataframe tbody tr th {\n",
       "        vertical-align: top;\n",
       "    }\n",
       "\n",
       "    .dataframe thead th {\n",
       "        text-align: right;\n",
       "    }\n",
       "</style>\n",
       "<table border=\"1\" class=\"dataframe\">\n",
       "  <thead>\n",
       "    <tr style=\"text-align: right;\">\n",
       "      <th></th>\n",
       "      <th>ClientID</th>\n",
       "      <th>DisabilityEntry</th>\n",
       "      <th>DisabilityStartDateEntry</th>\n",
       "      <th>DisabilityEndDateEntry</th>\n",
       "    </tr>\n",
       "  </thead>\n",
       "  <tbody>\n",
       "    <tr>\n",
       "      <th>0</th>\n",
       "      <td>397941</td>\n",
       "      <td>No (HUD)</td>\n",
       "      <td>4/20/2015</td>\n",
       "      <td>NaN</td>\n",
       "    </tr>\n",
       "    <tr>\n",
       "      <th>1</th>\n",
       "      <td>397941</td>\n",
       "      <td>No (HUD)</td>\n",
       "      <td>4/20/2015</td>\n",
       "      <td>NaN</td>\n",
       "    </tr>\n",
       "    <tr>\n",
       "      <th>2</th>\n",
       "      <td>397941</td>\n",
       "      <td>No (HUD)</td>\n",
       "      <td>4/20/2015</td>\n",
       "      <td>NaN</td>\n",
       "    </tr>\n",
       "    <tr>\n",
       "      <th>3</th>\n",
       "      <td>397941</td>\n",
       "      <td>No (HUD)</td>\n",
       "      <td>4/20/2015</td>\n",
       "      <td>NaN</td>\n",
       "    </tr>\n",
       "    <tr>\n",
       "      <th>4</th>\n",
       "      <td>397941</td>\n",
       "      <td>No (HUD)</td>\n",
       "      <td>4/20/2015</td>\n",
       "      <td>NaN</td>\n",
       "    </tr>\n",
       "  </tbody>\n",
       "</table>\n",
       "</div>"
      ],
      "text/plain": [
       "   ClientID DisabilityEntry DisabilityStartDateEntry DisabilityEndDateEntry\n",
       "0    397941        No (HUD)                4/20/2015                    NaN\n",
       "1    397941        No (HUD)                4/20/2015                    NaN\n",
       "2    397941        No (HUD)                4/20/2015                    NaN\n",
       "3    397941        No (HUD)                4/20/2015                    NaN\n",
       "4    397941        No (HUD)                4/20/2015                    NaN"
      ]
     },
     "execution_count": 181,
     "metadata": {},
     "output_type": "execute_result"
    }
   ],
   "source": [
    "DisEntry2 = DisEntry[['ClientID','DisabilityEntry','DisabilityStartDateEntry','DisabilityEndDateEntry']]\n",
    "DisEntry2.head()"
   ]
  },
  {
   "cell_type": "code",
   "execution_count": 182,
   "metadata": {},
   "outputs": [],
   "source": [
    "# Filter out the rows with health insurance\n",
    "temp = pd.DataFrame(columns=DisEntry2.columns)\n",
    "clientID = set(DisEntry2.ClientID)\n",
    "clientID = [*clientID, ] \n",
    "\n",
    "for id in clientID:\n",
    "    subdat = DisEntry2[DisEntry2.ClientID==id]\n",
    "    subdat = pd.DataFrame(subdat)\n",
    "    select_indices = list(np.where(subdat[\"DisabilityEntry\"] == \"Yes (HUD)\")[0])\n",
    "    if len(select_indices)>0:\n",
    "        temp = temp.append(subdat.iloc[select_indices])\n",
    "        \n",
    "temp = temp.reset_index()\n",
    "DisEntry2 = temp"
   ]
  },
  {
   "cell_type": "code",
   "execution_count": 144,
   "metadata": {},
   "outputs": [],
   "source": [
    "# Disability Entry data\n",
    "DisExit = pd.read_csv(\"/Users/jieun/github_updated/bios611-projects-fall-2019-jennprk/project_3/data/DISABILITY_EXIT_191102.tsv\", sep='\\t')"
   ]
  },
  {
   "cell_type": "code",
   "execution_count": 145,
   "metadata": {},
   "outputs": [
    {
     "name": "stdout",
     "output_type": "stream",
     "text": [
      "EE Provider ID\n",
      "EE UID\n",
      "Client Unique ID\n",
      "Client ID\n",
      "Disability Determination (Exit)\n",
      "Disability Type (Exit)\n",
      "Disability Start Date (Exit)\n",
      "Disability End Date (Exit)\n",
      "Provider (417-provider)\n",
      "Recordset ID (417-recordset_id)\n",
      "Date Added (417-date_added)\n"
     ]
    }
   ],
   "source": [
    "# Check the original column names and change to neater version\n",
    "for col in DisExit.columns: \n",
    "    print(col) \n",
    "    \n",
    "DisExit.columns = ['provider','EUID','CUID', 'ClientID','DisabilityExit', 'DisabilityTypeExit', 'DisabilityStartDateExit','DisabilityEndDateExit', 'provider','recordsetid','dateadded']"
   ]
  },
  {
   "cell_type": "code",
   "execution_count": 146,
   "metadata": {},
   "outputs": [],
   "source": [
    "DisExit2 = DisExit[['ClientID','DisabilityExit','DisabilityStartDateExit','DisabilityEndDateExit']]"
   ]
  },
  {
   "cell_type": "code",
   "execution_count": 185,
   "metadata": {},
   "outputs": [],
   "source": [
    "# Filter out the rows with health insurance\n",
    "temp = pd.DataFrame(columns=DisExit2.columns)\n",
    "clientID = set(DisExit2.ClientID)\n",
    "clientID = [*clientID, ] \n",
    "\n",
    "for id in clientID:\n",
    "    subdat = DisExit2[DisExit2.ClientID==id]\n",
    "    subdat = pd.DataFrame(subdat)\n",
    "    select_indices = list(np.where(subdat[\"DisabilityExit\"] == \"Yes (HUD)\")[0])\n",
    "    if len(select_indices)>0:\n",
    "        temp = temp.append(subdat.iloc[select_indices])\n",
    "        \n",
    "temp = temp.reset_index()\n",
    "DisExit2 = temp"
   ]
  },
  {
   "cell_type": "markdown",
   "metadata": {},
   "source": [
    "# Merge Datasets"
   ]
  },
  {
   "cell_type": "code",
   "execution_count": 186,
   "metadata": {},
   "outputs": [],
   "source": [
    "final_dat = client2.merge(incomeEntry2, on=['ClientID'], how='left')"
   ]
  },
  {
   "cell_type": "code",
   "execution_count": 187,
   "metadata": {},
   "outputs": [],
   "source": [
    "final_dat = final_dat.merge(incomeExit2, on=['ClientID'], how='left')"
   ]
  },
  {
   "cell_type": "code",
   "execution_count": 188,
   "metadata": {},
   "outputs": [
    {
     "ename": "KeyboardInterrupt",
     "evalue": "",
     "output_type": "error",
     "traceback": [
      "\u001b[0;31m---------------------------------------------------------------------------\u001b[0m",
      "\u001b[0;31mKeyboardInterrupt\u001b[0m                         Traceback (most recent call last)",
      "\u001b[0;32m<ipython-input-188-d31c6061656d>\u001b[0m in \u001b[0;36m<module>\u001b[0;34m()\u001b[0m\n\u001b[0;32m----> 1\u001b[0;31m \u001b[0mfinal_dat\u001b[0m \u001b[0;34m=\u001b[0m \u001b[0mfinal_dat\u001b[0m\u001b[0;34m.\u001b[0m\u001b[0mmerge\u001b[0m\u001b[0;34m(\u001b[0m\u001b[0mHIEntry2\u001b[0m\u001b[0;34m,\u001b[0m \u001b[0mon\u001b[0m\u001b[0;34m=\u001b[0m\u001b[0;34m[\u001b[0m\u001b[0;34m'ClientID'\u001b[0m\u001b[0;34m]\u001b[0m\u001b[0;34m,\u001b[0m \u001b[0mhow\u001b[0m\u001b[0;34m=\u001b[0m\u001b[0;34m'left'\u001b[0m\u001b[0;34m)\u001b[0m\u001b[0;34m\u001b[0m\u001b[0m\n\u001b[0m",
      "\u001b[0;32m~/anaconda3/lib/python3.6/site-packages/pandas/core/frame.py\u001b[0m in \u001b[0;36mmerge\u001b[0;34m(self, right, how, on, left_on, right_on, left_index, right_index, sort, suffixes, copy, indicator, validate)\u001b[0m\n\u001b[1;32m   5368\u001b[0m                      \u001b[0mright_on\u001b[0m\u001b[0;34m=\u001b[0m\u001b[0mright_on\u001b[0m\u001b[0;34m,\u001b[0m \u001b[0mleft_index\u001b[0m\u001b[0;34m=\u001b[0m\u001b[0mleft_index\u001b[0m\u001b[0;34m,\u001b[0m\u001b[0;34m\u001b[0m\u001b[0m\n\u001b[1;32m   5369\u001b[0m                      \u001b[0mright_index\u001b[0m\u001b[0;34m=\u001b[0m\u001b[0mright_index\u001b[0m\u001b[0;34m,\u001b[0m \u001b[0msort\u001b[0m\u001b[0;34m=\u001b[0m\u001b[0msort\u001b[0m\u001b[0;34m,\u001b[0m \u001b[0msuffixes\u001b[0m\u001b[0;34m=\u001b[0m\u001b[0msuffixes\u001b[0m\u001b[0;34m,\u001b[0m\u001b[0;34m\u001b[0m\u001b[0m\n\u001b[0;32m-> 5370\u001b[0;31m                      copy=copy, indicator=indicator, validate=validate)\n\u001b[0m\u001b[1;32m   5371\u001b[0m \u001b[0;34m\u001b[0m\u001b[0m\n\u001b[1;32m   5372\u001b[0m     \u001b[0;32mdef\u001b[0m \u001b[0mround\u001b[0m\u001b[0;34m(\u001b[0m\u001b[0mself\u001b[0m\u001b[0;34m,\u001b[0m \u001b[0mdecimals\u001b[0m\u001b[0;34m=\u001b[0m\u001b[0;36m0\u001b[0m\u001b[0;34m,\u001b[0m \u001b[0;34m*\u001b[0m\u001b[0margs\u001b[0m\u001b[0;34m,\u001b[0m \u001b[0;34m**\u001b[0m\u001b[0mkwargs\u001b[0m\u001b[0;34m)\u001b[0m\u001b[0;34m:\u001b[0m\u001b[0;34m\u001b[0m\u001b[0m\n",
      "\u001b[0;32m~/anaconda3/lib/python3.6/site-packages/pandas/core/reshape/merge.py\u001b[0m in \u001b[0;36mmerge\u001b[0;34m(left, right, how, on, left_on, right_on, left_index, right_index, sort, suffixes, copy, indicator, validate)\u001b[0m\n\u001b[1;32m     56\u001b[0m                          \u001b[0mcopy\u001b[0m\u001b[0;34m=\u001b[0m\u001b[0mcopy\u001b[0m\u001b[0;34m,\u001b[0m \u001b[0mindicator\u001b[0m\u001b[0;34m=\u001b[0m\u001b[0mindicator\u001b[0m\u001b[0;34m,\u001b[0m\u001b[0;34m\u001b[0m\u001b[0m\n\u001b[1;32m     57\u001b[0m                          validate=validate)\n\u001b[0;32m---> 58\u001b[0;31m     \u001b[0;32mreturn\u001b[0m \u001b[0mop\u001b[0m\u001b[0;34m.\u001b[0m\u001b[0mget_result\u001b[0m\u001b[0;34m(\u001b[0m\u001b[0;34m)\u001b[0m\u001b[0;34m\u001b[0m\u001b[0m\n\u001b[0m\u001b[1;32m     59\u001b[0m \u001b[0;34m\u001b[0m\u001b[0m\n\u001b[1;32m     60\u001b[0m \u001b[0;34m\u001b[0m\u001b[0m\n",
      "\u001b[0;32m~/anaconda3/lib/python3.6/site-packages/pandas/core/reshape/merge.py\u001b[0m in \u001b[0;36mget_result\u001b[0;34m(self)\u001b[0m\n\u001b[1;32m    580\u001b[0m                 self.left, self.right)\n\u001b[1;32m    581\u001b[0m \u001b[0;34m\u001b[0m\u001b[0m\n\u001b[0;32m--> 582\u001b[0;31m         \u001b[0mjoin_index\u001b[0m\u001b[0;34m,\u001b[0m \u001b[0mleft_indexer\u001b[0m\u001b[0;34m,\u001b[0m \u001b[0mright_indexer\u001b[0m \u001b[0;34m=\u001b[0m \u001b[0mself\u001b[0m\u001b[0;34m.\u001b[0m\u001b[0m_get_join_info\u001b[0m\u001b[0;34m(\u001b[0m\u001b[0;34m)\u001b[0m\u001b[0;34m\u001b[0m\u001b[0m\n\u001b[0m\u001b[1;32m    583\u001b[0m \u001b[0;34m\u001b[0m\u001b[0m\n\u001b[1;32m    584\u001b[0m         \u001b[0mldata\u001b[0m\u001b[0;34m,\u001b[0m \u001b[0mrdata\u001b[0m \u001b[0;34m=\u001b[0m \u001b[0mself\u001b[0m\u001b[0;34m.\u001b[0m\u001b[0mleft\u001b[0m\u001b[0;34m.\u001b[0m\u001b[0m_data\u001b[0m\u001b[0;34m,\u001b[0m \u001b[0mself\u001b[0m\u001b[0;34m.\u001b[0m\u001b[0mright\u001b[0m\u001b[0;34m.\u001b[0m\u001b[0m_data\u001b[0m\u001b[0;34m\u001b[0m\u001b[0m\n",
      "\u001b[0;32m~/anaconda3/lib/python3.6/site-packages/pandas/core/reshape/merge.py\u001b[0m in \u001b[0;36m_get_join_info\u001b[0;34m(self)\u001b[0m\n\u001b[1;32m    746\u001b[0m         \u001b[0;32melse\u001b[0m\u001b[0;34m:\u001b[0m\u001b[0;34m\u001b[0m\u001b[0m\n\u001b[1;32m    747\u001b[0m             (left_indexer,\n\u001b[0;32m--> 748\u001b[0;31m              right_indexer) = self._get_join_indexers()\n\u001b[0m\u001b[1;32m    749\u001b[0m \u001b[0;34m\u001b[0m\u001b[0m\n\u001b[1;32m    750\u001b[0m             \u001b[0;32mif\u001b[0m \u001b[0mself\u001b[0m\u001b[0;34m.\u001b[0m\u001b[0mright_index\u001b[0m\u001b[0;34m:\u001b[0m\u001b[0;34m\u001b[0m\u001b[0m\n",
      "\u001b[0;32m~/anaconda3/lib/python3.6/site-packages/pandas/core/reshape/merge.py\u001b[0m in \u001b[0;36m_get_join_indexers\u001b[0;34m(self)\u001b[0m\n\u001b[1;32m    725\u001b[0m                                   \u001b[0mself\u001b[0m\u001b[0;34m.\u001b[0m\u001b[0mright_join_keys\u001b[0m\u001b[0;34m,\u001b[0m\u001b[0;34m\u001b[0m\u001b[0m\n\u001b[1;32m    726\u001b[0m                                   \u001b[0msort\u001b[0m\u001b[0;34m=\u001b[0m\u001b[0mself\u001b[0m\u001b[0;34m.\u001b[0m\u001b[0msort\u001b[0m\u001b[0;34m,\u001b[0m\u001b[0;34m\u001b[0m\u001b[0m\n\u001b[0;32m--> 727\u001b[0;31m                                   how=self.how)\n\u001b[0m\u001b[1;32m    728\u001b[0m \u001b[0;34m\u001b[0m\u001b[0m\n\u001b[1;32m    729\u001b[0m     \u001b[0;32mdef\u001b[0m \u001b[0m_get_join_info\u001b[0m\u001b[0;34m(\u001b[0m\u001b[0mself\u001b[0m\u001b[0;34m)\u001b[0m\u001b[0;34m:\u001b[0m\u001b[0;34m\u001b[0m\u001b[0m\n",
      "\u001b[0;32m~/anaconda3/lib/python3.6/site-packages/pandas/core/reshape/merge.py\u001b[0m in \u001b[0;36m_get_join_indexers\u001b[0;34m(left_keys, right_keys, sort, how, **kwargs)\u001b[0m\n\u001b[1;32m   1064\u001b[0m     \u001b[0mjoin_func\u001b[0m \u001b[0;34m=\u001b[0m \u001b[0m_join_functions\u001b[0m\u001b[0;34m[\u001b[0m\u001b[0mhow\u001b[0m\u001b[0;34m]\u001b[0m\u001b[0;34m\u001b[0m\u001b[0m\n\u001b[1;32m   1065\u001b[0m \u001b[0;34m\u001b[0m\u001b[0m\n\u001b[0;32m-> 1066\u001b[0;31m     \u001b[0;32mreturn\u001b[0m \u001b[0mjoin_func\u001b[0m\u001b[0;34m(\u001b[0m\u001b[0mlkey\u001b[0m\u001b[0;34m,\u001b[0m \u001b[0mrkey\u001b[0m\u001b[0;34m,\u001b[0m \u001b[0mcount\u001b[0m\u001b[0;34m,\u001b[0m \u001b[0;34m**\u001b[0m\u001b[0mkwargs\u001b[0m\u001b[0;34m)\u001b[0m\u001b[0;34m\u001b[0m\u001b[0m\n\u001b[0m\u001b[1;32m   1067\u001b[0m \u001b[0;34m\u001b[0m\u001b[0m\n\u001b[1;32m   1068\u001b[0m \u001b[0;34m\u001b[0m\u001b[0m\n",
      "\u001b[0;31mKeyboardInterrupt\u001b[0m: "
     ]
    }
   ],
   "source": [
    "final_dat = final_dat.merge(HIEntry2, on=['ClientID'], how='left')"
   ]
  },
  {
   "cell_type": "code",
   "execution_count": null,
   "metadata": {},
   "outputs": [],
   "source": [
    "final_dat = final_dat.merge(HIExit2, on=['ClientID'], how='left')"
   ]
  },
  {
   "cell_type": "code",
   "execution_count": null,
   "metadata": {},
   "outputs": [],
   "source": [
    "final_dat = final_dat.merge(DisEntry2, on=['ClientID'], how='left')"
   ]
  },
  {
   "cell_type": "code",
   "execution_count": null,
   "metadata": {},
   "outputs": [],
   "source": [
    "final_dat = final_dat.merge(DisExit2, on=['ClientID'], how='left')"
   ]
  },
  {
   "cell_type": "code",
   "execution_count": null,
   "metadata": {},
   "outputs": [],
   "source": [
    "final_dat.to_csv(\"../data/final\") # Save final data for visualization and statistical analysis in R"
   ]
  },
  {
   "cell_type": "code",
   "execution_count": null,
   "metadata": {},
   "outputs": [],
   "source": [
    "client2.to_csv(\"../data/client2.csv\")\n",
    "incomeEntry2.to_csv(\"../data/incomeEntry2.csv\")\n",
    "incomeExit2.to_csv(\"../data/incomeExit2.csv\")\n",
    "HIEntry2.to_csv(\"../data/HIEntry2.csv\")\n",
    "HIExit2.to_csv(\"../data/HIExit2.csv\")\n",
    "DisEntry2.to_csv(\"../data/DisEntry2.csv\")\n",
    "DisExit2.to_csv(\"../data/DisExit2.csv\")"
   ]
  },
  {
   "cell_type": "code",
   "execution_count": null,
   "metadata": {},
   "outputs": [],
   "source": []
  }
 ],
 "metadata": {
  "kernelspec": {
   "display_name": "Python 3",
   "language": "python",
   "name": "python3"
  },
  "language_info": {
   "codemirror_mode": {
    "name": "ipython",
    "version": 3
   },
   "file_extension": ".py",
   "mimetype": "text/x-python",
   "name": "python",
   "nbconvert_exporter": "python",
   "pygments_lexer": "ipython3",
   "version": "3.6.4"
  }
 },
 "nbformat": 4,
 "nbformat_minor": 2
}
