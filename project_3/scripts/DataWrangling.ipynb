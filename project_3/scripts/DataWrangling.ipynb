{
 "cells": [
  {
   "cell_type": "code",
   "execution_count": 17,
   "metadata": {},
   "outputs": [],
   "source": [
    "# Import packages \n",
    "import numpy as np\n",
    "import pandas as pd\n",
    "import sys\n",
    "import math"
   ]
  },
  {
   "cell_type": "markdown",
   "metadata": {},
   "source": [
    "# Demographics of Clients at UMD"
   ]
  },
  {
   "cell_type": "code",
   "execution_count": 18,
   "metadata": {},
   "outputs": [
    {
     "data": {
      "text/html": [
       "<div>\n",
       "<style scoped>\n",
       "    .dataframe tbody tr th:only-of-type {\n",
       "        vertical-align: middle;\n",
       "    }\n",
       "\n",
       "    .dataframe tbody tr th {\n",
       "        vertical-align: top;\n",
       "    }\n",
       "\n",
       "    .dataframe thead th {\n",
       "        text-align: right;\n",
       "    }\n",
       "</style>\n",
       "<table border=\"1\" class=\"dataframe\">\n",
       "  <thead>\n",
       "    <tr style=\"text-align: right;\">\n",
       "      <th></th>\n",
       "      <th>EE Provider ID</th>\n",
       "      <th>EE UID</th>\n",
       "      <th>Client Unique ID</th>\n",
       "      <th>Client ID</th>\n",
       "      <th>Client Age at Entry</th>\n",
       "      <th>Client Age at Exit</th>\n",
       "      <th>Client Gender</th>\n",
       "      <th>Client Primary Race</th>\n",
       "      <th>Client Ethnicity</th>\n",
       "      <th>Client Veteran Status</th>\n",
       "    </tr>\n",
       "  </thead>\n",
       "  <tbody>\n",
       "    <tr>\n",
       "      <th>0</th>\n",
       "      <td>Urban Ministries of Durham - Durham County - S...</td>\n",
       "      <td>687901</td>\n",
       "      <td>pbkf09291954p610b236</td>\n",
       "      <td>397941</td>\n",
       "      <td>60.0</td>\n",
       "      <td>61.0</td>\n",
       "      <td>Female</td>\n",
       "      <td>White (HUD)</td>\n",
       "      <td>Non-Hispanic/Non-Latino (HUD)</td>\n",
       "      <td>No (HUD)</td>\n",
       "    </tr>\n",
       "    <tr>\n",
       "      <th>1</th>\n",
       "      <td>Urban Ministries of Durham - Durham County - S...</td>\n",
       "      <td>687902</td>\n",
       "      <td>kdaf01071967k400d635</td>\n",
       "      <td>130335</td>\n",
       "      <td>48.0</td>\n",
       "      <td>48.0</td>\n",
       "      <td>Female</td>\n",
       "      <td>Black or African American (HUD)</td>\n",
       "      <td>Non-Hispanic/Non-Latino (HUD)</td>\n",
       "      <td>No (HUD)</td>\n",
       "    </tr>\n",
       "    <tr>\n",
       "      <th>2</th>\n",
       "      <td>Urban Ministries of Durham - Durham County - S...</td>\n",
       "      <td>687903</td>\n",
       "      <td>smrf06211973s620m640</td>\n",
       "      <td>188933</td>\n",
       "      <td>42.0</td>\n",
       "      <td>42.0</td>\n",
       "      <td>Female</td>\n",
       "      <td>Black or African American (HUD)</td>\n",
       "      <td>Non-Hispanic/Non-Latino (HUD)</td>\n",
       "      <td>No (HUD)</td>\n",
       "    </tr>\n",
       "    <tr>\n",
       "      <th>3</th>\n",
       "      <td>Urban Ministries of Durham - Durham County - S...</td>\n",
       "      <td>687904</td>\n",
       "      <td>abrm07251958a416b600</td>\n",
       "      <td>168290</td>\n",
       "      <td>57.0</td>\n",
       "      <td>57.0</td>\n",
       "      <td>Male</td>\n",
       "      <td>White (HUD)</td>\n",
       "      <td>Hispanic/Latino (HUD)</td>\n",
       "      <td>No (HUD)</td>\n",
       "    </tr>\n",
       "    <tr>\n",
       "      <th>4</th>\n",
       "      <td>Urban Ministries of Durham - Durham County - S...</td>\n",
       "      <td>687905</td>\n",
       "      <td>wbom01251964w450b620</td>\n",
       "      <td>123122</td>\n",
       "      <td>51.0</td>\n",
       "      <td>51.0</td>\n",
       "      <td>Male</td>\n",
       "      <td>White (HUD)</td>\n",
       "      <td>Non-Hispanic/Non-Latino (HUD)</td>\n",
       "      <td>No (HUD)</td>\n",
       "    </tr>\n",
       "  </tbody>\n",
       "</table>\n",
       "</div>"
      ],
      "text/plain": [
       "                                      EE Provider ID  EE UID  \\\n",
       "0  Urban Ministries of Durham - Durham County - S...  687901   \n",
       "1  Urban Ministries of Durham - Durham County - S...  687902   \n",
       "2  Urban Ministries of Durham - Durham County - S...  687903   \n",
       "3  Urban Ministries of Durham - Durham County - S...  687904   \n",
       "4  Urban Ministries of Durham - Durham County - S...  687905   \n",
       "\n",
       "       Client Unique ID  Client ID  Client Age at Entry  Client Age at Exit  \\\n",
       "0  pbkf09291954p610b236     397941                 60.0                61.0   \n",
       "1  kdaf01071967k400d635     130335                 48.0                48.0   \n",
       "2  smrf06211973s620m640     188933                 42.0                42.0   \n",
       "3  abrm07251958a416b600     168290                 57.0                57.0   \n",
       "4  wbom01251964w450b620     123122                 51.0                51.0   \n",
       "\n",
       "  Client Gender              Client Primary Race  \\\n",
       "0        Female                      White (HUD)   \n",
       "1        Female  Black or African American (HUD)   \n",
       "2        Female  Black or African American (HUD)   \n",
       "3          Male                      White (HUD)   \n",
       "4          Male                      White (HUD)   \n",
       "\n",
       "                Client Ethnicity Client Veteran Status  \n",
       "0  Non-Hispanic/Non-Latino (HUD)              No (HUD)  \n",
       "1  Non-Hispanic/Non-Latino (HUD)              No (HUD)  \n",
       "2  Non-Hispanic/Non-Latino (HUD)              No (HUD)  \n",
       "3          Hispanic/Latino (HUD)              No (HUD)  \n",
       "4  Non-Hispanic/Non-Latino (HUD)              No (HUD)  "
      ]
     },
     "execution_count": 18,
     "metadata": {},
     "output_type": "execute_result"
    }
   ],
   "source": [
    "client = pd.read_csv(\"/Users/jieun/github_updated/bios611-projects-fall-2019-jennprk/project_3/data/CLIENT_191102.tsv\", sep=\"\\t\")\n",
    "client.head()"
   ]
  },
  {
   "cell_type": "code",
   "execution_count": 19,
   "metadata": {},
   "outputs": [
    {
     "name": "stdout",
     "output_type": "stream",
     "text": [
      "EE Provider ID\n",
      "EE UID\n",
      "Client Unique ID\n",
      "Client ID\n",
      "Client Age at Entry\n",
      "Client Age at Exit\n",
      "Client Gender\n",
      "Client Primary Race\n",
      "Client Ethnicity\n",
      "Client Veteran Status\n"
     ]
    }
   ],
   "source": [
    "# Check the original column names and change to neater version\n",
    "for col in client.columns: \n",
    "    print(col) \n",
    "    \n",
    "client.columns = ['provider','EUID','CUID', 'ClientID','AgeEntry','AgeExit','Gender','Race','Ethnicity','Veteran']"
   ]
  },
  {
   "cell_type": "code",
   "execution_count": 20,
   "metadata": {},
   "outputs": [],
   "source": [
    "# Filter the variables of interest\n",
    "client2 = client[['ClientID','AgeEntry','AgeExit','Gender','Race','Ethnicity','Veteran']]"
   ]
  },
  {
   "cell_type": "code",
   "execution_count": 21,
   "metadata": {},
   "outputs": [
    {
     "name": "stdout",
     "output_type": "stream",
     "text": [
      "   ClientID  AgeEntry  AgeExit  Gender  Race  Ethnicity  Veteran\n",
      "0         0         3        3       3     3          3       10\n"
     ]
    }
   ],
   "source": [
    "# Checking Missingness\n",
    "## Generate the number of missing values in the demographic variables\n",
    "nullvals =  [\"\" for x in range(len(client2.columns))]\n",
    "nullvals = pd.DataFrame(nullvals).T\n",
    "nullvals.columns = client2.columns\n",
    "\n",
    "for col in client2.columns:\n",
    "    nullval = client2[col].isnull()\n",
    "    nullvals[col] = sum(nullval)\n",
    "    \n",
    "print(nullvals)"
   ]
  },
  {
   "cell_type": "code",
   "execution_count": 22,
   "metadata": {},
   "outputs": [],
   "source": [
    "client2 = client2.dropna()"
   ]
  },
  {
   "cell_type": "code",
   "execution_count": 24,
   "metadata": {},
   "outputs": [],
   "source": [
    "# function for unique values\n",
    "def unique(list1): \n",
    "      \n",
    "    # insert the list to the set \n",
    "    list_set = set(list1) \n",
    "    # convert the set to the list \n",
    "    unique_list = (list(list_set)) \n",
    "    for x in unique_list: \n",
    "        print(x)"
   ]
  },
  {
   "cell_type": "code",
   "execution_count": 25,
   "metadata": {},
   "outputs": [
    {
     "name": "stdout",
     "output_type": "stream",
     "text": [
      "Trans Female (MTF or Male to Female)\n",
      "Female\n",
      "Male\n",
      "\n",
      "American Indian or Alaska Native (HUD)\n",
      "Client doesn't know (HUD)\n",
      "Asian (HUD)\n",
      "Client refused (HUD)\n",
      "White (HUD)\n",
      "Black or African American (HUD)\n",
      "Data not collected (HUD)\n",
      "Native Hawaiian or Other Pacific Islander (HUD)\n",
      "\n",
      "Client doesn't know (HUD)\n",
      "Client refused (HUD)\n",
      "Data not collected (HUD)\n",
      "Hispanic/Latino (HUD)\n",
      "Non-Hispanic/Non-Latino (HUD)\n",
      "\n",
      "Yes (HUD)\n",
      "No (HUD)\n",
      "Data not collected (HUD)\n"
     ]
    }
   ],
   "source": [
    "# unique values of categorical variables\n",
    "cat = ['Gender', 'Race', 'Ethnicity', 'Veteran']\n",
    "\n",
    "unique(client2[cat[0]])\n",
    "print()\n",
    "unique(client2[cat[1]])\n",
    "print()\n",
    "unique(client2[cat[2]])\n",
    "print()\n",
    "unique(client2[cat[3]])\n",
    "\n",
    "#for col in cat:\n",
    "#    ls = list(unique(client2[col]))\n",
    "#    unqlist.append(ls)"
   ]
  },
  {
   "cell_type": "markdown",
   "metadata": {},
   "source": [
    "### 1. Age Demographics (Entry)"
   ]
  },
  {
   "cell_type": "code",
   "execution_count": 26,
   "metadata": {},
   "outputs": [
    {
     "data": {
      "text/plain": [
       "44.2"
      ]
     },
     "execution_count": 26,
     "metadata": {},
     "output_type": "execute_result"
    }
   ],
   "source": [
    "round(client2.AgeEntry.mean(),1) # average entry age"
   ]
  },
  {
   "cell_type": "code",
   "execution_count": 27,
   "metadata": {},
   "outputs": [
    {
     "data": {
      "text/plain": [
       "18.0"
      ]
     },
     "execution_count": 27,
     "metadata": {},
     "output_type": "execute_result"
    }
   ],
   "source": [
    "client2.AgeEntry.min() # minimum entry age"
   ]
  },
  {
   "cell_type": "code",
   "execution_count": 28,
   "metadata": {},
   "outputs": [
    {
     "data": {
      "text/plain": [
       "46.0"
      ]
     },
     "execution_count": 28,
     "metadata": {},
     "output_type": "execute_result"
    }
   ],
   "source": [
    "client2.AgeEntry.median() # median entry age"
   ]
  },
  {
   "cell_type": "code",
   "execution_count": 29,
   "metadata": {},
   "outputs": [
    {
     "data": {
      "text/plain": [
       "81.0"
      ]
     },
     "execution_count": 29,
     "metadata": {},
     "output_type": "execute_result"
    }
   ],
   "source": [
    "client2.AgeEntry.max() # maximum entry age"
   ]
  },
  {
   "cell_type": "code",
   "execution_count": 30,
   "metadata": {},
   "outputs": [
    {
     "data": {
      "text/plain": [
       "12.8"
      ]
     },
     "execution_count": 30,
     "metadata": {},
     "output_type": "execute_result"
    }
   ],
   "source": [
    "round(client2.AgeEntry.std(),1) # standard deviation of entry age"
   ]
  },
  {
   "cell_type": "markdown",
   "metadata": {},
   "source": [
    "### 2. Age Demographics (Exit)"
   ]
  },
  {
   "cell_type": "code",
   "execution_count": 31,
   "metadata": {},
   "outputs": [
    {
     "data": {
      "text/plain": [
       "44.4"
      ]
     },
     "execution_count": 31,
     "metadata": {},
     "output_type": "execute_result"
    }
   ],
   "source": [
    "round(client2.AgeExit.mean(),1) # average entry age"
   ]
  },
  {
   "cell_type": "code",
   "execution_count": 32,
   "metadata": {},
   "outputs": [
    {
     "data": {
      "text/plain": [
       "18.0"
      ]
     },
     "execution_count": 32,
     "metadata": {},
     "output_type": "execute_result"
    }
   ],
   "source": [
    "client2.AgeExit.min() # minimum exit age"
   ]
  },
  {
   "cell_type": "code",
   "execution_count": 33,
   "metadata": {},
   "outputs": [
    {
     "data": {
      "text/plain": [
       "81.0"
      ]
     },
     "execution_count": 33,
     "metadata": {},
     "output_type": "execute_result"
    }
   ],
   "source": [
    "client2.AgeExit.max() # minimum exit age"
   ]
  },
  {
   "cell_type": "code",
   "execution_count": 34,
   "metadata": {},
   "outputs": [
    {
     "data": {
      "text/plain": [
       "12.8"
      ]
     },
     "execution_count": 34,
     "metadata": {},
     "output_type": "execute_result"
    }
   ],
   "source": [
    "round(client2.AgeExit.std(),1) # standard deviation of exit age"
   ]
  },
  {
   "cell_type": "markdown",
   "metadata": {},
   "source": [
    "### 3. Gender Demographics"
   ]
  },
  {
   "cell_type": "code",
   "execution_count": 35,
   "metadata": {},
   "outputs": [
    {
     "data": {
      "text/plain": [
       "Male                                    3981\n",
       "Female                                  1288\n",
       "Trans Female (MTF or Male to Female)      17\n",
       "Name: Gender, dtype: int64"
      ]
     },
     "execution_count": 35,
     "metadata": {},
     "output_type": "execute_result"
    }
   ],
   "source": [
    "client2['Gender'].value_counts()"
   ]
  },
  {
   "cell_type": "markdown",
   "metadata": {},
   "source": [
    "### 4. Race Demographics"
   ]
  },
  {
   "cell_type": "code",
   "execution_count": 36,
   "metadata": {
    "scrolled": true
   },
   "outputs": [
    {
     "data": {
      "text/plain": [
       "Black or African American (HUD)                    3856\n",
       "White (HUD)                                        1311\n",
       "American Indian or Alaska Native (HUD)               90\n",
       "Native Hawaiian or Other Pacific Islander (HUD)      11\n",
       "Data not collected (HUD)                              6\n",
       "Client refused (HUD)                                  5\n",
       "Client doesn't know (HUD)                             4\n",
       "Asian (HUD)                                           3\n",
       "Name: Race, dtype: int64"
      ]
     },
     "execution_count": 36,
     "metadata": {},
     "output_type": "execute_result"
    }
   ],
   "source": [
    "client2['Race'].value_counts()"
   ]
  },
  {
   "cell_type": "markdown",
   "metadata": {},
   "source": [
    "### 5. Ethnicity Demographics"
   ]
  },
  {
   "cell_type": "code",
   "execution_count": 37,
   "metadata": {},
   "outputs": [
    {
     "data": {
      "text/plain": [
       "Non-Hispanic/Non-Latino (HUD)    5065\n",
       "Hispanic/Latino (HUD)             191\n",
       "Data not collected (HUD)           13\n",
       "Client doesn't know (HUD)           9\n",
       "Client refused (HUD)                8\n",
       "Name: Ethnicity, dtype: int64"
      ]
     },
     "execution_count": 37,
     "metadata": {},
     "output_type": "execute_result"
    }
   ],
   "source": [
    "client2['Ethnicity'].value_counts()"
   ]
  },
  {
   "cell_type": "markdown",
   "metadata": {},
   "source": [
    "### 6. Veteran Demographics"
   ]
  },
  {
   "cell_type": "code",
   "execution_count": 38,
   "metadata": {},
   "outputs": [
    {
     "data": {
      "text/plain": [
       "No (HUD)                    4721\n",
       "Yes (HUD)                    558\n",
       "Data not collected (HUD)       7\n",
       "Name: Veteran, dtype: int64"
      ]
     },
     "execution_count": 38,
     "metadata": {},
     "output_type": "execute_result"
    }
   ],
   "source": [
    "client2[\"Veteran\"].value_counts()"
   ]
  },
  {
   "cell_type": "markdown",
   "metadata": {},
   "source": [
    "# Income Dataset"
   ]
  },
  {
   "cell_type": "code",
   "execution_count": 39,
   "metadata": {},
   "outputs": [],
   "source": [
    "incomeEntry = pd.read_csv(\"/Users/jieun/github_updated/bios611-projects-fall-2019-jennprk/project_3/data/INCOME_ENTRY_191102.tsv\", sep='\\t')"
   ]
  },
  {
   "cell_type": "code",
   "execution_count": 40,
   "metadata": {},
   "outputs": [
    {
     "name": "stdout",
     "output_type": "stream",
     "text": [
      "EE Provider ID\n",
      "EE UID\n",
      "Client Unique ID\n",
      "Client ID\n",
      "Receiving Income (Entry)\n",
      "Income Source (Entry)\n",
      "Monthly Amount (Entry)\n",
      "Income Start Date (Entry)\n",
      "Income End Date (Entry)\n",
      "Recordset ID (140-recordset_id)\n",
      "Provider (140-provider)\n",
      "Date Added (140-date_added)\n"
     ]
    }
   ],
   "source": [
    "# Check the original column names and change to neater version\n",
    "for col in incomeEntry.columns: \n",
    "    print(col) \n",
    "    \n",
    "incomeEntry.columns = ['provider','EUID','CUID', 'ClientID','IncomeEntry','IncomeSourceEntry','MonthlyIncomeEntry','IncomeStartDateEntry','IncomeEndDateEntry','recordsetID','ProviderID','dateadded']"
   ]
  },
  {
   "cell_type": "code",
   "execution_count": 41,
   "metadata": {},
   "outputs": [],
   "source": [
    "# Filter the variables of interest\n",
    "incomeEntry2 = incomeEntry[['ClientID','IncomeEntry','IncomeSourceEntry','MonthlyIncomeEntry','IncomeStartDateEntry', 'IncomeEndDateEntry']]"
   ]
  },
  {
   "cell_type": "code",
   "execution_count": 50,
   "metadata": {},
   "outputs": [
    {
     "data": {
      "text/html": [
       "<div>\n",
       "<style scoped>\n",
       "    .dataframe tbody tr th:only-of-type {\n",
       "        vertical-align: middle;\n",
       "    }\n",
       "\n",
       "    .dataframe tbody tr th {\n",
       "        vertical-align: top;\n",
       "    }\n",
       "\n",
       "    .dataframe thead th {\n",
       "        text-align: right;\n",
       "    }\n",
       "</style>\n",
       "<table border=\"1\" class=\"dataframe\">\n",
       "  <thead>\n",
       "    <tr style=\"text-align: right;\">\n",
       "      <th></th>\n",
       "      <th>ClientID</th>\n",
       "      <th>IncomeEntry</th>\n",
       "      <th>IncomeSourceEntry</th>\n",
       "      <th>MonthlyIncomeEntry</th>\n",
       "      <th>IncomeStartDateEntry</th>\n",
       "      <th>IncomeEndDateEntry</th>\n",
       "    </tr>\n",
       "  </thead>\n",
       "  <tbody>\n",
       "    <tr>\n",
       "      <th>0</th>\n",
       "      <td>397941</td>\n",
       "      <td>No</td>\n",
       "      <td>Alimony or Other Spousal Support (HUD)</td>\n",
       "      <td>NaN</td>\n",
       "      <td>4/20/2015</td>\n",
       "      <td>NaN</td>\n",
       "    </tr>\n",
       "    <tr>\n",
       "      <th>1</th>\n",
       "      <td>397941</td>\n",
       "      <td>No</td>\n",
       "      <td>Child Support (HUD)</td>\n",
       "      <td>NaN</td>\n",
       "      <td>4/20/2015</td>\n",
       "      <td>NaN</td>\n",
       "    </tr>\n",
       "    <tr>\n",
       "      <th>2</th>\n",
       "      <td>397941</td>\n",
       "      <td>No</td>\n",
       "      <td>Earned Income (HUD)</td>\n",
       "      <td>NaN</td>\n",
       "      <td>4/20/2015</td>\n",
       "      <td>NaN</td>\n",
       "    </tr>\n",
       "    <tr>\n",
       "      <th>3</th>\n",
       "      <td>397941</td>\n",
       "      <td>No</td>\n",
       "      <td>General Assistance (HUD)</td>\n",
       "      <td>NaN</td>\n",
       "      <td>4/20/2015</td>\n",
       "      <td>NaN</td>\n",
       "    </tr>\n",
       "    <tr>\n",
       "      <th>4</th>\n",
       "      <td>397941</td>\n",
       "      <td>No</td>\n",
       "      <td>Other (HUD)</td>\n",
       "      <td>NaN</td>\n",
       "      <td>4/20/2015</td>\n",
       "      <td>NaN</td>\n",
       "    </tr>\n",
       "    <tr>\n",
       "      <th>5</th>\n",
       "      <td>397941</td>\n",
       "      <td>No</td>\n",
       "      <td>Pension or retirement income from another job ...</td>\n",
       "      <td>NaN</td>\n",
       "      <td>4/20/2015</td>\n",
       "      <td>NaN</td>\n",
       "    </tr>\n",
       "    <tr>\n",
       "      <th>6</th>\n",
       "      <td>397941</td>\n",
       "      <td>No</td>\n",
       "      <td>Private Disability Insurance (HUD)</td>\n",
       "      <td>NaN</td>\n",
       "      <td>4/20/2015</td>\n",
       "      <td>NaN</td>\n",
       "    </tr>\n",
       "    <tr>\n",
       "      <th>7</th>\n",
       "      <td>397941</td>\n",
       "      <td>No</td>\n",
       "      <td>Retirement Income From Social Security (HUD)</td>\n",
       "      <td>NaN</td>\n",
       "      <td>4/20/2015</td>\n",
       "      <td>NaN</td>\n",
       "    </tr>\n",
       "    <tr>\n",
       "      <th>8</th>\n",
       "      <td>397941</td>\n",
       "      <td>No</td>\n",
       "      <td>SSDI (HUD)</td>\n",
       "      <td>NaN</td>\n",
       "      <td>4/20/2015</td>\n",
       "      <td>NaN</td>\n",
       "    </tr>\n",
       "    <tr>\n",
       "      <th>9</th>\n",
       "      <td>397941</td>\n",
       "      <td>No</td>\n",
       "      <td>SSI (HUD)</td>\n",
       "      <td>NaN</td>\n",
       "      <td>4/20/2015</td>\n",
       "      <td>NaN</td>\n",
       "    </tr>\n",
       "    <tr>\n",
       "      <th>10</th>\n",
       "      <td>397941</td>\n",
       "      <td>No</td>\n",
       "      <td>TANF (HUD)</td>\n",
       "      <td>NaN</td>\n",
       "      <td>4/20/2015</td>\n",
       "      <td>NaN</td>\n",
       "    </tr>\n",
       "    <tr>\n",
       "      <th>11</th>\n",
       "      <td>397941</td>\n",
       "      <td>No</td>\n",
       "      <td>Unemployment Insurance (HUD)</td>\n",
       "      <td>NaN</td>\n",
       "      <td>4/20/2015</td>\n",
       "      <td>NaN</td>\n",
       "    </tr>\n",
       "    <tr>\n",
       "      <th>12</th>\n",
       "      <td>397941</td>\n",
       "      <td>No</td>\n",
       "      <td>VA Non-Service Connected Disability Pension (HUD)</td>\n",
       "      <td>NaN</td>\n",
       "      <td>4/20/2015</td>\n",
       "      <td>NaN</td>\n",
       "    </tr>\n",
       "    <tr>\n",
       "      <th>13</th>\n",
       "      <td>397941</td>\n",
       "      <td>No</td>\n",
       "      <td>VA Service Connected Disability Compensation (...</td>\n",
       "      <td>NaN</td>\n",
       "      <td>4/20/2015</td>\n",
       "      <td>NaN</td>\n",
       "    </tr>\n",
       "    <tr>\n",
       "      <th>14</th>\n",
       "      <td>397941</td>\n",
       "      <td>No</td>\n",
       "      <td>Worker's Compensation (HUD)</td>\n",
       "      <td>NaN</td>\n",
       "      <td>4/20/2015</td>\n",
       "      <td>NaN</td>\n",
       "    </tr>\n",
       "    <tr>\n",
       "      <th>15</th>\n",
       "      <td>130335</td>\n",
       "      <td>No</td>\n",
       "      <td>Alimony or Other Spousal Support (HUD)</td>\n",
       "      <td>NaN</td>\n",
       "      <td>6/13/2015</td>\n",
       "      <td>NaN</td>\n",
       "    </tr>\n",
       "    <tr>\n",
       "      <th>16</th>\n",
       "      <td>130335</td>\n",
       "      <td>No</td>\n",
       "      <td>Alimony or Other Spousal Support (HUD)</td>\n",
       "      <td>NaN</td>\n",
       "      <td>7/10/2015</td>\n",
       "      <td>NaN</td>\n",
       "    </tr>\n",
       "    <tr>\n",
       "      <th>17</th>\n",
       "      <td>130335</td>\n",
       "      <td>No</td>\n",
       "      <td>Child Support (HUD)</td>\n",
       "      <td>NaN</td>\n",
       "      <td>6/13/2015</td>\n",
       "      <td>NaN</td>\n",
       "    </tr>\n",
       "    <tr>\n",
       "      <th>18</th>\n",
       "      <td>130335</td>\n",
       "      <td>No</td>\n",
       "      <td>Child Support (HUD)</td>\n",
       "      <td>NaN</td>\n",
       "      <td>7/10/2015</td>\n",
       "      <td>NaN</td>\n",
       "    </tr>\n",
       "    <tr>\n",
       "      <th>19</th>\n",
       "      <td>130335</td>\n",
       "      <td>No</td>\n",
       "      <td>Earned Income (HUD)</td>\n",
       "      <td>NaN</td>\n",
       "      <td>6/13/2015</td>\n",
       "      <td>NaN</td>\n",
       "    </tr>\n",
       "    <tr>\n",
       "      <th>20</th>\n",
       "      <td>130335</td>\n",
       "      <td>No</td>\n",
       "      <td>Earned Income (HUD)</td>\n",
       "      <td>NaN</td>\n",
       "      <td>7/10/2015</td>\n",
       "      <td>NaN</td>\n",
       "    </tr>\n",
       "    <tr>\n",
       "      <th>21</th>\n",
       "      <td>130335</td>\n",
       "      <td>No</td>\n",
       "      <td>General Assistance (HUD)</td>\n",
       "      <td>NaN</td>\n",
       "      <td>6/13/2015</td>\n",
       "      <td>NaN</td>\n",
       "    </tr>\n",
       "    <tr>\n",
       "      <th>22</th>\n",
       "      <td>130335</td>\n",
       "      <td>No</td>\n",
       "      <td>General Assistance (HUD)</td>\n",
       "      <td>NaN</td>\n",
       "      <td>7/10/2015</td>\n",
       "      <td>NaN</td>\n",
       "    </tr>\n",
       "    <tr>\n",
       "      <th>23</th>\n",
       "      <td>130335</td>\n",
       "      <td>No</td>\n",
       "      <td>Other (HUD)</td>\n",
       "      <td>NaN</td>\n",
       "      <td>6/13/2015</td>\n",
       "      <td>NaN</td>\n",
       "    </tr>\n",
       "    <tr>\n",
       "      <th>24</th>\n",
       "      <td>130335</td>\n",
       "      <td>No</td>\n",
       "      <td>Other (HUD)</td>\n",
       "      <td>NaN</td>\n",
       "      <td>7/10/2015</td>\n",
       "      <td>NaN</td>\n",
       "    </tr>\n",
       "    <tr>\n",
       "      <th>25</th>\n",
       "      <td>130335</td>\n",
       "      <td>No</td>\n",
       "      <td>Pension or retirement income from another job ...</td>\n",
       "      <td>NaN</td>\n",
       "      <td>6/13/2015</td>\n",
       "      <td>NaN</td>\n",
       "    </tr>\n",
       "    <tr>\n",
       "      <th>26</th>\n",
       "      <td>130335</td>\n",
       "      <td>No</td>\n",
       "      <td>Pension or retirement income from another job ...</td>\n",
       "      <td>NaN</td>\n",
       "      <td>7/10/2015</td>\n",
       "      <td>NaN</td>\n",
       "    </tr>\n",
       "    <tr>\n",
       "      <th>27</th>\n",
       "      <td>130335</td>\n",
       "      <td>No</td>\n",
       "      <td>Private Disability Insurance (HUD)</td>\n",
       "      <td>NaN</td>\n",
       "      <td>6/13/2015</td>\n",
       "      <td>NaN</td>\n",
       "    </tr>\n",
       "    <tr>\n",
       "      <th>28</th>\n",
       "      <td>130335</td>\n",
       "      <td>No</td>\n",
       "      <td>Private Disability Insurance (HUD)</td>\n",
       "      <td>NaN</td>\n",
       "      <td>7/10/2015</td>\n",
       "      <td>NaN</td>\n",
       "    </tr>\n",
       "    <tr>\n",
       "      <th>29</th>\n",
       "      <td>130335</td>\n",
       "      <td>No</td>\n",
       "      <td>Retirement Income From Social Security (HUD)</td>\n",
       "      <td>NaN</td>\n",
       "      <td>6/13/2015</td>\n",
       "      <td>NaN</td>\n",
       "    </tr>\n",
       "    <tr>\n",
       "      <th>...</th>\n",
       "      <td>...</td>\n",
       "      <td>...</td>\n",
       "      <td>...</td>\n",
       "      <td>...</td>\n",
       "      <td>...</td>\n",
       "      <td>...</td>\n",
       "    </tr>\n",
       "    <tr>\n",
       "      <th>76544</th>\n",
       "      <td>401495</td>\n",
       "      <td>No</td>\n",
       "      <td>Alimony or Other Spousal Support (HUD)</td>\n",
       "      <td>NaN</td>\n",
       "      <td>6/3/2015</td>\n",
       "      <td>NaN</td>\n",
       "    </tr>\n",
       "    <tr>\n",
       "      <th>76545</th>\n",
       "      <td>401495</td>\n",
       "      <td>No</td>\n",
       "      <td>Child Support (HUD)</td>\n",
       "      <td>NaN</td>\n",
       "      <td>6/3/2015</td>\n",
       "      <td>NaN</td>\n",
       "    </tr>\n",
       "    <tr>\n",
       "      <th>76546</th>\n",
       "      <td>401495</td>\n",
       "      <td>No</td>\n",
       "      <td>General Assistance (HUD)</td>\n",
       "      <td>NaN</td>\n",
       "      <td>6/3/2015</td>\n",
       "      <td>NaN</td>\n",
       "    </tr>\n",
       "    <tr>\n",
       "      <th>76547</th>\n",
       "      <td>401495</td>\n",
       "      <td>No</td>\n",
       "      <td>Other (HUD)</td>\n",
       "      <td>NaN</td>\n",
       "      <td>6/3/2015</td>\n",
       "      <td>NaN</td>\n",
       "    </tr>\n",
       "    <tr>\n",
       "      <th>76548</th>\n",
       "      <td>401495</td>\n",
       "      <td>No</td>\n",
       "      <td>Pension or retirement income from another job ...</td>\n",
       "      <td>NaN</td>\n",
       "      <td>6/3/2015</td>\n",
       "      <td>NaN</td>\n",
       "    </tr>\n",
       "    <tr>\n",
       "      <th>76549</th>\n",
       "      <td>401495</td>\n",
       "      <td>No</td>\n",
       "      <td>Private Disability Insurance (HUD)</td>\n",
       "      <td>NaN</td>\n",
       "      <td>6/3/2015</td>\n",
       "      <td>NaN</td>\n",
       "    </tr>\n",
       "    <tr>\n",
       "      <th>76550</th>\n",
       "      <td>401495</td>\n",
       "      <td>No</td>\n",
       "      <td>Retirement Income From Social Security (HUD)</td>\n",
       "      <td>NaN</td>\n",
       "      <td>6/3/2015</td>\n",
       "      <td>NaN</td>\n",
       "    </tr>\n",
       "    <tr>\n",
       "      <th>76551</th>\n",
       "      <td>401495</td>\n",
       "      <td>No</td>\n",
       "      <td>SSDI (HUD)</td>\n",
       "      <td>NaN</td>\n",
       "      <td>6/3/2015</td>\n",
       "      <td>NaN</td>\n",
       "    </tr>\n",
       "    <tr>\n",
       "      <th>76552</th>\n",
       "      <td>401495</td>\n",
       "      <td>No</td>\n",
       "      <td>SSI (HUD)</td>\n",
       "      <td>NaN</td>\n",
       "      <td>6/3/2015</td>\n",
       "      <td>NaN</td>\n",
       "    </tr>\n",
       "    <tr>\n",
       "      <th>76553</th>\n",
       "      <td>401495</td>\n",
       "      <td>No</td>\n",
       "      <td>TANF (HUD)</td>\n",
       "      <td>NaN</td>\n",
       "      <td>6/3/2015</td>\n",
       "      <td>NaN</td>\n",
       "    </tr>\n",
       "    <tr>\n",
       "      <th>76554</th>\n",
       "      <td>401495</td>\n",
       "      <td>No</td>\n",
       "      <td>Unemployment Insurance (HUD)</td>\n",
       "      <td>NaN</td>\n",
       "      <td>6/3/2015</td>\n",
       "      <td>NaN</td>\n",
       "    </tr>\n",
       "    <tr>\n",
       "      <th>76555</th>\n",
       "      <td>401495</td>\n",
       "      <td>No</td>\n",
       "      <td>VA Non-Service Connected Disability Pension (HUD)</td>\n",
       "      <td>NaN</td>\n",
       "      <td>6/3/2015</td>\n",
       "      <td>NaN</td>\n",
       "    </tr>\n",
       "    <tr>\n",
       "      <th>76556</th>\n",
       "      <td>401495</td>\n",
       "      <td>No</td>\n",
       "      <td>VA Service Connected Disability Compensation (...</td>\n",
       "      <td>NaN</td>\n",
       "      <td>6/3/2015</td>\n",
       "      <td>NaN</td>\n",
       "    </tr>\n",
       "    <tr>\n",
       "      <th>76557</th>\n",
       "      <td>401495</td>\n",
       "      <td>No</td>\n",
       "      <td>Worker's Compensation (HUD)</td>\n",
       "      <td>NaN</td>\n",
       "      <td>6/3/2015</td>\n",
       "      <td>NaN</td>\n",
       "    </tr>\n",
       "    <tr>\n",
       "      <th>76558</th>\n",
       "      <td>401495</td>\n",
       "      <td>Yes</td>\n",
       "      <td>Earned Income (HUD)</td>\n",
       "      <td>1500.0</td>\n",
       "      <td>6/3/2015</td>\n",
       "      <td>NaN</td>\n",
       "    </tr>\n",
       "    <tr>\n",
       "      <th>76559</th>\n",
       "      <td>403361</td>\n",
       "      <td>No</td>\n",
       "      <td>Alimony or Other Spousal Support (HUD)</td>\n",
       "      <td>NaN</td>\n",
       "      <td>6/27/2015</td>\n",
       "      <td>NaN</td>\n",
       "    </tr>\n",
       "    <tr>\n",
       "      <th>76560</th>\n",
       "      <td>403361</td>\n",
       "      <td>No</td>\n",
       "      <td>Child Support (HUD)</td>\n",
       "      <td>NaN</td>\n",
       "      <td>6/27/2015</td>\n",
       "      <td>NaN</td>\n",
       "    </tr>\n",
       "    <tr>\n",
       "      <th>76561</th>\n",
       "      <td>403361</td>\n",
       "      <td>No</td>\n",
       "      <td>Earned Income (HUD)</td>\n",
       "      <td>NaN</td>\n",
       "      <td>6/27/2015</td>\n",
       "      <td>NaN</td>\n",
       "    </tr>\n",
       "    <tr>\n",
       "      <th>76562</th>\n",
       "      <td>403361</td>\n",
       "      <td>No</td>\n",
       "      <td>General Assistance (HUD)</td>\n",
       "      <td>NaN</td>\n",
       "      <td>6/27/2015</td>\n",
       "      <td>NaN</td>\n",
       "    </tr>\n",
       "    <tr>\n",
       "      <th>76563</th>\n",
       "      <td>403361</td>\n",
       "      <td>No</td>\n",
       "      <td>Other (HUD)</td>\n",
       "      <td>NaN</td>\n",
       "      <td>6/27/2015</td>\n",
       "      <td>NaN</td>\n",
       "    </tr>\n",
       "    <tr>\n",
       "      <th>76564</th>\n",
       "      <td>403361</td>\n",
       "      <td>No</td>\n",
       "      <td>Pension or retirement income from another job ...</td>\n",
       "      <td>NaN</td>\n",
       "      <td>6/27/2015</td>\n",
       "      <td>NaN</td>\n",
       "    </tr>\n",
       "    <tr>\n",
       "      <th>76565</th>\n",
       "      <td>403361</td>\n",
       "      <td>No</td>\n",
       "      <td>Private Disability Insurance (HUD)</td>\n",
       "      <td>NaN</td>\n",
       "      <td>6/27/2015</td>\n",
       "      <td>NaN</td>\n",
       "    </tr>\n",
       "    <tr>\n",
       "      <th>76566</th>\n",
       "      <td>403361</td>\n",
       "      <td>No</td>\n",
       "      <td>Retirement Income From Social Security (HUD)</td>\n",
       "      <td>NaN</td>\n",
       "      <td>6/27/2015</td>\n",
       "      <td>NaN</td>\n",
       "    </tr>\n",
       "    <tr>\n",
       "      <th>76567</th>\n",
       "      <td>403361</td>\n",
       "      <td>No</td>\n",
       "      <td>SSDI (HUD)</td>\n",
       "      <td>NaN</td>\n",
       "      <td>6/27/2015</td>\n",
       "      <td>NaN</td>\n",
       "    </tr>\n",
       "    <tr>\n",
       "      <th>76568</th>\n",
       "      <td>403361</td>\n",
       "      <td>No</td>\n",
       "      <td>SSI (HUD)</td>\n",
       "      <td>NaN</td>\n",
       "      <td>6/27/2015</td>\n",
       "      <td>NaN</td>\n",
       "    </tr>\n",
       "    <tr>\n",
       "      <th>76569</th>\n",
       "      <td>403361</td>\n",
       "      <td>No</td>\n",
       "      <td>TANF (HUD)</td>\n",
       "      <td>NaN</td>\n",
       "      <td>6/27/2015</td>\n",
       "      <td>NaN</td>\n",
       "    </tr>\n",
       "    <tr>\n",
       "      <th>76570</th>\n",
       "      <td>403361</td>\n",
       "      <td>No</td>\n",
       "      <td>Unemployment Insurance (HUD)</td>\n",
       "      <td>NaN</td>\n",
       "      <td>6/27/2015</td>\n",
       "      <td>NaN</td>\n",
       "    </tr>\n",
       "    <tr>\n",
       "      <th>76571</th>\n",
       "      <td>403361</td>\n",
       "      <td>No</td>\n",
       "      <td>VA Non-Service Connected Disability Pension (HUD)</td>\n",
       "      <td>NaN</td>\n",
       "      <td>6/27/2015</td>\n",
       "      <td>NaN</td>\n",
       "    </tr>\n",
       "    <tr>\n",
       "      <th>76572</th>\n",
       "      <td>403361</td>\n",
       "      <td>No</td>\n",
       "      <td>VA Service Connected Disability Compensation (...</td>\n",
       "      <td>NaN</td>\n",
       "      <td>6/27/2015</td>\n",
       "      <td>NaN</td>\n",
       "    </tr>\n",
       "    <tr>\n",
       "      <th>76573</th>\n",
       "      <td>403361</td>\n",
       "      <td>No</td>\n",
       "      <td>Worker's Compensation (HUD)</td>\n",
       "      <td>NaN</td>\n",
       "      <td>6/27/2015</td>\n",
       "      <td>NaN</td>\n",
       "    </tr>\n",
       "  </tbody>\n",
       "</table>\n",
       "<p>76574 rows × 6 columns</p>\n",
       "</div>"
      ],
      "text/plain": [
       "       ClientID IncomeEntry  \\\n",
       "0        397941          No   \n",
       "1        397941          No   \n",
       "2        397941          No   \n",
       "3        397941          No   \n",
       "4        397941          No   \n",
       "5        397941          No   \n",
       "6        397941          No   \n",
       "7        397941          No   \n",
       "8        397941          No   \n",
       "9        397941          No   \n",
       "10       397941          No   \n",
       "11       397941          No   \n",
       "12       397941          No   \n",
       "13       397941          No   \n",
       "14       397941          No   \n",
       "15       130335          No   \n",
       "16       130335          No   \n",
       "17       130335          No   \n",
       "18       130335          No   \n",
       "19       130335          No   \n",
       "20       130335          No   \n",
       "21       130335          No   \n",
       "22       130335          No   \n",
       "23       130335          No   \n",
       "24       130335          No   \n",
       "25       130335          No   \n",
       "26       130335          No   \n",
       "27       130335          No   \n",
       "28       130335          No   \n",
       "29       130335          No   \n",
       "...         ...         ...   \n",
       "76544    401495          No   \n",
       "76545    401495          No   \n",
       "76546    401495          No   \n",
       "76547    401495          No   \n",
       "76548    401495          No   \n",
       "76549    401495          No   \n",
       "76550    401495          No   \n",
       "76551    401495          No   \n",
       "76552    401495          No   \n",
       "76553    401495          No   \n",
       "76554    401495          No   \n",
       "76555    401495          No   \n",
       "76556    401495          No   \n",
       "76557    401495          No   \n",
       "76558    401495         Yes   \n",
       "76559    403361          No   \n",
       "76560    403361          No   \n",
       "76561    403361          No   \n",
       "76562    403361          No   \n",
       "76563    403361          No   \n",
       "76564    403361          No   \n",
       "76565    403361          No   \n",
       "76566    403361          No   \n",
       "76567    403361          No   \n",
       "76568    403361          No   \n",
       "76569    403361          No   \n",
       "76570    403361          No   \n",
       "76571    403361          No   \n",
       "76572    403361          No   \n",
       "76573    403361          No   \n",
       "\n",
       "                                       IncomeSourceEntry  MonthlyIncomeEntry  \\\n",
       "0                 Alimony or Other Spousal Support (HUD)                 NaN   \n",
       "1                                    Child Support (HUD)                 NaN   \n",
       "2                                    Earned Income (HUD)                 NaN   \n",
       "3                               General Assistance (HUD)                 NaN   \n",
       "4                                            Other (HUD)                 NaN   \n",
       "5      Pension or retirement income from another job ...                 NaN   \n",
       "6                     Private Disability Insurance (HUD)                 NaN   \n",
       "7           Retirement Income From Social Security (HUD)                 NaN   \n",
       "8                                             SSDI (HUD)                 NaN   \n",
       "9                                              SSI (HUD)                 NaN   \n",
       "10                                            TANF (HUD)                 NaN   \n",
       "11                          Unemployment Insurance (HUD)                 NaN   \n",
       "12     VA Non-Service Connected Disability Pension (HUD)                 NaN   \n",
       "13     VA Service Connected Disability Compensation (...                 NaN   \n",
       "14                           Worker's Compensation (HUD)                 NaN   \n",
       "15                Alimony or Other Spousal Support (HUD)                 NaN   \n",
       "16                Alimony or Other Spousal Support (HUD)                 NaN   \n",
       "17                                   Child Support (HUD)                 NaN   \n",
       "18                                   Child Support (HUD)                 NaN   \n",
       "19                                   Earned Income (HUD)                 NaN   \n",
       "20                                   Earned Income (HUD)                 NaN   \n",
       "21                              General Assistance (HUD)                 NaN   \n",
       "22                              General Assistance (HUD)                 NaN   \n",
       "23                                           Other (HUD)                 NaN   \n",
       "24                                           Other (HUD)                 NaN   \n",
       "25     Pension or retirement income from another job ...                 NaN   \n",
       "26     Pension or retirement income from another job ...                 NaN   \n",
       "27                    Private Disability Insurance (HUD)                 NaN   \n",
       "28                    Private Disability Insurance (HUD)                 NaN   \n",
       "29          Retirement Income From Social Security (HUD)                 NaN   \n",
       "...                                                  ...                 ...   \n",
       "76544             Alimony or Other Spousal Support (HUD)                 NaN   \n",
       "76545                                Child Support (HUD)                 NaN   \n",
       "76546                           General Assistance (HUD)                 NaN   \n",
       "76547                                        Other (HUD)                 NaN   \n",
       "76548  Pension or retirement income from another job ...                 NaN   \n",
       "76549                 Private Disability Insurance (HUD)                 NaN   \n",
       "76550       Retirement Income From Social Security (HUD)                 NaN   \n",
       "76551                                         SSDI (HUD)                 NaN   \n",
       "76552                                          SSI (HUD)                 NaN   \n",
       "76553                                         TANF (HUD)                 NaN   \n",
       "76554                       Unemployment Insurance (HUD)                 NaN   \n",
       "76555  VA Non-Service Connected Disability Pension (HUD)                 NaN   \n",
       "76556  VA Service Connected Disability Compensation (...                 NaN   \n",
       "76557                        Worker's Compensation (HUD)                 NaN   \n",
       "76558                                Earned Income (HUD)              1500.0   \n",
       "76559             Alimony or Other Spousal Support (HUD)                 NaN   \n",
       "76560                                Child Support (HUD)                 NaN   \n",
       "76561                                Earned Income (HUD)                 NaN   \n",
       "76562                           General Assistance (HUD)                 NaN   \n",
       "76563                                        Other (HUD)                 NaN   \n",
       "76564  Pension or retirement income from another job ...                 NaN   \n",
       "76565                 Private Disability Insurance (HUD)                 NaN   \n",
       "76566       Retirement Income From Social Security (HUD)                 NaN   \n",
       "76567                                         SSDI (HUD)                 NaN   \n",
       "76568                                          SSI (HUD)                 NaN   \n",
       "76569                                         TANF (HUD)                 NaN   \n",
       "76570                       Unemployment Insurance (HUD)                 NaN   \n",
       "76571  VA Non-Service Connected Disability Pension (HUD)                 NaN   \n",
       "76572  VA Service Connected Disability Compensation (...                 NaN   \n",
       "76573                        Worker's Compensation (HUD)                 NaN   \n",
       "\n",
       "      IncomeStartDateEntry IncomeEndDateEntry  \n",
       "0                4/20/2015                NaN  \n",
       "1                4/20/2015                NaN  \n",
       "2                4/20/2015                NaN  \n",
       "3                4/20/2015                NaN  \n",
       "4                4/20/2015                NaN  \n",
       "5                4/20/2015                NaN  \n",
       "6                4/20/2015                NaN  \n",
       "7                4/20/2015                NaN  \n",
       "8                4/20/2015                NaN  \n",
       "9                4/20/2015                NaN  \n",
       "10               4/20/2015                NaN  \n",
       "11               4/20/2015                NaN  \n",
       "12               4/20/2015                NaN  \n",
       "13               4/20/2015                NaN  \n",
       "14               4/20/2015                NaN  \n",
       "15               6/13/2015                NaN  \n",
       "16               7/10/2015                NaN  \n",
       "17               6/13/2015                NaN  \n",
       "18               7/10/2015                NaN  \n",
       "19               6/13/2015                NaN  \n",
       "20               7/10/2015                NaN  \n",
       "21               6/13/2015                NaN  \n",
       "22               7/10/2015                NaN  \n",
       "23               6/13/2015                NaN  \n",
       "24               7/10/2015                NaN  \n",
       "25               6/13/2015                NaN  \n",
       "26               7/10/2015                NaN  \n",
       "27               6/13/2015                NaN  \n",
       "28               7/10/2015                NaN  \n",
       "29               6/13/2015                NaN  \n",
       "...                    ...                ...  \n",
       "76544             6/3/2015                NaN  \n",
       "76545             6/3/2015                NaN  \n",
       "76546             6/3/2015                NaN  \n",
       "76547             6/3/2015                NaN  \n",
       "76548             6/3/2015                NaN  \n",
       "76549             6/3/2015                NaN  \n",
       "76550             6/3/2015                NaN  \n",
       "76551             6/3/2015                NaN  \n",
       "76552             6/3/2015                NaN  \n",
       "76553             6/3/2015                NaN  \n",
       "76554             6/3/2015                NaN  \n",
       "76555             6/3/2015                NaN  \n",
       "76556             6/3/2015                NaN  \n",
       "76557             6/3/2015                NaN  \n",
       "76558             6/3/2015                NaN  \n",
       "76559            6/27/2015                NaN  \n",
       "76560            6/27/2015                NaN  \n",
       "76561            6/27/2015                NaN  \n",
       "76562            6/27/2015                NaN  \n",
       "76563            6/27/2015                NaN  \n",
       "76564            6/27/2015                NaN  \n",
       "76565            6/27/2015                NaN  \n",
       "76566            6/27/2015                NaN  \n",
       "76567            6/27/2015                NaN  \n",
       "76568            6/27/2015                NaN  \n",
       "76569            6/27/2015                NaN  \n",
       "76570            6/27/2015                NaN  \n",
       "76571            6/27/2015                NaN  \n",
       "76572            6/27/2015                NaN  \n",
       "76573            6/27/2015                NaN  \n",
       "\n",
       "[76574 rows x 6 columns]"
      ]
     },
     "execution_count": 50,
     "metadata": {},
     "output_type": "execute_result"
    }
   ],
   "source": [
    "incomeEntry2"
   ]
  },
  {
   "cell_type": "code",
   "execution_count": 42,
   "metadata": {},
   "outputs": [],
   "source": [
    "incomeExit = pd.read_csv(\"/Users/jieun/github_updated/bios611-projects-fall-2019-jennprk/project_3/data/INCOME_EXIT_191102.tsv\", sep='\\t')"
   ]
  },
  {
   "cell_type": "code",
   "execution_count": 43,
   "metadata": {},
   "outputs": [
    {
     "name": "stdout",
     "output_type": "stream",
     "text": [
      "EE Provider ID\n",
      "EE UID\n",
      "Client Unique ID\n",
      "Client ID\n",
      "ReceivingIncome (Exit)\n",
      "Source of Income (Exit)\n",
      "Monthly Amount (Exit)\n",
      "Income Start Date (Exit)\n",
      "Income End Date (Exit)\n",
      "Recordset ID (140-recordset_id)\n",
      "Provider (140-provider)\n",
      "Date Added (140-date_added)\n"
     ]
    }
   ],
   "source": [
    "# Check the original column names and change to neater version\n",
    "for col in incomeExit.columns: \n",
    "    print(col) \n",
    "    \n",
    "incomeExit.columns = ['provider','EUID','CUID', 'ClientID','IncomeExit','IncomeSourceExit','MonthlyIncomeExit','IncomeStartDateExit','IncomeEndDateExit','recordsetID','ProviderID','dateadded']"
   ]
  },
  {
   "cell_type": "code",
   "execution_count": 44,
   "metadata": {},
   "outputs": [],
   "source": [
    "# Filter the variables of interest\n",
    "incomeExit2 = incomeExit[['ClientID','IncomeExit','IncomeSourceExit','MonthlyIncomeExit','IncomeStartDateExit', 'IncomeEndDateExit']]"
   ]
  },
  {
   "cell_type": "markdown",
   "metadata": {},
   "source": [
    "# Health Insurance Data"
   ]
  },
  {
   "cell_type": "code",
   "execution_count": 45,
   "metadata": {},
   "outputs": [],
   "source": [
    "# Health Insurnace Entry data\n",
    "HIEntry = pd.read_csv(\"/Users/jieun/github_updated/bios611-projects-fall-2019-jennprk/project_3/data/HEALTH_INS_ENTRY_191102.tsv\", sep='\\t')"
   ]
  },
  {
   "cell_type": "code",
   "execution_count": 46,
   "metadata": {},
   "outputs": [
    {
     "name": "stdout",
     "output_type": "stream",
     "text": [
      "EE Provider ID\n",
      "EE UID\n",
      "Client Unique ID\n",
      "Client ID\n",
      "Covered (Entry)\n",
      "Health Insurance Type (Entry)\n",
      "Health Insurance Start Date (Entry)\n",
      "Health Insurance End Date (Entry)\n",
      "Provider (4307-provider)\n",
      "Recordset ID (4307-recordset_id)\n",
      "Date Added (4307-date_added)\n"
     ]
    }
   ],
   "source": [
    "# Check the original column names and change to neater version\n",
    "for col in HIEntry.columns: \n",
    "    print(col) \n",
    "    \n",
    "HIEntry.columns = ['provider','EUID','CUID', 'ClientID','HIcoveredEntry','HItypeEntry','HIstartDateEntry','HIendDateEntry','provider', 'recordsetid', 'dateadded']"
   ]
  },
  {
   "cell_type": "code",
   "execution_count": 47,
   "metadata": {},
   "outputs": [],
   "source": [
    "# Filter the variables of interest\n",
    "HIEntry2 = HIEntry[['ClientID','HIcoveredEntry','HItypeEntry','HIstartDateEntry','HIendDateEntry']]"
   ]
  },
  {
   "cell_type": "code",
   "execution_count": 32,
   "metadata": {},
   "outputs": [],
   "source": [
    "#Health Insurance Exit data\n",
    "HIExit = pd.read_csv(\"/Users/jieun/github_updated/bios611-projects-fall-2019-jennprk/project_3/data/HEALTH_INS_EXIT_191102.tsv\", sep='\\t')"
   ]
  },
  {
   "cell_type": "code",
   "execution_count": 33,
   "metadata": {},
   "outputs": [
    {
     "name": "stdout",
     "output_type": "stream",
     "text": [
      "EE Provider ID\n",
      "EE UID\n",
      "Client Unique ID\n",
      "Client ID\n",
      "Covered (Exit)\n",
      "Health Insurance Type (Exit)\n",
      "Health Insurance Start Date (Exit)\n",
      "Health Insurance End Date (Exit)\n",
      "Recordset ID (4307-recordset_id)\n",
      "Provider (4307-provider)\n",
      "Date Added (4307-date_added)\n"
     ]
    }
   ],
   "source": [
    "# Check the original column names and change to neater version\n",
    "for col in HIExit.columns: \n",
    "    print(col) \n",
    "    \n",
    "HIExit.columns = ['provider','EUID','CUID', 'ClientID','HIcoveredExit','HItypeExit','HIstartDateExit','HIendDateExit', 'recordsetid', 'provider','dateadded']"
   ]
  },
  {
   "cell_type": "code",
   "execution_count": 34,
   "metadata": {},
   "outputs": [],
   "source": [
    "# Filter the variables of interest\n",
    "HIExit2 = HIExit[['ClientID','HIcoveredExit','HItypeExit','HIstartDateExit','HIendDateExit']]"
   ]
  },
  {
   "cell_type": "markdown",
   "metadata": {},
   "source": [
    "# Disability Data"
   ]
  },
  {
   "cell_type": "code",
   "execution_count": 35,
   "metadata": {},
   "outputs": [],
   "source": [
    "# Disability Entry data\n",
    "DisEntry = pd.read_csv(\"/Users/jieun/github_updated/bios611-projects-fall-2019-jennprk/project_3/data/DISABILITY_ENTRY_191102.tsv\", sep='\\t')"
   ]
  },
  {
   "cell_type": "code",
   "execution_count": 36,
   "metadata": {},
   "outputs": [
    {
     "name": "stdout",
     "output_type": "stream",
     "text": [
      "EE Provider ID\n",
      "EE UID\n",
      "Client Unique ID\n",
      "Client ID\n",
      "Disability Determination (Entry)\n",
      "Disability Type (Entry)\n",
      "Disability Start Date (Entry)\n",
      "Disability End Date (Entry)\n",
      "Provider (417-provider)\n",
      "Recordset ID (417-recordset_id)\n",
      "Date Added (417-date_added)\n"
     ]
    }
   ],
   "source": [
    "# Check the original column names and change to neater version\n",
    "for col in DisEntry.columns: \n",
    "    print(col) \n",
    "    \n",
    "DisEntry.columns = ['provider','EUID','CUID', 'ClientID','DisabilityEntry', 'DisabilityTypeEntry', 'DisabilityStartDateEntry','DisabilityEndDateEntry', 'provider','recordsetid','dateadded']"
   ]
  },
  {
   "cell_type": "code",
   "execution_count": 37,
   "metadata": {},
   "outputs": [],
   "source": [
    "DisEntry2 = DisEntry[['ClientID','DisabilityEntry','DisabilityStartDateEntry','DisabilityEndDateEntry']]"
   ]
  },
  {
   "cell_type": "code",
   "execution_count": 38,
   "metadata": {},
   "outputs": [],
   "source": [
    "# Disability Entry data\n",
    "DisExit = pd.read_csv(\"/Users/jieun/github_updated/bios611-projects-fall-2019-jennprk/project_3/data/DISABILITY_EXIT_191102.tsv\", sep='\\t')"
   ]
  },
  {
   "cell_type": "code",
   "execution_count": 39,
   "metadata": {},
   "outputs": [
    {
     "name": "stdout",
     "output_type": "stream",
     "text": [
      "EE Provider ID\n",
      "EE UID\n",
      "Client Unique ID\n",
      "Client ID\n",
      "Disability Determination (Exit)\n",
      "Disability Type (Exit)\n",
      "Disability Start Date (Exit)\n",
      "Disability End Date (Exit)\n",
      "Provider (417-provider)\n",
      "Recordset ID (417-recordset_id)\n",
      "Date Added (417-date_added)\n"
     ]
    }
   ],
   "source": [
    "# Check the original column names and change to neater version\n",
    "for col in DisExit.columns: \n",
    "    print(col) \n",
    "    \n",
    "DisExit.columns = ['provider','EUID','CUID', 'ClientID','DisabilityExit', 'DisabilityTypeExit', 'DisabilityStartDateExit','DisabilityEndDateExit', 'provider','recordsetid','dateadded']"
   ]
  },
  {
   "cell_type": "code",
   "execution_count": 40,
   "metadata": {},
   "outputs": [],
   "source": [
    "DisExit2 = DisExit[['ClientID','DisabilityExit','DisabilityStartDateExit','DisabilityEndDateExit']]"
   ]
  },
  {
   "cell_type": "markdown",
   "metadata": {},
   "source": [
    "# Merge Datasets"
   ]
  },
  {
   "cell_type": "code",
   "execution_count": 41,
   "metadata": {},
   "outputs": [],
   "source": [
    "final_dat = client2.merge(incomeEntry2, on=['ClientID'], how='left')"
   ]
  },
  {
   "cell_type": "code",
   "execution_count": 42,
   "metadata": {},
   "outputs": [],
   "source": [
    "final_dat = final_dat.merge(incomeExit2, on=['ClientID'], how='left')"
   ]
  },
  {
   "cell_type": "code",
   "execution_count": null,
   "metadata": {},
   "outputs": [],
   "source": [
    "final_dat = final_dat.merge(HIEntry2, on=['ClientID'], how='left')\n"
   ]
  },
  {
   "cell_type": "code",
   "execution_count": null,
   "metadata": {},
   "outputs": [],
   "source": [
    "final_dat = final_dat.merge(HIExit2, on=['ClientID'], how='left')\n"
   ]
  },
  {
   "cell_type": "code",
   "execution_count": null,
   "metadata": {},
   "outputs": [],
   "source": [
    "final_dat = final_dat.merge(DisEntry2, on=['ClientID'], how='left')\n"
   ]
  },
  {
   "cell_type": "code",
   "execution_count": null,
   "metadata": {},
   "outputs": [],
   "source": [
    "final_dat = final_dat.merge(DisExit2, on=['ClientID'], how='left')\n",
    "df.to_csv(out_file_name)"
   ]
  }
 ],
 "metadata": {
  "kernelspec": {
   "display_name": "Python 3",
   "language": "python",
   "name": "python3"
  },
  "language_info": {
   "codemirror_mode": {
    "name": "ipython",
    "version": 3
   },
   "file_extension": ".py",
   "mimetype": "text/x-python",
   "name": "python",
   "nbconvert_exporter": "python",
   "pygments_lexer": "ipython3",
   "version": "3.6.4"
  }
 },
 "nbformat": 4,
 "nbformat_minor": 2
}
