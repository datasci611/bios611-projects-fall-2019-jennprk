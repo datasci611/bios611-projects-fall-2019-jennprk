{
 "cells": [
  {
   "cell_type": "code",
   "execution_count": 310,
   "metadata": {},
   "outputs": [],
   "source": [
    "# Import packages \n",
    "import numpy as np\n",
    "import pandas as pd\n",
    "import sys\n",
    "import math"
   ]
  },
  {
   "cell_type": "markdown",
   "metadata": {},
   "source": [
    "# Demographics of Clients at UMD"
   ]
  },
  {
   "cell_type": "code",
   "execution_count": 311,
   "metadata": {},
   "outputs": [
    {
     "data": {
      "text/html": [
       "<div>\n",
       "<style scoped>\n",
       "    .dataframe tbody tr th:only-of-type {\n",
       "        vertical-align: middle;\n",
       "    }\n",
       "\n",
       "    .dataframe tbody tr th {\n",
       "        vertical-align: top;\n",
       "    }\n",
       "\n",
       "    .dataframe thead th {\n",
       "        text-align: right;\n",
       "    }\n",
       "</style>\n",
       "<table border=\"1\" class=\"dataframe\">\n",
       "  <thead>\n",
       "    <tr style=\"text-align: right;\">\n",
       "      <th></th>\n",
       "      <th>EE Provider ID</th>\n",
       "      <th>EE UID</th>\n",
       "      <th>Client Unique ID</th>\n",
       "      <th>Client ID</th>\n",
       "      <th>Client Age at Entry</th>\n",
       "      <th>Client Age at Exit</th>\n",
       "      <th>Client Gender</th>\n",
       "      <th>Client Primary Race</th>\n",
       "      <th>Client Ethnicity</th>\n",
       "      <th>Client Veteran Status</th>\n",
       "    </tr>\n",
       "  </thead>\n",
       "  <tbody>\n",
       "    <tr>\n",
       "      <th>0</th>\n",
       "      <td>Urban Ministries of Durham - Durham County - S...</td>\n",
       "      <td>687901</td>\n",
       "      <td>pbkf09291954p610b236</td>\n",
       "      <td>397941</td>\n",
       "      <td>60.0</td>\n",
       "      <td>61.0</td>\n",
       "      <td>Female</td>\n",
       "      <td>White (HUD)</td>\n",
       "      <td>Non-Hispanic/Non-Latino (HUD)</td>\n",
       "      <td>No (HUD)</td>\n",
       "    </tr>\n",
       "    <tr>\n",
       "      <th>1</th>\n",
       "      <td>Urban Ministries of Durham - Durham County - S...</td>\n",
       "      <td>687902</td>\n",
       "      <td>kdaf01071967k400d635</td>\n",
       "      <td>130335</td>\n",
       "      <td>48.0</td>\n",
       "      <td>48.0</td>\n",
       "      <td>Female</td>\n",
       "      <td>Black or African American (HUD)</td>\n",
       "      <td>Non-Hispanic/Non-Latino (HUD)</td>\n",
       "      <td>No (HUD)</td>\n",
       "    </tr>\n",
       "    <tr>\n",
       "      <th>2</th>\n",
       "      <td>Urban Ministries of Durham - Durham County - S...</td>\n",
       "      <td>687903</td>\n",
       "      <td>smrf06211973s620m640</td>\n",
       "      <td>188933</td>\n",
       "      <td>42.0</td>\n",
       "      <td>42.0</td>\n",
       "      <td>Female</td>\n",
       "      <td>Black or African American (HUD)</td>\n",
       "      <td>Non-Hispanic/Non-Latino (HUD)</td>\n",
       "      <td>No (HUD)</td>\n",
       "    </tr>\n",
       "    <tr>\n",
       "      <th>3</th>\n",
       "      <td>Urban Ministries of Durham - Durham County - S...</td>\n",
       "      <td>687904</td>\n",
       "      <td>abrm07251958a416b600</td>\n",
       "      <td>168290</td>\n",
       "      <td>57.0</td>\n",
       "      <td>57.0</td>\n",
       "      <td>Male</td>\n",
       "      <td>White (HUD)</td>\n",
       "      <td>Hispanic/Latino (HUD)</td>\n",
       "      <td>No (HUD)</td>\n",
       "    </tr>\n",
       "    <tr>\n",
       "      <th>4</th>\n",
       "      <td>Urban Ministries of Durham - Durham County - S...</td>\n",
       "      <td>687905</td>\n",
       "      <td>wbom01251964w450b620</td>\n",
       "      <td>123122</td>\n",
       "      <td>51.0</td>\n",
       "      <td>51.0</td>\n",
       "      <td>Male</td>\n",
       "      <td>White (HUD)</td>\n",
       "      <td>Non-Hispanic/Non-Latino (HUD)</td>\n",
       "      <td>No (HUD)</td>\n",
       "    </tr>\n",
       "  </tbody>\n",
       "</table>\n",
       "</div>"
      ],
      "text/plain": [
       "                                      EE Provider ID  EE UID  \\\n",
       "0  Urban Ministries of Durham - Durham County - S...  687901   \n",
       "1  Urban Ministries of Durham - Durham County - S...  687902   \n",
       "2  Urban Ministries of Durham - Durham County - S...  687903   \n",
       "3  Urban Ministries of Durham - Durham County - S...  687904   \n",
       "4  Urban Ministries of Durham - Durham County - S...  687905   \n",
       "\n",
       "       Client Unique ID  Client ID  Client Age at Entry  Client Age at Exit  \\\n",
       "0  pbkf09291954p610b236     397941                 60.0                61.0   \n",
       "1  kdaf01071967k400d635     130335                 48.0                48.0   \n",
       "2  smrf06211973s620m640     188933                 42.0                42.0   \n",
       "3  abrm07251958a416b600     168290                 57.0                57.0   \n",
       "4  wbom01251964w450b620     123122                 51.0                51.0   \n",
       "\n",
       "  Client Gender              Client Primary Race  \\\n",
       "0        Female                      White (HUD)   \n",
       "1        Female  Black or African American (HUD)   \n",
       "2        Female  Black or African American (HUD)   \n",
       "3          Male                      White (HUD)   \n",
       "4          Male                      White (HUD)   \n",
       "\n",
       "                Client Ethnicity Client Veteran Status  \n",
       "0  Non-Hispanic/Non-Latino (HUD)              No (HUD)  \n",
       "1  Non-Hispanic/Non-Latino (HUD)              No (HUD)  \n",
       "2  Non-Hispanic/Non-Latino (HUD)              No (HUD)  \n",
       "3          Hispanic/Latino (HUD)              No (HUD)  \n",
       "4  Non-Hispanic/Non-Latino (HUD)              No (HUD)  "
      ]
     },
     "execution_count": 311,
     "metadata": {},
     "output_type": "execute_result"
    }
   ],
   "source": [
    "client = pd.read_csv(\"/Users/jieun/github_updated/bios611-projects-fall-2019-jennprk/project_3/data/CLIENT_191102.tsv\", sep=\"\\t\")\n",
    "client.head()"
   ]
  },
  {
   "cell_type": "code",
   "execution_count": 312,
   "metadata": {},
   "outputs": [
    {
     "name": "stdout",
     "output_type": "stream",
     "text": [
      "EE Provider ID\n",
      "EE UID\n",
      "Client Unique ID\n",
      "Client ID\n",
      "Client Age at Entry\n",
      "Client Age at Exit\n",
      "Client Gender\n",
      "Client Primary Race\n",
      "Client Ethnicity\n",
      "Client Veteran Status\n"
     ]
    }
   ],
   "source": [
    "# Check the original column names and change to neater version\n",
    "for col in client.columns: \n",
    "    print(col) \n",
    "    \n",
    "client.columns = ['provider','EUID','CUID', 'ClientID','AgeEntry','AgeExit','Gender','Race','Ethnicity','Veteran']"
   ]
  },
  {
   "cell_type": "code",
   "execution_count": 313,
   "metadata": {},
   "outputs": [],
   "source": [
    "# Filter the variables of interest\n",
    "client2 = client[['ClientID','AgeEntry','AgeExit','Gender','Race','Ethnicity','Veteran']]"
   ]
  },
  {
   "cell_type": "code",
   "execution_count": 314,
   "metadata": {},
   "outputs": [
    {
     "name": "stdout",
     "output_type": "stream",
     "text": [
      "   ClientID  AgeEntry  AgeExit  Gender  Race  Ethnicity  Veteran\n",
      "0         0         3        3       3     3          3       10\n"
     ]
    }
   ],
   "source": [
    "# Checking Missingness\n",
    "## Generate the number of missing values in the demographic variables\n",
    "nullvals =  [\"\" for x in range(len(client2.columns))]\n",
    "nullvals = pd.DataFrame(nullvals).T\n",
    "nullvals.columns = client2.columns\n",
    "\n",
    "for col in client2.columns:\n",
    "    nullval = client2[col].isnull()\n",
    "    nullvals[col] = sum(nullval)\n",
    "    \n",
    "print(nullvals)"
   ]
  },
  {
   "cell_type": "code",
   "execution_count": 315,
   "metadata": {},
   "outputs": [],
   "source": [
    "client2 = client2.dropna()"
   ]
  },
  {
   "cell_type": "code",
   "execution_count": 316,
   "metadata": {},
   "outputs": [],
   "source": [
    "# function for unique values\n",
    "def unique(list1): \n",
    "      \n",
    "    # insert the list to the set \n",
    "    list_set = set(list1) \n",
    "    # convert the set to the list \n",
    "    unique_list = (list(list_set)) \n",
    "    for x in unique_list: \n",
    "        print(x)"
   ]
  },
  {
   "cell_type": "code",
   "execution_count": 317,
   "metadata": {},
   "outputs": [
    {
     "name": "stdout",
     "output_type": "stream",
     "text": [
      "Trans Female (MTF or Male to Female)\n",
      "Female\n",
      "Male\n",
      "\n",
      "Client doesn't know (HUD)\n",
      "Client refused (HUD)\n",
      "White (HUD)\n",
      "Native Hawaiian or Other Pacific Islander (HUD)\n",
      "American Indian or Alaska Native (HUD)\n",
      "Data not collected (HUD)\n",
      "Asian (HUD)\n",
      "Black or African American (HUD)\n",
      "\n",
      "Client doesn't know (HUD)\n",
      "Client refused (HUD)\n",
      "Non-Hispanic/Non-Latino (HUD)\n",
      "Data not collected (HUD)\n",
      "Hispanic/Latino (HUD)\n",
      "\n",
      "No (HUD)\n",
      "Data not collected (HUD)\n",
      "Yes (HUD)\n"
     ]
    }
   ],
   "source": [
    "# unique values of categorical variables\n",
    "cat = ['Gender', 'Race', 'Ethnicity', 'Veteran']\n",
    "\n",
    "unique(client2[cat[0]])\n",
    "print()\n",
    "unique(client2[cat[1]])\n",
    "print()\n",
    "unique(client2[cat[2]])\n",
    "print()\n",
    "unique(client2[cat[3]])\n",
    "\n",
    "#for col in cat:\n",
    "#    ls = list(unique(client2[col]))\n",
    "#    unqlist.append(ls)"
   ]
  },
  {
   "cell_type": "markdown",
   "metadata": {},
   "source": [
    "### 1. Age Demographics (Entry)"
   ]
  },
  {
   "cell_type": "code",
   "execution_count": 318,
   "metadata": {},
   "outputs": [
    {
     "data": {
      "text/plain": [
       "44.2"
      ]
     },
     "execution_count": 318,
     "metadata": {},
     "output_type": "execute_result"
    }
   ],
   "source": [
    "round(client2.AgeEntry.mean(),1) # average entry age"
   ]
  },
  {
   "cell_type": "code",
   "execution_count": 319,
   "metadata": {},
   "outputs": [
    {
     "data": {
      "text/plain": [
       "18.0"
      ]
     },
     "execution_count": 319,
     "metadata": {},
     "output_type": "execute_result"
    }
   ],
   "source": [
    "client2.AgeEntry.min() # minimum entry age"
   ]
  },
  {
   "cell_type": "code",
   "execution_count": 320,
   "metadata": {},
   "outputs": [
    {
     "data": {
      "text/plain": [
       "46.0"
      ]
     },
     "execution_count": 320,
     "metadata": {},
     "output_type": "execute_result"
    }
   ],
   "source": [
    "client2.AgeEntry.median() # median entry age"
   ]
  },
  {
   "cell_type": "code",
   "execution_count": 321,
   "metadata": {},
   "outputs": [
    {
     "data": {
      "text/plain": [
       "81.0"
      ]
     },
     "execution_count": 321,
     "metadata": {},
     "output_type": "execute_result"
    }
   ],
   "source": [
    "client2.AgeEntry.max() # maximum entry age"
   ]
  },
  {
   "cell_type": "code",
   "execution_count": 322,
   "metadata": {},
   "outputs": [
    {
     "data": {
      "text/plain": [
       "12.8"
      ]
     },
     "execution_count": 322,
     "metadata": {},
     "output_type": "execute_result"
    }
   ],
   "source": [
    "round(client2.AgeEntry.std(),1) # standard deviation of entry age"
   ]
  },
  {
   "cell_type": "markdown",
   "metadata": {},
   "source": [
    "### 2. Age Demographics (Exit)"
   ]
  },
  {
   "cell_type": "code",
   "execution_count": 323,
   "metadata": {},
   "outputs": [
    {
     "data": {
      "text/plain": [
       "44.4"
      ]
     },
     "execution_count": 323,
     "metadata": {},
     "output_type": "execute_result"
    }
   ],
   "source": [
    "round(client2.AgeExit.mean(),1) # average entry age"
   ]
  },
  {
   "cell_type": "code",
   "execution_count": 324,
   "metadata": {},
   "outputs": [
    {
     "data": {
      "text/plain": [
       "18.0"
      ]
     },
     "execution_count": 324,
     "metadata": {},
     "output_type": "execute_result"
    }
   ],
   "source": [
    "client2.AgeExit.min() # minimum exit age"
   ]
  },
  {
   "cell_type": "code",
   "execution_count": 325,
   "metadata": {},
   "outputs": [
    {
     "data": {
      "text/plain": [
       "81.0"
      ]
     },
     "execution_count": 325,
     "metadata": {},
     "output_type": "execute_result"
    }
   ],
   "source": [
    "client2.AgeExit.max() # minimum exit age"
   ]
  },
  {
   "cell_type": "code",
   "execution_count": 326,
   "metadata": {},
   "outputs": [
    {
     "data": {
      "text/plain": [
       "12.8"
      ]
     },
     "execution_count": 326,
     "metadata": {},
     "output_type": "execute_result"
    }
   ],
   "source": [
    "round(client2.AgeExit.std(),1) # standard deviation of exit age"
   ]
  },
  {
   "cell_type": "markdown",
   "metadata": {},
   "source": [
    "### 3. Gender Demographics"
   ]
  },
  {
   "cell_type": "code",
   "execution_count": 327,
   "metadata": {},
   "outputs": [
    {
     "data": {
      "text/plain": [
       "Male                                    3981\n",
       "Female                                  1288\n",
       "Trans Female (MTF or Male to Female)      17\n",
       "Name: Gender, dtype: int64"
      ]
     },
     "execution_count": 327,
     "metadata": {},
     "output_type": "execute_result"
    }
   ],
   "source": [
    "client2['Gender'].value_counts()"
   ]
  },
  {
   "cell_type": "markdown",
   "metadata": {},
   "source": [
    "### 4. Race Demographics"
   ]
  },
  {
   "cell_type": "code",
   "execution_count": 328,
   "metadata": {
    "scrolled": true
   },
   "outputs": [
    {
     "data": {
      "text/plain": [
       "Black or African American (HUD)                    3856\n",
       "White (HUD)                                        1311\n",
       "American Indian or Alaska Native (HUD)               90\n",
       "Native Hawaiian or Other Pacific Islander (HUD)      11\n",
       "Data not collected (HUD)                              6\n",
       "Client refused (HUD)                                  5\n",
       "Client doesn't know (HUD)                             4\n",
       "Asian (HUD)                                           3\n",
       "Name: Race, dtype: int64"
      ]
     },
     "execution_count": 328,
     "metadata": {},
     "output_type": "execute_result"
    }
   ],
   "source": [
    "client2['Race'].value_counts()"
   ]
  },
  {
   "cell_type": "markdown",
   "metadata": {},
   "source": [
    "### 5. Ethnicity Demographics"
   ]
  },
  {
   "cell_type": "code",
   "execution_count": 329,
   "metadata": {},
   "outputs": [
    {
     "data": {
      "text/plain": [
       "Non-Hispanic/Non-Latino (HUD)    5065\n",
       "Hispanic/Latino (HUD)             191\n",
       "Data not collected (HUD)           13\n",
       "Client doesn't know (HUD)           9\n",
       "Client refused (HUD)                8\n",
       "Name: Ethnicity, dtype: int64"
      ]
     },
     "execution_count": 329,
     "metadata": {},
     "output_type": "execute_result"
    }
   ],
   "source": [
    "client2['Ethnicity'].value_counts()"
   ]
  },
  {
   "cell_type": "markdown",
   "metadata": {},
   "source": [
    "### 6. Veteran Demographics"
   ]
  },
  {
   "cell_type": "code",
   "execution_count": 330,
   "metadata": {},
   "outputs": [
    {
     "data": {
      "text/plain": [
       "No (HUD)                    4721\n",
       "Yes (HUD)                    558\n",
       "Data not collected (HUD)       7\n",
       "Name: Veteran, dtype: int64"
      ]
     },
     "execution_count": 330,
     "metadata": {},
     "output_type": "execute_result"
    }
   ],
   "source": [
    "client2[\"Veteran\"].value_counts()"
   ]
  },
  {
   "cell_type": "code",
   "execution_count": 331,
   "metadata": {},
   "outputs": [],
   "source": [
    "for col in ['Race','Ethnicity',\"Veteran\"]:\n",
    "    client2[col] = client2[col].apply(lambda x: x.replace(\" (HUD)\",\"\"))"
   ]
  },
  {
   "cell_type": "markdown",
   "metadata": {},
   "source": [
    "# Income Dataset"
   ]
  },
  {
   "cell_type": "code",
   "execution_count": 332,
   "metadata": {},
   "outputs": [],
   "source": [
    "incomeEntry = pd.read_csv(\"/Users/jieun/github_updated/bios611-projects-fall-2019-jennprk/project_3/data/INCOME_ENTRY_191102.tsv\", sep='\\t')"
   ]
  },
  {
   "cell_type": "code",
   "execution_count": 333,
   "metadata": {
    "scrolled": true
   },
   "outputs": [
    {
     "name": "stdout",
     "output_type": "stream",
     "text": [
      "EE Provider ID\n",
      "EE UID\n",
      "Client Unique ID\n",
      "Client ID\n",
      "Receiving Income (Entry)\n",
      "Income Source (Entry)\n",
      "Monthly Amount (Entry)\n",
      "Income Start Date (Entry)\n",
      "Income End Date (Entry)\n",
      "Recordset ID (140-recordset_id)\n",
      "Provider (140-provider)\n",
      "Date Added (140-date_added)\n"
     ]
    }
   ],
   "source": [
    "# Check the original column names and change to neater version\n",
    "for col in incomeEntry.columns: \n",
    "    print(col) \n",
    "    \n",
    "incomeEntry.columns = ['provider','EUID','CUID', 'ClientID','IncomeEntry','IncomeSourceEntry','MonthlyIncomeEntry','IncomeStartDateEntry','IncomeEndDateEntry','recordsetID','ProviderID','dateadded']"
   ]
  },
  {
   "cell_type": "code",
   "execution_count": 334,
   "metadata": {},
   "outputs": [
    {
     "data": {
      "text/html": [
       "<div>\n",
       "<style scoped>\n",
       "    .dataframe tbody tr th:only-of-type {\n",
       "        vertical-align: middle;\n",
       "    }\n",
       "\n",
       "    .dataframe tbody tr th {\n",
       "        vertical-align: top;\n",
       "    }\n",
       "\n",
       "    .dataframe thead th {\n",
       "        text-align: right;\n",
       "    }\n",
       "</style>\n",
       "<table border=\"1\" class=\"dataframe\">\n",
       "  <thead>\n",
       "    <tr style=\"text-align: right;\">\n",
       "      <th></th>\n",
       "      <th>ClientID</th>\n",
       "      <th>IncomeEntry</th>\n",
       "      <th>IncomeSourceEntry</th>\n",
       "      <th>MonthlyIncomeEntry</th>\n",
       "      <th>IncomeStartDateEntry</th>\n",
       "      <th>IncomeEndDateEntry</th>\n",
       "    </tr>\n",
       "  </thead>\n",
       "  <tbody>\n",
       "    <tr>\n",
       "      <th>0</th>\n",
       "      <td>397941</td>\n",
       "      <td>No</td>\n",
       "      <td>Alimony or Other Spousal Support (HUD)</td>\n",
       "      <td>NaN</td>\n",
       "      <td>4/20/2015</td>\n",
       "      <td>NaN</td>\n",
       "    </tr>\n",
       "    <tr>\n",
       "      <th>1</th>\n",
       "      <td>397941</td>\n",
       "      <td>No</td>\n",
       "      <td>Child Support (HUD)</td>\n",
       "      <td>NaN</td>\n",
       "      <td>4/20/2015</td>\n",
       "      <td>NaN</td>\n",
       "    </tr>\n",
       "    <tr>\n",
       "      <th>2</th>\n",
       "      <td>397941</td>\n",
       "      <td>No</td>\n",
       "      <td>Earned Income (HUD)</td>\n",
       "      <td>NaN</td>\n",
       "      <td>4/20/2015</td>\n",
       "      <td>NaN</td>\n",
       "    </tr>\n",
       "    <tr>\n",
       "      <th>3</th>\n",
       "      <td>397941</td>\n",
       "      <td>No</td>\n",
       "      <td>General Assistance (HUD)</td>\n",
       "      <td>NaN</td>\n",
       "      <td>4/20/2015</td>\n",
       "      <td>NaN</td>\n",
       "    </tr>\n",
       "    <tr>\n",
       "      <th>4</th>\n",
       "      <td>397941</td>\n",
       "      <td>No</td>\n",
       "      <td>Other (HUD)</td>\n",
       "      <td>NaN</td>\n",
       "      <td>4/20/2015</td>\n",
       "      <td>NaN</td>\n",
       "    </tr>\n",
       "  </tbody>\n",
       "</table>\n",
       "</div>"
      ],
      "text/plain": [
       "   ClientID IncomeEntry                       IncomeSourceEntry  \\\n",
       "0    397941          No  Alimony or Other Spousal Support (HUD)   \n",
       "1    397941          No                     Child Support (HUD)   \n",
       "2    397941          No                     Earned Income (HUD)   \n",
       "3    397941          No                General Assistance (HUD)   \n",
       "4    397941          No                             Other (HUD)   \n",
       "\n",
       "   MonthlyIncomeEntry IncomeStartDateEntry IncomeEndDateEntry  \n",
       "0                 NaN            4/20/2015                NaN  \n",
       "1                 NaN            4/20/2015                NaN  \n",
       "2                 NaN            4/20/2015                NaN  \n",
       "3                 NaN            4/20/2015                NaN  \n",
       "4                 NaN            4/20/2015                NaN  "
      ]
     },
     "execution_count": 334,
     "metadata": {},
     "output_type": "execute_result"
    }
   ],
   "source": [
    "# Filter the variables of interest\n",
    "incomeEntry2 = incomeEntry[['ClientID','IncomeEntry','IncomeSourceEntry','MonthlyIncomeEntry','IncomeStartDateEntry', 'IncomeEndDateEntry']]\n",
    "incomeEntry2.head()"
   ]
  },
  {
   "cell_type": "code",
   "execution_count": 335,
   "metadata": {},
   "outputs": [],
   "source": [
    "# Filter out the rows with incomes\n",
    "temp = pd.DataFrame(columns=incomeEntry2.columns)\n",
    "clientID = set(incomeEntry2.ClientID)\n",
    "clientID = [*clientID, ] \n",
    "\n",
    "for id in clientID:\n",
    "    subdat = incomeEntry2[incomeEntry2.ClientID==id]\n",
    "    subdat = pd.DataFrame(subdat)\n",
    "    select_indices = list(np.where(subdat[\"IncomeEntry\"] == \"Yes\")[0])\n",
    "    if len(select_indices)>0:\n",
    "        temp = temp.append(subdat.iloc[select_indices])\n",
    "        \n",
    "temp = temp.reset_index()\n",
    "incomeEntry2 = temp"
   ]
  },
  {
   "cell_type": "code",
   "execution_count": 336,
   "metadata": {},
   "outputs": [],
   "source": [
    "incomeEntry2_noindex = incomeEntry2[incomeEntry2.columns.difference(['index'])]\n",
    "incomeEntry2_unq = incomeEntry2_noindex.drop_duplicates()\n",
    "incomeEntry2 = incomeEntry2_unq"
   ]
  },
  {
   "cell_type": "code",
   "execution_count": 337,
   "metadata": {},
   "outputs": [],
   "source": [
    "# Income Exit\n",
    "incomeExit = pd.read_csv(\"/Users/jieun/github_updated/bios611-projects-fall-2019-jennprk/project_3/data/INCOME_EXIT_191102.tsv\", sep='\\t')"
   ]
  },
  {
   "cell_type": "code",
   "execution_count": 338,
   "metadata": {},
   "outputs": [
    {
     "name": "stdout",
     "output_type": "stream",
     "text": [
      "EE Provider ID\n",
      "EE UID\n",
      "Client Unique ID\n",
      "Client ID\n",
      "ReceivingIncome (Exit)\n",
      "Source of Income (Exit)\n",
      "Monthly Amount (Exit)\n",
      "Income Start Date (Exit)\n",
      "Income End Date (Exit)\n",
      "Recordset ID (140-recordset_id)\n",
      "Provider (140-provider)\n",
      "Date Added (140-date_added)\n"
     ]
    }
   ],
   "source": [
    "# Check the original column names and change to neater version\n",
    "for col in incomeExit.columns: \n",
    "    print(col) \n",
    "    \n",
    "incomeExit.columns = ['provider','EUID','CUID', 'ClientID','IncomeExit','IncomeSourceExit','MonthlyIncomeExit','IncomeStartDateExit','IncomeEndDateExit','recordsetID','ProviderID','dateadded']"
   ]
  },
  {
   "cell_type": "code",
   "execution_count": 339,
   "metadata": {},
   "outputs": [],
   "source": [
    "# Filter the variables of interest\n",
    "incomeExit2 = incomeExit[['ClientID','IncomeExit','IncomeSourceExit','MonthlyIncomeExit','IncomeStartDateExit', 'IncomeEndDateExit']]"
   ]
  },
  {
   "cell_type": "code",
   "execution_count": 340,
   "metadata": {},
   "outputs": [],
   "source": [
    "# Filter out the rows with incomes\n",
    "temp = pd.DataFrame(columns=incomeExit2.columns)\n",
    "clientID = set(incomeExit2.ClientID)\n",
    "clientID = [*clientID, ] \n",
    "\n",
    "for id in clientID:\n",
    "    subdat = incomeExit2[incomeExit2.ClientID==id]\n",
    "    subdat = pd.DataFrame(subdat)\n",
    "    select_indices = list(np.where(subdat[\"IncomeExit\"] == \"Yes\")[0])\n",
    "    if len(select_indices)>0:\n",
    "        temp = temp.append(subdat.iloc[select_indices])\n",
    "        \n",
    "temp = temp.reset_index()\n",
    "incomeExit2 = temp"
   ]
  },
  {
   "cell_type": "code",
   "execution_count": 341,
   "metadata": {},
   "outputs": [],
   "source": [
    "incomeExit2_noindex = incomeExit2[incomeExit2.columns.difference(['Index','index'])]\n",
    "incomeExit2_unq = incomeExit2_noindex.drop_duplicates()\n",
    "incomeExit2 = incomeExit2_unq"
   ]
  },
  {
   "cell_type": "markdown",
   "metadata": {},
   "source": [
    "# Noncash Dataset"
   ]
  },
  {
   "cell_type": "code",
   "execution_count": 342,
   "metadata": {},
   "outputs": [],
   "source": [
    "noncashEntry = pd.read_csv(\"/Users/jieun/github_updated/bios611-projects-fall-2019-jennprk/project_3/data/NONCASH_ENTRY_191102.tsv\", sep='\\t')"
   ]
  },
  {
   "cell_type": "code",
   "execution_count": 343,
   "metadata": {
    "scrolled": true
   },
   "outputs": [
    {
     "name": "stdout",
     "output_type": "stream",
     "text": [
      "EE Provider ID\n",
      "EE UID\n",
      "Client Unique ID\n",
      "Client ID\n",
      "Receiving Benefit (Entry)\n",
      "Non-Cash Source (Entry)\n",
      "Non-Cash Start Date (Entry)\n",
      "Non-Cash End Date (Entry)\n",
      "Recordset ID (2704-recordset_id)\n",
      "Provider (2704-provider)\n",
      "Date Added (2704-date_added)\n"
     ]
    }
   ],
   "source": [
    "# Check the original column names and change to neater version\n",
    "for col in noncashEntry.columns: \n",
    "    print(col) \n",
    "    \n",
    "noncashEntry.columns = ['provider','EUID','CUID', 'ClientID','ReceivingBenefitEntry','NoncashSourceEntry','NoncashStartDateEntry','NoncashEndDateEntry','recordsetID','ProviderID','dateadded']\n"
   ]
  },
  {
   "cell_type": "code",
   "execution_count": 344,
   "metadata": {},
   "outputs": [
    {
     "data": {
      "text/html": [
       "<div>\n",
       "<style scoped>\n",
       "    .dataframe tbody tr th:only-of-type {\n",
       "        vertical-align: middle;\n",
       "    }\n",
       "\n",
       "    .dataframe tbody tr th {\n",
       "        vertical-align: top;\n",
       "    }\n",
       "\n",
       "    .dataframe thead th {\n",
       "        text-align: right;\n",
       "    }\n",
       "</style>\n",
       "<table border=\"1\" class=\"dataframe\">\n",
       "  <thead>\n",
       "    <tr style=\"text-align: right;\">\n",
       "      <th></th>\n",
       "      <th>ClientID</th>\n",
       "      <th>ReceivingBenefitEntry</th>\n",
       "      <th>NoncashSourceEntry</th>\n",
       "      <th>NoncashStartDateEntry</th>\n",
       "      <th>NoncashEndDateEntry</th>\n",
       "    </tr>\n",
       "  </thead>\n",
       "  <tbody>\n",
       "    <tr>\n",
       "      <th>0</th>\n",
       "      <td>397941</td>\n",
       "      <td>No</td>\n",
       "      <td>Other Source (HUD)</td>\n",
       "      <td>4/20/2015</td>\n",
       "      <td>NaN</td>\n",
       "    </tr>\n",
       "    <tr>\n",
       "      <th>1</th>\n",
       "      <td>397941</td>\n",
       "      <td>No</td>\n",
       "      <td>Other TANF-Funded Services (HUD)</td>\n",
       "      <td>4/20/2015</td>\n",
       "      <td>NaN</td>\n",
       "    </tr>\n",
       "    <tr>\n",
       "      <th>2</th>\n",
       "      <td>397941</td>\n",
       "      <td>No</td>\n",
       "      <td>Section 8, Public Housing, or other ongoing re...</td>\n",
       "      <td>4/20/2015</td>\n",
       "      <td>NaN</td>\n",
       "    </tr>\n",
       "    <tr>\n",
       "      <th>3</th>\n",
       "      <td>397941</td>\n",
       "      <td>No</td>\n",
       "      <td>Special Supplemental Nutrition Program for WIC...</td>\n",
       "      <td>4/20/2015</td>\n",
       "      <td>NaN</td>\n",
       "    </tr>\n",
       "    <tr>\n",
       "      <th>4</th>\n",
       "      <td>397941</td>\n",
       "      <td>No</td>\n",
       "      <td>TANF Child Care Services (HUD)</td>\n",
       "      <td>4/20/2015</td>\n",
       "      <td>NaN</td>\n",
       "    </tr>\n",
       "  </tbody>\n",
       "</table>\n",
       "</div>"
      ],
      "text/plain": [
       "   ClientID ReceivingBenefitEntry  \\\n",
       "0    397941                    No   \n",
       "1    397941                    No   \n",
       "2    397941                    No   \n",
       "3    397941                    No   \n",
       "4    397941                    No   \n",
       "\n",
       "                                  NoncashSourceEntry NoncashStartDateEntry  \\\n",
       "0                                 Other Source (HUD)             4/20/2015   \n",
       "1                   Other TANF-Funded Services (HUD)             4/20/2015   \n",
       "2  Section 8, Public Housing, or other ongoing re...             4/20/2015   \n",
       "3  Special Supplemental Nutrition Program for WIC...             4/20/2015   \n",
       "4                     TANF Child Care Services (HUD)             4/20/2015   \n",
       "\n",
       "  NoncashEndDateEntry  \n",
       "0                 NaN  \n",
       "1                 NaN  \n",
       "2                 NaN  \n",
       "3                 NaN  \n",
       "4                 NaN  "
      ]
     },
     "execution_count": 344,
     "metadata": {},
     "output_type": "execute_result"
    }
   ],
   "source": [
    "# Filter the variables of interest\n",
    "noncashEntry2 = noncashEntry[['ClientID','ReceivingBenefitEntry','NoncashSourceEntry','NoncashStartDateEntry', 'NoncashEndDateEntry']]\n",
    "noncashEntry2.head()"
   ]
  },
  {
   "cell_type": "code",
   "execution_count": 345,
   "metadata": {},
   "outputs": [],
   "source": [
    "# Filter out the rows with incomes\n",
    "temp = pd.DataFrame(columns=noncashEntry2.columns)\n",
    "clientID = set(noncashEntry2.ClientID)\n",
    "clientID = [*clientID, ] \n",
    "\n",
    "for id in clientID:\n",
    "    subdat = noncashEntry2[noncashEntry2.ClientID==id]\n",
    "    subdat = pd.DataFrame(subdat)\n",
    "    select_indices = list(np.where(subdat[\"ReceivingBenefitEntry\"] == \"Yes\")[0])\n",
    "    if len(select_indices)>0:\n",
    "        temp = temp.append(subdat.iloc[select_indices])\n",
    "        \n",
    "temp = temp.reset_index()\n",
    "noncashEntry2 = temp"
   ]
  },
  {
   "cell_type": "code",
   "execution_count": 346,
   "metadata": {},
   "outputs": [],
   "source": [
    "noncashEntry2_noindex = noncashEntry2[noncashEntry2.columns.difference(['index'])]\n",
    "noncashEntry2_unq = noncashEntry2_noindex.drop_duplicates()\n",
    "noncashEntry2 = noncashEntry2_unq"
   ]
  },
  {
   "cell_type": "code",
   "execution_count": 347,
   "metadata": {},
   "outputs": [],
   "source": [
    "# Non-cash Exit\n",
    "noncashExit = pd.read_csv(\"/Users/jieun/github_updated/bios611-projects-fall-2019-jennprk/project_3/data/NONCASH_EXIT_191102.tsv\", sep='\\t')"
   ]
  },
  {
   "cell_type": "code",
   "execution_count": 348,
   "metadata": {},
   "outputs": [
    {
     "name": "stdout",
     "output_type": "stream",
     "text": [
      "EE Provider\n",
      "EE UID\n",
      "Client Unique ID\n",
      "Client ID\n",
      "Receiving Benefit (Exit)\n",
      "Non-Cash Source (Exit)\n",
      "Non-Cash Start Date (Exit)\n",
      "Non-Cash End Date (Exit)\n",
      "Recordset ID (2704-recordset_id)\n",
      "Provider (2704-provider)\n",
      "Date Added (2704-date_added)\n"
     ]
    }
   ],
   "source": [
    "# Check the original column names and change to neater version\n",
    "for col in noncashExit.columns: \n",
    "    print(col) \n",
    "    \n",
    "noncashExit.columns = ['provider','EUID','CUID', 'ClientID','ReceivingBenefitExit','NoncashSourceExit','c','NoncashEndDateExit','recordsetID','ProviderID','dateadded']\n"
   ]
  },
  {
   "cell_type": "code",
   "execution_count": 349,
   "metadata": {},
   "outputs": [],
   "source": [
    "# Filter the variables of interest\n",
    "noncashExit2 = noncashExit[['ClientID','ReceivingBenefitExit','NoncashSourceExit','NoncashSourceExit','NoncashSourceExit', 'NoncashEndDateExit']]"
   ]
  },
  {
   "cell_type": "code",
   "execution_count": 350,
   "metadata": {},
   "outputs": [],
   "source": [
    "# Filter out the rows with incomes\n",
    "temp = pd.DataFrame(columns=noncashExit2.columns)\n",
    "clientID = set(noncashExit2.ClientID)\n",
    "clientID = [*clientID, ] \n",
    "\n",
    "for id in clientID:\n",
    "    subdat = noncashExit2[noncashExit2.ClientID==id]\n",
    "    subdat = pd.DataFrame(subdat)\n",
    "    select_indices = list(np.where(subdat[\"ReceivingBenefitExit\"] == \"Yes\")[0])\n",
    "    if len(select_indices)>0:\n",
    "        temp = temp.append(subdat.iloc[select_indices])\n",
    "        \n",
    "temp = temp.reset_index()\n",
    "noncashExit2 = temp"
   ]
  },
  {
   "cell_type": "code",
   "execution_count": 351,
   "metadata": {},
   "outputs": [],
   "source": [
    "noncashExit2_noindex = noncashExit2[noncashExit2.columns.difference(['Index','index'])]\n",
    "noncashExit2_unq = noncashExit2_noindex.drop_duplicates()\n",
    "noncashExit2 = noncashExit2_unq"
   ]
  },
  {
   "cell_type": "markdown",
   "metadata": {},
   "source": [
    "# Health Insurance Data"
   ]
  },
  {
   "cell_type": "code",
   "execution_count": 352,
   "metadata": {},
   "outputs": [],
   "source": [
    "# Health Insurnace Entry data\n",
    "HIEntry = pd.read_csv(\"/Users/jieun/github_updated/bios611-projects-fall-2019-jennprk/project_3/data/HEALTH_INS_ENTRY_191102.tsv\", sep='\\t')"
   ]
  },
  {
   "cell_type": "code",
   "execution_count": 353,
   "metadata": {},
   "outputs": [
    {
     "name": "stdout",
     "output_type": "stream",
     "text": [
      "EE Provider ID\n",
      "EE UID\n",
      "Client Unique ID\n",
      "Client ID\n",
      "Covered (Entry)\n",
      "Health Insurance Type (Entry)\n",
      "Health Insurance Start Date (Entry)\n",
      "Health Insurance End Date (Entry)\n",
      "Provider (4307-provider)\n",
      "Recordset ID (4307-recordset_id)\n",
      "Date Added (4307-date_added)\n"
     ]
    }
   ],
   "source": [
    "# Check the original column names and change to neater version\n",
    "for col in HIEntry.columns: \n",
    "    print(col) \n",
    "    \n",
    "HIEntry.columns = ['provider','EUID','CUID', 'ClientID','HIcoveredEntry','HItypeEntry','HIstartDateEntry','HIendDateEntry','provider', 'recordsetid', 'dateadded']"
   ]
  },
  {
   "cell_type": "code",
   "execution_count": 354,
   "metadata": {},
   "outputs": [],
   "source": [
    "# Filter the variables of interest\n",
    "HIEntry2 = HIEntry[['ClientID','HIcoveredEntry','HItypeEntry','HIstartDateEntry','HIendDateEntry']]"
   ]
  },
  {
   "cell_type": "code",
   "execution_count": 355,
   "metadata": {},
   "outputs": [],
   "source": [
    "# Filter out the rows with health insurance\n",
    "temp = pd.DataFrame(columns=HIEntry2.columns)\n",
    "clientID = set(HIEntry2.ClientID)\n",
    "clientID = [*clientID, ] \n",
    "\n",
    "for id in clientID:\n",
    "    subdat = HIEntry2[HIEntry2.ClientID==id]\n",
    "    subdat = pd.DataFrame(subdat)\n",
    "    select_indices = list(np.where(subdat[\"HIcoveredEntry\"] == \"Yes\")[0])\n",
    "    if len(select_indices)>0:\n",
    "        temp = temp.append(subdat.iloc[select_indices])\n",
    "        \n",
    "temp = temp.reset_index()\n",
    "HIEntry2 = temp"
   ]
  },
  {
   "cell_type": "code",
   "execution_count": 356,
   "metadata": {},
   "outputs": [],
   "source": [
    "HIEntry2_noindex = HIEntry2[HIEntry2.columns.difference(['Index','index'])]\n",
    "HIEntry2_unq = HIEntry2_noindex.drop_duplicates()\n",
    "HIEntry2 = HIEntry2_unq"
   ]
  },
  {
   "cell_type": "code",
   "execution_count": 357,
   "metadata": {},
   "outputs": [],
   "source": [
    "#Health Insurance Exit data\n",
    "HIExit = pd.read_csv(\"/Users/jieun/github_updated/bios611-projects-fall-2019-jennprk/project_3/data/HEALTH_INS_EXIT_191102.tsv\", sep='\\t')"
   ]
  },
  {
   "cell_type": "code",
   "execution_count": 358,
   "metadata": {},
   "outputs": [
    {
     "name": "stdout",
     "output_type": "stream",
     "text": [
      "EE Provider ID\n",
      "EE UID\n",
      "Client Unique ID\n",
      "Client ID\n",
      "Covered (Exit)\n",
      "Health Insurance Type (Exit)\n",
      "Health Insurance Start Date (Exit)\n",
      "Health Insurance End Date (Exit)\n",
      "Recordset ID (4307-recordset_id)\n",
      "Provider (4307-provider)\n",
      "Date Added (4307-date_added)\n"
     ]
    }
   ],
   "source": [
    "# Check the original column names and change to neater version\n",
    "for col in HIExit.columns: \n",
    "    print(col) \n",
    "    \n",
    "HIExit.columns = ['provider','EUID','CUID', 'ClientID','HIcoveredExit','HItypeExit','HIstartDateExit','HIendDateExit', 'recordsetid', 'provider','dateadded']"
   ]
  },
  {
   "cell_type": "code",
   "execution_count": 359,
   "metadata": {},
   "outputs": [],
   "source": [
    "# Filter the variables of interest\n",
    "HIExit2 = HIExit[['ClientID','HIcoveredExit','HItypeExit','HIstartDateExit','HIendDateExit']]"
   ]
  },
  {
   "cell_type": "code",
   "execution_count": 360,
   "metadata": {},
   "outputs": [],
   "source": [
    "# Filter out the rows with health insurance\n",
    "temp = pd.DataFrame(columns=HIExit2.columns)\n",
    "clientID = set(HIExit2.ClientID)\n",
    "clientID = [*clientID, ] \n",
    "\n",
    "for id in clientID:\n",
    "    subdat = HIExit2[HIExit2.ClientID==id]\n",
    "    subdat = pd.DataFrame(subdat)\n",
    "    select_indices = list(np.where(subdat[\"HIcoveredExit\"] == \"Yes\")[0])\n",
    "    if len(select_indices)>0:\n",
    "        temp = temp.append(subdat.iloc[select_indices])\n",
    "        \n",
    "temp = temp.reset_index()\n",
    "HIExit2 = temp"
   ]
  },
  {
   "cell_type": "code",
   "execution_count": 361,
   "metadata": {},
   "outputs": [],
   "source": [
    "HIExit2_noindex = HIExit2[HIExit2.columns.difference(['Index','index'])]\n",
    "HIExit2_unq = HIExit2_noindex.drop_duplicates()\n",
    "HIExit2 = HIExit2_unq"
   ]
  },
  {
   "cell_type": "markdown",
   "metadata": {},
   "source": [
    "# Disability Data"
   ]
  },
  {
   "cell_type": "code",
   "execution_count": 362,
   "metadata": {},
   "outputs": [],
   "source": [
    "# Disability Entry data\n",
    "DisEntry = pd.read_csv(\"/Users/jieun/github_updated/bios611-projects-fall-2019-jennprk/project_3/data/DISABILITY_ENTRY_191102.tsv\", sep='\\t')"
   ]
  },
  {
   "cell_type": "code",
   "execution_count": 363,
   "metadata": {},
   "outputs": [
    {
     "name": "stdout",
     "output_type": "stream",
     "text": [
      "EE Provider ID\n",
      "EE UID\n",
      "Client Unique ID\n",
      "Client ID\n",
      "Disability Determination (Entry)\n",
      "Disability Type (Entry)\n",
      "Disability Start Date (Entry)\n",
      "Disability End Date (Entry)\n",
      "Provider (417-provider)\n",
      "Recordset ID (417-recordset_id)\n",
      "Date Added (417-date_added)\n"
     ]
    }
   ],
   "source": [
    "# Check the original column names and change to neater version\n",
    "for col in DisEntry.columns: \n",
    "    print(col) \n",
    "    \n",
    "DisEntry.columns = ['provider','EUID','CUID', 'ClientID','DisabilityEntry', 'DisabilityTypeEntry', 'DisabilityStartDateEntry','DisabilityEndDateEntry', 'provider','recordsetid','dateadded']"
   ]
  },
  {
   "cell_type": "code",
   "execution_count": 364,
   "metadata": {},
   "outputs": [
    {
     "data": {
      "text/html": [
       "<div>\n",
       "<style scoped>\n",
       "    .dataframe tbody tr th:only-of-type {\n",
       "        vertical-align: middle;\n",
       "    }\n",
       "\n",
       "    .dataframe tbody tr th {\n",
       "        vertical-align: top;\n",
       "    }\n",
       "\n",
       "    .dataframe thead th {\n",
       "        text-align: right;\n",
       "    }\n",
       "</style>\n",
       "<table border=\"1\" class=\"dataframe\">\n",
       "  <thead>\n",
       "    <tr style=\"text-align: right;\">\n",
       "      <th></th>\n",
       "      <th>ClientID</th>\n",
       "      <th>DisabilityEntry</th>\n",
       "      <th>DisabilityStartDateEntry</th>\n",
       "      <th>DisabilityEndDateEntry</th>\n",
       "    </tr>\n",
       "  </thead>\n",
       "  <tbody>\n",
       "    <tr>\n",
       "      <th>0</th>\n",
       "      <td>397941</td>\n",
       "      <td>No (HUD)</td>\n",
       "      <td>4/20/2015</td>\n",
       "      <td>NaN</td>\n",
       "    </tr>\n",
       "    <tr>\n",
       "      <th>1</th>\n",
       "      <td>397941</td>\n",
       "      <td>No (HUD)</td>\n",
       "      <td>4/20/2015</td>\n",
       "      <td>NaN</td>\n",
       "    </tr>\n",
       "    <tr>\n",
       "      <th>2</th>\n",
       "      <td>397941</td>\n",
       "      <td>No (HUD)</td>\n",
       "      <td>4/20/2015</td>\n",
       "      <td>NaN</td>\n",
       "    </tr>\n",
       "    <tr>\n",
       "      <th>3</th>\n",
       "      <td>397941</td>\n",
       "      <td>No (HUD)</td>\n",
       "      <td>4/20/2015</td>\n",
       "      <td>NaN</td>\n",
       "    </tr>\n",
       "    <tr>\n",
       "      <th>4</th>\n",
       "      <td>397941</td>\n",
       "      <td>No (HUD)</td>\n",
       "      <td>4/20/2015</td>\n",
       "      <td>NaN</td>\n",
       "    </tr>\n",
       "  </tbody>\n",
       "</table>\n",
       "</div>"
      ],
      "text/plain": [
       "   ClientID DisabilityEntry DisabilityStartDateEntry DisabilityEndDateEntry\n",
       "0    397941        No (HUD)                4/20/2015                    NaN\n",
       "1    397941        No (HUD)                4/20/2015                    NaN\n",
       "2    397941        No (HUD)                4/20/2015                    NaN\n",
       "3    397941        No (HUD)                4/20/2015                    NaN\n",
       "4    397941        No (HUD)                4/20/2015                    NaN"
      ]
     },
     "execution_count": 364,
     "metadata": {},
     "output_type": "execute_result"
    }
   ],
   "source": [
    "DisEntry2 = DisEntry[['ClientID','DisabilityEntry','DisabilityStartDateEntry','DisabilityEndDateEntry']]\n",
    "DisEntry2.head()"
   ]
  },
  {
   "cell_type": "code",
   "execution_count": 365,
   "metadata": {},
   "outputs": [],
   "source": [
    "# Filter out the rows with health insurance\n",
    "temp = pd.DataFrame(columns=DisEntry2.columns)\n",
    "clientID = set(DisEntry2.ClientID)\n",
    "clientID = [*clientID, ] \n",
    "\n",
    "for id in clientID:\n",
    "    subdat = DisEntry2[DisEntry2.ClientID==id]\n",
    "    subdat = pd.DataFrame(subdat)\n",
    "    select_indices = list(np.where(subdat[\"DisabilityEntry\"] == \"Yes (HUD)\")[0])\n",
    "    if len(select_indices)>0:\n",
    "        temp = temp.append(subdat.iloc[select_indices])\n",
    "        \n",
    "temp = temp.reset_index()\n",
    "DisEntry2 = temp"
   ]
  },
  {
   "cell_type": "code",
   "execution_count": 366,
   "metadata": {},
   "outputs": [],
   "source": [
    "DisEntry2_noindex = DisEntry2[DisEntry2.columns.difference(['Index','index'])]\n",
    "DisEntry2_unq = DisEntry2_noindex.drop_duplicates()\n",
    "DisEntry2 = DisEntry2_unq"
   ]
  },
  {
   "cell_type": "code",
   "execution_count": 367,
   "metadata": {},
   "outputs": [],
   "source": [
    "# Disability Entry data\n",
    "DisExit = pd.read_csv(\"/Users/jieun/github_updated/bios611-projects-fall-2019-jennprk/project_3/data/DISABILITY_EXIT_191102.tsv\", sep='\\t')"
   ]
  },
  {
   "cell_type": "code",
   "execution_count": 368,
   "metadata": {},
   "outputs": [
    {
     "name": "stdout",
     "output_type": "stream",
     "text": [
      "EE Provider ID\n",
      "EE UID\n",
      "Client Unique ID\n",
      "Client ID\n",
      "Disability Determination (Exit)\n",
      "Disability Type (Exit)\n",
      "Disability Start Date (Exit)\n",
      "Disability End Date (Exit)\n",
      "Provider (417-provider)\n",
      "Recordset ID (417-recordset_id)\n",
      "Date Added (417-date_added)\n"
     ]
    }
   ],
   "source": [
    "# Check the original column names and change to neater version\n",
    "for col in DisExit.columns: \n",
    "    print(col) \n",
    "    \n",
    "DisExit.columns = ['provider','EUID','CUID', 'ClientID','DisabilityExit', 'DisabilityTypeExit', 'DisabilityStartDateExit','DisabilityEndDateExit', 'provider','recordsetid','dateadded']"
   ]
  },
  {
   "cell_type": "code",
   "execution_count": 369,
   "metadata": {},
   "outputs": [],
   "source": [
    "DisExit2 = DisExit[['ClientID','DisabilityExit','DisabilityStartDateExit','DisabilityEndDateExit']]"
   ]
  },
  {
   "cell_type": "code",
   "execution_count": 370,
   "metadata": {},
   "outputs": [],
   "source": [
    "# Filter out the rows with health insurance\n",
    "temp = pd.DataFrame(columns=DisExit2.columns)\n",
    "clientID = set(DisExit2.ClientID)\n",
    "clientID = [*clientID, ] \n",
    "\n",
    "for id in clientID:\n",
    "    subdat = DisExit2[DisExit2.ClientID==id]\n",
    "    subdat = pd.DataFrame(subdat)\n",
    "    select_indices = list(np.where(subdat[\"DisabilityExit\"] == \"Yes (HUD)\")[0])\n",
    "    if len(select_indices)>0:\n",
    "        temp = temp.append(subdat.iloc[select_indices])\n",
    "        \n",
    "temp = temp.reset_index()\n",
    "DisExit2 = temp"
   ]
  },
  {
   "cell_type": "code",
   "execution_count": 371,
   "metadata": {},
   "outputs": [],
   "source": [
    "DisExit2_noindex = DisExit2[DisExit2.columns.difference(['Index','index'])]\n",
    "DisExit2_unq = DisExit2_noindex.drop_duplicates()\n",
    "DisExit2 = DisExit2_unq"
   ]
  },
  {
   "cell_type": "markdown",
   "metadata": {},
   "source": [
    "# Entry and Exit dates"
   ]
  },
  {
   "cell_type": "code",
   "execution_count": 383,
   "metadata": {},
   "outputs": [],
   "source": [
    "EEdate = pd.read_csv(\"/Users/jieun/github_updated/bios611-projects-fall-2019-jennprk/project_3/data/ENTRY_EXIT_191102.tsv\", sep='\\t')"
   ]
  },
  {
   "cell_type": "code",
   "execution_count": 386,
   "metadata": {},
   "outputs": [
    {
     "name": "stdout",
     "output_type": "stream",
     "text": [
      "provider\n",
      "EUID\n",
      "CUID\n",
      "ClientID\n",
      "EEgroupID\n",
      "EEhouseholdID\n",
      "unnamed6\n",
      "EntryDate\n",
      "moveindate\n",
      "ExitDate\n",
      "Destination\n",
      "ReasonforLeaving\n",
      "EEtype\n",
      "EEadded\n",
      "EEupdatedDate\n"
     ]
    },
    {
     "data": {
      "text/html": [
       "<div>\n",
       "<style scoped>\n",
       "    .dataframe tbody tr th:only-of-type {\n",
       "        vertical-align: middle;\n",
       "    }\n",
       "\n",
       "    .dataframe tbody tr th {\n",
       "        vertical-align: top;\n",
       "    }\n",
       "\n",
       "    .dataframe thead th {\n",
       "        text-align: right;\n",
       "    }\n",
       "</style>\n",
       "<table border=\"1\" class=\"dataframe\">\n",
       "  <thead>\n",
       "    <tr style=\"text-align: right;\">\n",
       "      <th></th>\n",
       "      <th>provider</th>\n",
       "      <th>EUID</th>\n",
       "      <th>CUID</th>\n",
       "      <th>ClientID</th>\n",
       "      <th>EEgroupID</th>\n",
       "      <th>EEhouseholdID</th>\n",
       "      <th>unnamed6</th>\n",
       "      <th>EntryDate</th>\n",
       "      <th>moveindate</th>\n",
       "      <th>ExitDate</th>\n",
       "      <th>Destination</th>\n",
       "      <th>ReasonforLeaving</th>\n",
       "      <th>EEtype</th>\n",
       "      <th>EEadded</th>\n",
       "      <th>EEupdatedDate</th>\n",
       "    </tr>\n",
       "  </thead>\n",
       "  <tbody>\n",
       "    <tr>\n",
       "      <th>0</th>\n",
       "      <td>Urban Ministries of Durham - Durham County - S...</td>\n",
       "      <td>687901</td>\n",
       "      <td>pbkf09291954p610b236</td>\n",
       "      <td>397941</td>\n",
       "      <td>NaN</td>\n",
       "      <td>NaN</td>\n",
       "      <td>NaN</td>\n",
       "      <td>8/15/2015</td>\n",
       "      <td>4/20/2015</td>\n",
       "      <td>7/11/2016</td>\n",
       "      <td>Rental by client, with other ongoing housing s...</td>\n",
       "      <td>Completed program</td>\n",
       "      <td>HUD</td>\n",
       "      <td>8/19/2015</td>\n",
       "      <td>7/20/2016</td>\n",
       "    </tr>\n",
       "    <tr>\n",
       "      <th>1</th>\n",
       "      <td>Urban Ministries of Durham - Durham County - S...</td>\n",
       "      <td>687902</td>\n",
       "      <td>kdaf01071967k400d635</td>\n",
       "      <td>130335</td>\n",
       "      <td>NaN</td>\n",
       "      <td>NaN</td>\n",
       "      <td>NaN</td>\n",
       "      <td>8/15/2015</td>\n",
       "      <td>NaN</td>\n",
       "      <td>8/31/2015</td>\n",
       "      <td>Data not collected (HUD)</td>\n",
       "      <td>Needs could not be met</td>\n",
       "      <td>HUD</td>\n",
       "      <td>8/19/2015</td>\n",
       "      <td>9/3/2015</td>\n",
       "    </tr>\n",
       "    <tr>\n",
       "      <th>2</th>\n",
       "      <td>Urban Ministries of Durham - Durham County - S...</td>\n",
       "      <td>687903</td>\n",
       "      <td>smrf06211973s620m640</td>\n",
       "      <td>188933</td>\n",
       "      <td>NaN</td>\n",
       "      <td>NaN</td>\n",
       "      <td>NaN</td>\n",
       "      <td>8/15/2015</td>\n",
       "      <td>NaN</td>\n",
       "      <td>9/19/2015</td>\n",
       "      <td>Staying or living with friends, temporary tenu...</td>\n",
       "      <td>Other</td>\n",
       "      <td>HUD</td>\n",
       "      <td>8/19/2015</td>\n",
       "      <td>9/22/2015</td>\n",
       "    </tr>\n",
       "    <tr>\n",
       "      <th>3</th>\n",
       "      <td>Urban Ministries of Durham - Durham County - S...</td>\n",
       "      <td>687904</td>\n",
       "      <td>abrm07251958a416b600</td>\n",
       "      <td>168290</td>\n",
       "      <td>NaN</td>\n",
       "      <td>NaN</td>\n",
       "      <td>NaN</td>\n",
       "      <td>8/15/2015</td>\n",
       "      <td>NaN</td>\n",
       "      <td>3/7/2016</td>\n",
       "      <td>Hospital or other residential non-psychiatric ...</td>\n",
       "      <td>Other</td>\n",
       "      <td>HUD</td>\n",
       "      <td>8/19/2015</td>\n",
       "      <td>3/8/2016</td>\n",
       "    </tr>\n",
       "    <tr>\n",
       "      <th>4</th>\n",
       "      <td>Urban Ministries of Durham - Durham County - S...</td>\n",
       "      <td>687905</td>\n",
       "      <td>wbom01251964w450b620</td>\n",
       "      <td>123122</td>\n",
       "      <td>NaN</td>\n",
       "      <td>NaN</td>\n",
       "      <td>NaN</td>\n",
       "      <td>8/15/2015</td>\n",
       "      <td>NaN</td>\n",
       "      <td>8/24/2015</td>\n",
       "      <td>Staying or living with friends, temporary tenu...</td>\n",
       "      <td>Other</td>\n",
       "      <td>HUD</td>\n",
       "      <td>8/19/2015</td>\n",
       "      <td>8/25/2015</td>\n",
       "    </tr>\n",
       "  </tbody>\n",
       "</table>\n",
       "</div>"
      ],
      "text/plain": [
       "                                            provider    EUID  \\\n",
       "0  Urban Ministries of Durham - Durham County - S...  687901   \n",
       "1  Urban Ministries of Durham - Durham County - S...  687902   \n",
       "2  Urban Ministries of Durham - Durham County - S...  687903   \n",
       "3  Urban Ministries of Durham - Durham County - S...  687904   \n",
       "4  Urban Ministries of Durham - Durham County - S...  687905   \n",
       "\n",
       "                   CUID  ClientID  EEgroupID  EEhouseholdID  unnamed6  \\\n",
       "0  pbkf09291954p610b236    397941        NaN            NaN       NaN   \n",
       "1  kdaf01071967k400d635    130335        NaN            NaN       NaN   \n",
       "2  smrf06211973s620m640    188933        NaN            NaN       NaN   \n",
       "3  abrm07251958a416b600    168290        NaN            NaN       NaN   \n",
       "4  wbom01251964w450b620    123122        NaN            NaN       NaN   \n",
       "\n",
       "   EntryDate moveindate   ExitDate  \\\n",
       "0  8/15/2015  4/20/2015  7/11/2016   \n",
       "1  8/15/2015        NaN  8/31/2015   \n",
       "2  8/15/2015        NaN  9/19/2015   \n",
       "3  8/15/2015        NaN   3/7/2016   \n",
       "4  8/15/2015        NaN  8/24/2015   \n",
       "\n",
       "                                         Destination        ReasonforLeaving  \\\n",
       "0  Rental by client, with other ongoing housing s...       Completed program   \n",
       "1                           Data not collected (HUD)  Needs could not be met   \n",
       "2  Staying or living with friends, temporary tenu...                   Other   \n",
       "3  Hospital or other residential non-psychiatric ...                   Other   \n",
       "4  Staying or living with friends, temporary tenu...                   Other   \n",
       "\n",
       "  EEtype    EEadded EEupdatedDate  \n",
       "0    HUD  8/19/2015     7/20/2016  \n",
       "1    HUD  8/19/2015      9/3/2015  \n",
       "2    HUD  8/19/2015     9/22/2015  \n",
       "3    HUD  8/19/2015      3/8/2016  \n",
       "4    HUD  8/19/2015     8/25/2015  "
      ]
     },
     "execution_count": 386,
     "metadata": {},
     "output_type": "execute_result"
    }
   ],
   "source": [
    "# Check the original column names and change to neater version\n",
    "for col in EEdate.columns: \n",
    "    print(col) \n",
    "    \n",
    "EEdate.columns = ['provider','EUID','CUID', 'ClientID','EEgroupID', 'EEhouseholdID', 'unnamed6','EntryDate', 'moveindate','ExitDate','Destination', 'ReasonforLeaving', 'EEtype',\"EEadded\",'EEupdatedDate']"
   ]
  },
  {
   "cell_type": "code",
   "execution_count": 387,
   "metadata": {},
   "outputs": [],
   "source": [
    "EEdate2 = EEdate[['ClientID','EntryDate','moveindate','ExitDate','ReasonforLeaving']]"
   ]
  },
  {
   "cell_type": "markdown",
   "metadata": {},
   "source": [
    "# Merge Datasets"
   ]
  },
  {
   "cell_type": "code",
   "execution_count": 372,
   "metadata": {},
   "outputs": [],
   "source": [
    "final_dat = client2.merge(incomeEntry2, on=['ClientID'], how='left')"
   ]
  },
  {
   "cell_type": "code",
   "execution_count": 373,
   "metadata": {},
   "outputs": [],
   "source": [
    "final_dat = final_dat.merge(incomeExit2, on=['ClientID'], how='left')"
   ]
  },
  {
   "cell_type": "code",
   "execution_count": 374,
   "metadata": {},
   "outputs": [],
   "source": [
    "final_dat = final_dat.merge(noncashEntry2, on=['ClientID'], how='left')"
   ]
  },
  {
   "cell_type": "code",
   "execution_count": 375,
   "metadata": {},
   "outputs": [],
   "source": [
    "final_dat = final_dat.merge(noncashExit2, on=['ClientID'], how='left')"
   ]
  },
  {
   "cell_type": "code",
   "execution_count": 376,
   "metadata": {},
   "outputs": [],
   "source": [
    "final_dat = final_dat.merge(HIEntry2, on=['ClientID'], how='left')"
   ]
  },
  {
   "cell_type": "code",
   "execution_count": 377,
   "metadata": {},
   "outputs": [],
   "source": [
    "final_dat = final_dat.merge(HIExit2, on=['ClientID'], how='left')"
   ]
  },
  {
   "cell_type": "code",
   "execution_count": 378,
   "metadata": {},
   "outputs": [],
   "source": [
    "final_dat = final_dat.merge(DisEntry2, on=['ClientID'], how='left')"
   ]
  },
  {
   "cell_type": "code",
   "execution_count": 379,
   "metadata": {},
   "outputs": [],
   "source": [
    "final_dat = final_dat.merge(DisExit2, on=['ClientID'], how='left')"
   ]
  },
  {
   "cell_type": "code",
   "execution_count": 389,
   "metadata": {},
   "outputs": [],
   "source": [
    "final_dat = final_dat.merge(EEdate2, on=['ClientID'], how='left')"
   ]
  },
  {
   "cell_type": "code",
   "execution_count": 390,
   "metadata": {},
   "outputs": [],
   "source": [
    "final_dat.to_csv(\"../data/final.csv\") # Save final data for visualization and statistical analysis in R"
   ]
  },
  {
   "cell_type": "code",
   "execution_count": 381,
   "metadata": {},
   "outputs": [],
   "source": [
    "# Save individual files\n",
    "# client2.to_csv(\"../data/client2.csv\")\n",
    "# incomeEntry2.to_csv(\"../data/incomeEntry2.csv\")\n",
    "# incomeExit2.to_csv(\"../data/incomeExit2.csv\")\n",
    "# HIEntry2.to_csv(\"../data/HIEntry2.csv\")\n",
    "# HIExit2.to_csv(\"../data/HIExit2.csv\")\n",
    "# DisEntry2.to_csv(\"../data/DisEntry2.csv\")\n",
    "# DisExit2.to_csv(\"../data/DisExit2.csv\")"
   ]
  },
  {
   "cell_type": "code",
   "execution_count": null,
   "metadata": {},
   "outputs": [],
   "source": []
  }
 ],
 "metadata": {
  "kernelspec": {
   "display_name": "Python 3",
   "language": "python",
   "name": "python3"
  },
  "language_info": {
   "codemirror_mode": {
    "name": "ipython",
    "version": 3
   },
   "file_extension": ".py",
   "mimetype": "text/x-python",
   "name": "python",
   "nbconvert_exporter": "python",
   "pygments_lexer": "ipython3",
   "version": "3.6.4"
  }
 },
 "nbformat": 4,
 "nbformat_minor": 2
}
